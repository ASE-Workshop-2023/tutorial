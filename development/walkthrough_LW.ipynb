{
 "cells": [
  {
   "cell_type": "code",
   "execution_count": 1,
   "id": "79521bae",
   "metadata": {},
   "outputs": [],
   "source": [
    "from ase import Atoms\n",
    "\n",
    "d = 1.10\n",
    "molecule = Atoms(['N', 'N'], positions=[(0., 0., 0.), (0., 0., d)])"
   ]
  },
  {
   "cell_type": "code",
   "execution_count": 2,
   "id": "212783b1",
   "metadata": {},
   "outputs": [],
   "source": [
    "molecule = Atoms('N2', positions=[(0., 0., 0.), (0., 0., d)])"
   ]
  },
  {
   "cell_type": "code",
   "execution_count": 3,
   "id": "1c6461a3",
   "metadata": {},
   "outputs": [
    {
     "data": {
      "text/plain": [
       "<Popen: returncode: None args: ['/Users/mynf8/opt/miniconda3/envs/ase-tutori...>"
      ]
     },
     "execution_count": 3,
     "metadata": {},
     "output_type": "execute_result"
    }
   ],
   "source": [
    "from ase.visualize import view\n",
    "view(molecule)"
   ]
  },
  {
   "cell_type": "code",
   "execution_count": 10,
   "id": "0d89b1ca",
   "metadata": {},
   "outputs": [
    {
     "data": {
      "application/vnd.jupyter.widget-view+json": {
       "model_id": "22566031a25b412aab803f73b2049551",
       "version_major": 2,
       "version_minor": 0
      },
      "text/plain": [
       "NGLWidget()"
      ]
     },
     "metadata": {},
     "output_type": "display_data"
    },
    {
     "data": {
      "application/vnd.jupyter.widget-view+json": {
       "model_id": "ca83fc9903c5470aaa2111c9c5843ee6",
       "version_major": 2,
       "version_minor": 0
      },
      "text/plain": [
       "Tab(children=(Box(children=(Box(children=(Box(children=(Label(value='step'), IntSlider(value=1, min=-100)), la…"
      ]
     },
     "metadata": {},
     "output_type": "display_data"
    }
   ],
   "source": [
    "import nglview\n",
    "nglview.show_ase(molecule,gui=True)\n",
    "\n"
   ]
  },
  {
   "cell_type": "code",
   "execution_count": 61,
   "id": "7a7cc233",
   "metadata": {},
   "outputs": [
    {
     "data": {
      "text/plain": [
       "nglview.widget.NGLWidget"
      ]
     },
     "execution_count": 61,
     "metadata": {},
     "output_type": "execute_result"
    }
   ],
   "source": [
    "a = 5.387\n",
    "crystal = Atoms('Zn4S4',\n",
    "                scaled_positions=[[0., 0., 0.],\n",
    "                                  [0., 0.5, 0.5],\n",
    "                                  [0.5, 0., 0.5],\n",
    "                                  [0.5, 0.5, 0.],\n",
    "                                  [0.25, 0.75, 0.75],\n",
    "                                  [0.25, 0.25, 0.25],\n",
    "                                  [0.75, 0.75, 0.25],\n",
    "                                  [0.75, 0.25, 0.75]],\n",
    "               cell=[a, a, a],\n",
    "               pbc=True)\n",
    "\n",
    "def show(atoms: Atoms) -> None:    \n",
    "    view = nglview.show_ase(atoms)\n",
    "    if any(atoms.pbc):\n",
    "        view.add_unitcell()\n",
    "        view.add_ball_and_stick(aspectRatio=4)\n",
    "\n",
    "    return view\n",
    "\n",
    "type(show(crystal))"
   ]
  },
  {
   "cell_type": "code",
   "execution_count": 69,
   "id": "b853147f",
   "metadata": {},
   "outputs": [
    {
     "data": {
      "application/vnd.jupyter.widget-view+json": {
       "model_id": "b081d5eb46a44aa09acc9eadbfe83bc9",
       "version_major": 2,
       "version_minor": 0
      },
      "text/plain": [
       "NGLWidget()"
      ]
     },
     "metadata": {},
     "output_type": "display_data"
    }
   ],
   "source": [
    "a = 5.387\n",
    "crystal = Atoms('Zn4S4',\n",
    "                scaled_positions=[[0., 0., 0.],\n",
    "                           [0., 0.5, 0.5],\n",
    "                           [0.5, 0., 0.5],\n",
    "                           [0.5, 0.5, 0.],\n",
    "                           [0.25, 0.75, 0.75],\n",
    "                           [0.25, 0.25, 0.25],\n",
    "                           [0.75, 0.75, 0.25],\n",
    "                           [0.75, 0.25, 0.75]],\n",
    "               cell=[a, a, a],\n",
    "               pbc=True)\n",
    "\n",
    "def show(atoms: Atoms) -> nglview.widget.NGLWidget:    \n",
    "    view = nglview.show_ase(atoms)\n",
    "    if any(atoms.pbc):\n",
    "        view.add_unitcell()\n",
    "        view.add_ball_and_stick(aspectRatio=6)\n",
    "    return view\n",
    "\n",
    "show(crystal)"
   ]
  },
  {
   "cell_type": "code",
   "execution_count": 36,
   "id": "37a14242",
   "metadata": {},
   "outputs": [],
   "source": [
    "view.clear_representations()"
   ]
  },
  {
   "cell_type": "code",
   "execution_count": 37,
   "id": "28e851fb",
   "metadata": {},
   "outputs": [],
   "source": [
    "view.add_cartoon()"
   ]
  },
  {
   "cell_type": "code",
   "execution_count": 40,
   "id": "f362faa6",
   "metadata": {},
   "outputs": [
    {
     "data": {
      "application/vnd.jupyter.widget-view+json": {
       "model_id": "26eceb8808824fa298088113dc152405",
       "version_major": 2,
       "version_minor": 0
      },
      "text/plain": [
       "NGLWidget()"
      ]
     },
     "metadata": {},
     "output_type": "display_data"
    }
   ],
   "source": [
    "view"
   ]
  },
  {
   "cell_type": "code",
   "execution_count": 31,
   "id": "f40c9a0b",
   "metadata": {},
   "outputs": [
    {
     "data": {
      "image/png": "",
      "text/plain": [
       "<IPython.core.display.Image object>"
      ]
     },
     "execution_count": 31,
     "metadata": {},
     "output_type": "execute_result"
    }
   ],
   "source": [
    "view._display_image()"
   ]
  },
  {
   "cell_type": "code",
   "execution_count": null,
   "id": "f4da3c33",
   "metadata": {},
   "outputs": [],
   "source": []
  }
 ],
 "metadata": {
  "kernelspec": {
   "display_name": "Python 3 (ipykernel)",
   "language": "python",
   "name": "python3"
  },
  "language_info": {
   "codemirror_mode": {
    "name": "ipython",
    "version": 3
   },
   "file_extension": ".py",
   "mimetype": "text/x-python",
   "name": "python",
   "nbconvert_exporter": "python",
   "pygments_lexer": "ipython3",
   "version": "3.11.2"
  }
 },
 "nbformat": 4,
 "nbformat_minor": 5
}
