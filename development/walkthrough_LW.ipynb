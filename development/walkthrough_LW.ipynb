{
 "cells": [
  {
   "cell_type": "code",
   "execution_count": 1,
   "id": "79521bae",
   "metadata": {},
   "outputs": [],
   "source": [
    "from ase import Atoms\n",
    "\n",
    "d = 1.10\n",
    "molecule = Atoms(['N', 'N'], positions=[(0., 0., 0.), (0., 0., d)])"
   ]
  },
  {
   "cell_type": "code",
   "execution_count": 2,
   "id": "212783b1",
   "metadata": {},
   "outputs": [],
   "source": [
    "molecule = Atoms('N2', positions=[(0., 0., 0.), (0., 0., d)])"
   ]
  },
  {
   "cell_type": "code",
   "execution_count": 3,
   "id": "1c6461a3",
   "metadata": {},
   "outputs": [
    {
     "data": {
      "text/plain": [
       "<Popen: returncode: None args: ['/Users/lucy/miniconda3/envs/ase-tutorial/bi...>"
      ]
     },
     "execution_count": 3,
     "metadata": {},
     "output_type": "execute_result"
    }
   ],
   "source": [
    "from ase.visualize import view\n",
    "view(molecule)"
   ]
  },
  {
   "cell_type": "code",
   "execution_count": 4,
   "id": "0d89b1ca",
   "metadata": {},
   "outputs": [
    {
     "data": {
      "application/vnd.jupyter.widget-view+json": {
       "model_id": "6cea5cdf63aa44f3898c7d28e9b43dbb",
       "version_major": 2,
       "version_minor": 0
      },
      "text/plain": []
     },
     "metadata": {},
     "output_type": "display_data"
    },
    {
     "data": {
      "application/vnd.jupyter.widget-view+json": {
       "model_id": "91c3520195ab4fd5b595d66ee8435f4e",
       "version_major": 2,
       "version_minor": 0
      },
      "text/plain": [
       "NGLWidget()"
      ]
     },
     "metadata": {},
     "output_type": "display_data"
    },
    {
     "data": {
      "application/vnd.jupyter.widget-view+json": {
       "model_id": "c3734b055d1842bd960686303f9d7649",
       "version_major": 2,
       "version_minor": 0
      },
      "text/plain": [
       "Tab(children=(Box(children=(Box(children=(Box(children=(Label(value='step'), IntSlider(value=1, min=-100)), la…"
      ]
     },
     "metadata": {},
     "output_type": "display_data"
    }
   ],
   "source": [
    "import nglview\n",
    "nglview.show_ase(molecule,gui=True)\n",
    "\n"
   ]
  },
  {
   "cell_type": "code",
   "execution_count": 5,
   "id": "7a7cc233",
   "metadata": {},
   "outputs": [],
   "source": [
    "a = 5.387\n",
    "crystal = Atoms('Zn4S4',\n",
    "                scaled_positions=[[0., 0., 0.],\n",
    "                                  [0., 0.5, 0.5],\n",
    "                                  [0.5, 0., 0.5],\n",
    "                                  [0.5, 0.5, 0.],\n",
    "                                  [0.25, 0.75, 0.75],\n",
    "                                  [0.25, 0.25, 0.25],\n",
    "                                  [0.75, 0.75, 0.25],\n",
    "                                  [0.75, 0.25, 0.75]],\n",
    "               cell=[a, a, a],\n",
    "               pbc=True)\n",
    "\n",
    "def show(atoms: Atoms) -> None:    \n",
    "    view = nglview.show_ase(atoms)\n",
    "    if any(atoms.pbc):\n",
    "        view.add_unitcell()\n",
    "        view.add_ball_and_stick(aspectRatio=4)\n",
    "\n",
    "    return view\n",
    "\n"
   ]
  },
  {
   "cell_type": "code",
   "execution_count": 6,
   "id": "c8978822",
   "metadata": {},
   "outputs": [
    {
     "data": {
      "application/vnd.jupyter.widget-view+json": {
       "model_id": "15f936d1e0b24e4db920b5630cd43646",
       "version_major": 2,
       "version_minor": 0
      },
      "text/plain": [
       "NGLWidget()"
      ]
     },
     "metadata": {},
     "output_type": "display_data"
    }
   ],
   "source": [
    "a = 5.387\n",
    "crystal = Atoms('Zn4S4',\n",
    "                scaled_positions=[[0., 0., 0.],\n",
    "                           [0., 0.5, 0.5],\n",
    "                           [0.5, 0., 0.5],\n",
    "                           [0.5, 0.5, 0.],\n",
    "                           [0.25, 0.75, 0.75],\n",
    "                           [0.25, 0.25, 0.25],\n",
    "                           [0.75, 0.75, 0.25],\n",
    "                           [0.75, 0.25, 0.75]],\n",
    "               cell=[a, a, a],\n",
    "               pbc=True)\n",
    "\n",
    "def show(atoms: Atoms) -> nglview.widget.NGLWidget:    \n",
    "    view = nglview.show_ase(atoms)\n",
    "    if any(atoms.pbc):\n",
    "        view.add_unitcell()\n",
    "        view.add_ball_and_stick(aspectRatio=6)\n",
    "    return view\n",
    "\n",
    "show(crystal)"
   ]
  },
  {
   "cell_type": "code",
   "execution_count": 36,
   "id": "462a4c7b",
   "metadata": {},
   "outputs": [],
   "source": [
    "view.clear_representations()"
   ]
  },
  {
   "cell_type": "code",
   "execution_count": 37,
   "id": "bad0ae6a",
   "metadata": {},
   "outputs": [],
   "source": [
    "view.add_cartoon()"
   ]
  },
  {
   "cell_type": "code",
   "execution_count": 40,
   "id": "a8c02205",
   "metadata": {},
   "outputs": [
    {
     "data": {
      "application/vnd.jupyter.widget-view+json": {
       "model_id": "26eceb8808824fa298088113dc152405",
       "version_major": 2,
       "version_minor": 0
      },
      "text/plain": [
       "NGLWidget()"
      ]
     },
     "metadata": {},
     "output_type": "display_data"
    }
   ],
   "source": [
    "view"
   ]
  },
  {
   "cell_type": "code",
   "execution_count": 31,
   "id": "2e94782f",
   "metadata": {},
   "outputs": [
    {
     "data": {
      "image/png": "",
      "text/plain": [
       "<IPython.core.display.Image object>"
      ]
     },
     "execution_count": 31,
     "metadata": {},
     "output_type": "execute_result"
    }
   ],
   "source": [
    "view._display_image()"
   ]
  },
  {
   "cell_type": "code",
   "execution_count": 96,
   "id": "a94c380b",
   "metadata": {},
   "outputs": [
    {
     "data": {
      "text/plain": [
       "8"
      ]
     },
     "execution_count": 96,
     "metadata": {},
     "output_type": "execute_result"
    }
   ],
   "source": [
    "import ase.io\n",
    "from pathlib import Path\n",
    "\n",
    "imported_crystal = ase.io.read(\"../data/ZnS.cif\", format='cif')\n",
    "\n",
    "len(imported_crystal)\n",
    "\n"
   ]
  },
  {
   "cell_type": "code",
   "execution_count": 75,
   "id": "e86526da",
   "metadata": {},
   "outputs": [],
   "source": [
    "ase.io.write('geometry.in', imported_crystal, scaled=True)"
   ]
  },
  {
   "cell_type": "code",
   "execution_count": 76,
   "id": "91e7a243",
   "metadata": {},
   "outputs": [
    {
     "name": "stdout",
     "output_type": "stream",
     "text": [
      "#=======================================================\r\n",
      "# FHI-aims file: geometry.in\r\n",
      "# Created using the Atomic Simulation Environment (ASE)\r\n",
      "# Wed Apr 12 11:18:21 2023\r\n",
      "#=======================================================\r\n",
      "lattice_vector 5.3873657499999998 0.0000000000000000 0.0000000000000000 \r\n",
      "lattice_vector 0.0000000000000000 5.3873657499999998 0.0000000000000000 \r\n",
      "lattice_vector 0.0000000000000000 0.0000000000000000 5.3873657499999998 \r\n",
      "atom_frac 0.0000000000000000 0.0000000000000000 0.0000000000000000 Zn\r\n",
      "atom_frac 0.0000000000000000 0.5000000000000000 0.5000000000000000 Zn\r\n",
      "atom_frac 0.5000000000000000 0.0000000000000000 0.5000000000000000 Zn\r\n",
      "atom_frac 0.5000000000000000 0.5000000000000000 0.0000000000000000 Zn\r\n",
      "atom_frac 0.2500000000000000 0.7500000000000000 0.7500000000000000 S\r\n",
      "atom_frac 0.2500000000000000 0.2500000000000000 0.2500000000000000 S\r\n",
      "atom_frac 0.7500000000000000 0.7500000000000000 0.2500000000000000 S\r\n",
      "atom_frac 0.7500000000000000 0.2500000000000000 0.7500000000000000 S\r\n"
     ]
    }
   ],
   "source": [
    "cat geometry.in"
   ]
  },
  {
   "cell_type": "code",
   "execution_count": 77,
   "id": "0d54caed",
   "metadata": {},
   "outputs": [],
   "source": [
    "ase.io.write?\n"
   ]
  },
  {
   "cell_type": "code",
   "execution_count": 92,
   "id": "37d24f47",
   "metadata": {},
   "outputs": [],
   "source": [
    "atoms = imported_crystal\n",
    "\n",
    "atoms_sequence = []\n",
    "for frame in range(10):\n",
    "    atoms.rattle(stdev=0.02,seed=frame)  # rattle modifies the atoms in-place\n",
    "    atoms_sequence.append(atoms.copy())\n",
    "    \n",
    "ase.io.write('ZnS_rattle.xyz', atoms_sequence, format='extxyz')"
   ]
  },
  {
   "cell_type": "code",
   "execution_count": 102,
   "id": "7471704c",
   "metadata": {},
   "outputs": [
    {
     "data": {
      "text/plain": [
       "ase.atoms.Atoms"
      ]
     },
     "execution_count": 102,
     "metadata": {},
     "output_type": "execute_result"
    }
   ],
   "source": [
    "atoms_frame = ase.io.read('ZnS_rattle.xyz')\n",
    "\n",
    "type(atoms_frame)"
   ]
  },
  {
   "cell_type": "code",
   "execution_count": 103,
   "id": "2255c986",
   "metadata": {},
   "outputs": [],
   "source": [
    "atoms_alternating = ase.io.read('ZnS_rattle.xyz', index='::2')\n"
   ]
  },
  {
   "cell_type": "code",
   "execution_count": 104,
   "id": "5324b19a",
   "metadata": {},
   "outputs": [
    {
     "data": {
      "text/plain": [
       "list"
      ]
     },
     "execution_count": 104,
     "metadata": {},
     "output_type": "execute_result"
    }
   ],
   "source": [
    "type(atoms_alternating)"
   ]
  },
  {
   "cell_type": "code",
   "execution_count": 83,
   "id": "5d20c58c",
   "metadata": {},
   "outputs": [
    {
     "data": {
      "text/plain": [
       "list"
      ]
     },
     "execution_count": 83,
     "metadata": {},
     "output_type": "execute_result"
    }
   ],
   "source": [
    "type(atoms_alternating)"
   ]
  },
  {
   "cell_type": "code",
   "execution_count": 86,
   "id": "13574970",
   "metadata": {},
   "outputs": [
    {
     "data": {
      "text/plain": [
       "[2, 5]"
      ]
     },
     "execution_count": 86,
     "metadata": {},
     "output_type": "execute_result"
    }
   ],
   "source": [
    "[2,5,6][:2]"
   ]
  },
  {
   "cell_type": "code",
   "execution_count": 93,
   "id": "01b943a1",
   "metadata": {},
   "outputs": [
    {
     "name": "stderr",
     "output_type": "stream",
     "text": [
      "/Users/mynf8/.local/lib/python3.11/site-packages/ase/visualize/plot.py:59: UserWarning: You passed in an explicit save_count=100 which is being ignored in favor of len(frames)=10.\n",
      "  animation = FuncAnimation(fig, drawimage, frames=images,\n",
      "MovieWriter ffmpeg unavailable; using Pillow instead.\n"
     ]
    },
    {
     "data": {
      "image/png": "[encoded data removed]",
      "text/plain": [
       "<Figure size 640x480 with 1 Axes>"
      ]
     },
     "metadata": {},
     "output_type": "display_data"
    }
   ],
   "source": [
    "ase.io.write('rattle.gif', atoms_sequence)"
   ]
  },
  {
   "cell_type": "code",
   "execution_count": 106,
   "id": "a9c7766a",
   "metadata": {},
   "outputs": [
    {
     "data": {
      "application/vnd.jupyter.widget-view+json": {
       "model_id": "5f95469e7a194cb5a48d965c038f5893",
       "version_major": 2,
       "version_minor": 0
      },
      "text/plain": [
       "NGLWidget()"
      ]
     },
     "metadata": {},
     "output_type": "display_data"
    }
   ],
   "source": [
    "import ase.build\n",
    "g2_n2 = ase.build.molecule('N2')\n",
    "show(g2_n2)"
   ]
  },
  {
   "cell_type": "code",
   "execution_count": 107,
   "id": "a77185ba",
   "metadata": {},
   "outputs": [
    {
     "data": {
      "text/plain": [
       "ase.atoms.Atoms"
      ]
     },
     "execution_count": 107,
     "metadata": {},
     "output_type": "execute_result"
    }
   ],
   "source": [
    "type(g2_n2)"
   ]
  },
  {
   "cell_type": "code",
   "execution_count": 108,
   "id": "65f8fc2d",
   "metadata": {},
   "outputs": [
    {
     "data": {
      "application/vnd.jupyter.widget-view+json": {
       "model_id": "164bad0d23fc4189823feb06541bdc4f",
       "version_major": 2,
       "version_minor": 0
      },
      "text/plain": [
       "NGLWidget()"
      ]
     },
     "metadata": {},
     "output_type": "display_data"
    }
   ],
   "source": [
    "show(ase.build.molecule('C60'))"
   ]
  },
  {
   "cell_type": "code",
   "execution_count": 109,
   "id": "27a9eb5c",
   "metadata": {},
   "outputs": [
    {
     "data": {
      "application/vnd.jupyter.widget-view+json": {
       "model_id": "089bd76a5ac94d7794553bd1f68436f1",
       "version_major": 2,
       "version_minor": 0
      },
      "text/plain": [
       "NGLWidget()"
      ]
     },
     "metadata": {},
     "output_type": "display_data"
    }
   ],
   "source": [
    "show(ase.build.bulk('Cu', cubic=True))"
   ]
  },
  {
   "cell_type": "code",
   "execution_count": 110,
   "id": "5f9eba56",
   "metadata": {},
   "outputs": [
    {
     "data": {
      "application/vnd.jupyter.widget-view+json": {
       "model_id": "a0f06328c3a443e9a934b6c89eecfe59",
       "version_major": 2,
       "version_minor": 0
      },
      "text/plain": [
       "NGLWidget()"
      ]
     },
     "metadata": {},
     "output_type": "display_data"
    }
   ],
   "source": [
    "show(\n",
    "    ase.build.bulk('ZnS',\n",
    "                   crystalstructure='zincblende',\n",
    "                   a=5.387,\n",
    "                   cubic=True)\n",
    ")"
   ]
  },
  {
   "cell_type": "code",
   "execution_count": 111,
   "id": "f4495596",
   "metadata": {},
   "outputs": [
    {
     "data": {
      "application/vnd.jupyter.widget-view+json": {
       "model_id": "0deb00a13d3f40cd9e786beeb8705704",
       "version_major": 2,
       "version_minor": 0
      },
      "text/plain": [
       "NGLWidget()"
      ]
     },
     "metadata": {},
     "output_type": "display_data"
    }
   ],
   "source": [
    "si = ase.build.bulk('Si', cubic=True)\n",
    "show(si)\n"
   ]
  },
  {
   "cell_type": "code",
   "execution_count": 112,
   "id": "85752726",
   "metadata": {},
   "outputs": [
    {
     "data": {
      "application/vnd.jupyter.widget-view+json": {
       "model_id": "cca232e69c8d443aa8bd5f2a779d13cd",
       "version_major": 2,
       "version_minor": 0
      },
      "text/plain": [
       "NGLWidget()"
      ]
     },
     "metadata": {},
     "output_type": "display_data"
    }
   ],
   "source": [
    "show(si * 4)"
   ]
  },
  {
   "cell_type": "code",
   "execution_count": 113,
   "id": "775b8a59",
   "metadata": {},
   "outputs": [
    {
     "data": {
      "application/vnd.jupyter.widget-view+json": {
       "model_id": "3f64db00920a4beab28c0405382926a9",
       "version_major": 2,
       "version_minor": 0
      },
      "text/plain": [
       "NGLWidget()"
      ]
     },
     "metadata": {},
     "output_type": "display_data"
    }
   ],
   "source": [
    "show(si * [2, 4, 1])"
   ]
  },
  {
   "cell_type": "code",
   "execution_count": 114,
   "id": "03b5f35a",
   "metadata": {},
   "outputs": [
    {
     "ename": "NameError",
     "evalue": "name 'si_prim' is not defined",
     "output_type": "error",
     "traceback": [
      "\u001b[0;31m---------------------------------------------------------------------------\u001b[0m",
      "\u001b[0;31mNameError\u001b[0m                                 Traceback (most recent call last)",
      "Cell \u001b[0;32mIn[114], line 1\u001b[0m\n\u001b[0;32m----> 1\u001b[0m ase\u001b[38;5;241m.\u001b[39mbuild\u001b[38;5;241m.\u001b[39mfind_optimal_cell_shape(\u001b[43msi_prim\u001b[49m\u001b[38;5;241m.\u001b[39mcell, \u001b[38;5;241m4\u001b[39m, \u001b[38;5;124m'\u001b[39m\u001b[38;5;124msc\u001b[39m\u001b[38;5;124m'\u001b[39m, verbose\u001b[38;5;241m=\u001b[39m\u001b[38;5;28;01mTrue\u001b[39;00m)\n",
      "\u001b[0;31mNameError\u001b[0m: name 'si_prim' is not defined"
     ]
    }
   ],
   "source": [
    "ase.build.find_optimal_cell_shape(si_prim.cell, 4, 'sc', verbose=True)"
   ]
  },
  {
   "cell_type": "code",
   "execution_count": 122,
   "id": "0556303a",
   "metadata": {},
   "outputs": [
    {
     "data": {
      "text/plain": [
       "ase.cell.Cell"
      ]
     },
     "execution_count": 122,
     "metadata": {},
     "output_type": "execute_result"
    }
   ],
   "source": [
    "type(si_prim.cell)"
   ]
  },
  {
   "cell_type": "code",
   "execution_count": 120,
   "id": "75cc3f63",
   "metadata": {},
   "outputs": [
    {
     "name": "stdout",
     "output_type": "stream",
     "text": [
      "Cell([[0.0, 2.715, 2.715], [2.715, 0.0, 2.715], [2.715, 2.715, 0.0]])\n"
     ]
    }
   ],
   "source": [
    "si_prim = ase.build.bulk('Si')\n",
    "show(si_prim)\n",
    "print(si_prim.cell)"
   ]
  },
  {
   "cell_type": "code",
   "execution_count": 116,
   "id": "d9ee821e",
   "metadata": {},
   "outputs": [
    {
     "name": "stdout",
     "output_type": "stream",
     "text": [
      "target metric (h_target):\n",
      "[[1. 0. 0.]\n",
      " [0. 1. 0.]\n",
      " [0. 0. 1.]]\n",
      "normalization factor (Q): 0.184162\n",
      "idealized transformation matrix:\n",
      "[[-1.  1.  1.]\n",
      " [ 1. -1.  1.]\n",
      " [ 1.  1. -1.]]\n",
      "closest integer transformation matrix (P_0):\n",
      "[[-1  1  1]\n",
      " [ 1 -1  1]\n",
      " [ 1  1 -1]]\n",
      "smallest score (|Q P h_p - h_target|_2): 0.000000\n",
      "optimal transformation matrix (P_opt):\n",
      "[[-1  1  1]\n",
      " [ 1 -1  1]\n",
      " [ 1  1 -1]]\n",
      "supercell metric:\n",
      "[[5.43 0.   0.  ]\n",
      " [0.   5.43 0.  ]\n",
      " [0.   0.   5.43]]\n",
      "determinant of optimal transformation matrix: 4\n"
     ]
    },
    {
     "data": {
      "text/plain": [
       "array([[-1,  1,  1],\n",
       "       [ 1, -1,  1],\n",
       "       [ 1,  1, -1]])"
      ]
     },
     "execution_count": 116,
     "metadata": {},
     "output_type": "execute_result"
    }
   ],
   "source": [
    "ase.build.find_optimal_cell_shape(si_prim.cell, 4, 'sc', verbose=True)"
   ]
  },
  {
   "cell_type": "code",
   "execution_count": 117,
   "id": "e5dcee37",
   "metadata": {},
   "outputs": [
    {
     "name": "stdout",
     "output_type": "stream",
     "text": [
      "target metric (h_target):\n",
      "[[1. 0. 0.]\n",
      " [0. 1. 0.]\n",
      " [0. 0. 1.]]\n",
      "normalization factor (Q): 0.184162\n",
      "idealized transformation matrix:\n",
      "[[-1.  1.  1.]\n",
      " [ 1. -1.  1.]\n",
      " [ 1.  1. -1.]]\n",
      "closest integer transformation matrix (P_0):\n",
      "[[-1  1  1]\n",
      " [ 1 -1  1]\n",
      " [ 1  1 -1]]\n",
      "smallest score (|Q P h_p - h_target|_2): 0.000000\n",
      "optimal transformation matrix (P_opt):\n",
      "[[-1  1  1]\n",
      " [ 1 -1  1]\n",
      " [ 1  1 -1]]\n",
      "supercell metric:\n",
      "[[5.43 0.   0.  ]\n",
      " [0.   5.43 0.  ]\n",
      " [0.   0.   5.43]]\n",
      "determinant of optimal transformation matrix: 4\n"
     ]
    }
   ],
   "source": [
    "x = ase.build.find_optimal_cell_shape(si_prim.cell, 4, 'sc', verbose=True)"
   ]
  },
  {
   "cell_type": "code",
   "execution_count": 118,
   "id": "ba03218a",
   "metadata": {},
   "outputs": [
    {
     "data": {
      "text/plain": [
       "array([[-1,  1,  1],\n",
       "       [ 1, -1,  1],\n",
       "       [ 1,  1, -1]])"
      ]
     },
     "execution_count": 118,
     "metadata": {},
     "output_type": "execute_result"
    }
   ],
   "source": [
    "x"
   ]
  },
  {
   "cell_type": "code",
   "execution_count": 119,
   "id": "56504413",
   "metadata": {},
   "outputs": [
    {
     "data": {
      "text/plain": [
       "Cell([[0.0, 2.715, 2.715], [2.715, 0.0, 2.715], [2.715, 2.715, 0.0]])"
      ]
     },
     "execution_count": 119,
     "metadata": {},
     "output_type": "execute_result"
    }
   ],
   "source": [
    "si_prim.cell"
   ]
  },
  {
   "cell_type": "code",
   "execution_count": 123,
   "id": "dd33309a",
   "metadata": {},
   "outputs": [
    {
     "data": {
      "application/vnd.jupyter.widget-view+json": {
       "model_id": "9048d40a45b741e7b892aeb5a61893ee",
       "version_major": 2,
       "version_minor": 0
      },
      "text/plain": [
       "NGLWidget()"
      ]
     },
     "metadata": {},
     "output_type": "display_data"
    }
   ],
   "source": [
    "show(\n",
    "    ase.build.make_supercell(si_prim, x)\n",
    ")"
   ]
  },
  {
   "cell_type": "code",
   "execution_count": 124,
   "id": "c0934bda",
   "metadata": {},
   "outputs": [],
   "source": [
    "ase.build.find_optimal_cell_shape?"
   ]
  },
  {
   "cell_type": "code",
   "execution_count": 125,
   "id": "e3ddf126",
   "metadata": {},
   "outputs": [
    {
     "data": {
      "text/plain": [
       "Cell([5.43, 5.43, 5.43])"
      ]
     },
     "execution_count": 125,
     "metadata": {},
     "output_type": "execute_result"
    }
   ],
   "source": [
    "ase.build.make_supercell(si_prim, x).cell"
   ]
  },
  {
   "cell_type": "code",
   "execution_count": 126,
   "id": "6abcf79e",
   "metadata": {},
   "outputs": [
    {
     "data": {
      "text/plain": [
       "Cell([5.43, 5.43, 5.43])"
      ]
     },
     "execution_count": 126,
     "metadata": {},
     "output_type": "execute_result"
    }
   ],
   "source": [
    "si = ase.build.bulk('Si', cubic=True)\n",
    "si.cell"
   ]
  },
  {
   "cell_type": "code",
   "execution_count": 128,
   "id": "d8fb9ed8",
   "metadata": {},
   "outputs": [
    {
     "name": "stdout",
     "output_type": "stream",
     "text": [
      "Zn [0. 0. 0.] 65.38\n",
      "S [1.34675 1.34675 1.34675] 32.06\n",
      "Zn [0.     2.6935 2.6935] 65.38\n",
      "S [1.34675 4.04025 4.04025] 32.06\n",
      "Zn [2.6935 0.     2.6935] 65.38\n",
      "S [4.04025 1.34675 4.04025] 32.06\n",
      "Zn [2.6935 2.6935 0.    ] 65.38\n",
      "S [4.04025 4.04025 1.34675] 32.06\n"
     ]
    }
   ],
   "source": [
    "crystal = ase.build.bulk('ZnS',\n",
    "                   crystalstructure='zincblende',\n",
    "                   a=5.387,\n",
    "                   cubic=True)\n",
    "\n",
    "for atom in crystal:\n",
    "    print(atom.symbol, atom.position, atom.mass)"
   ]
  },
  {
   "cell_type": "code",
   "execution_count": 129,
   "id": "4e35b0a5",
   "metadata": {},
   "outputs": [
    {
     "data": {
      "application/vnd.jupyter.widget-view+json": {
       "model_id": "c0d0e586dfdb4a22a8832a6f35c5c45e",
       "version_major": 2,
       "version_minor": 0
      },
      "text/plain": [
       "NGLWidget()"
      ]
     },
     "metadata": {},
     "output_type": "display_data"
    }
   ],
   "source": [
    "zinc_indices = [i for i, atom in enumerate(crystal) if atom.symbol == 'Zn']\n",
    "zinc_sublattice = crystal[zinc_indices]\n",
    "show(zinc_sublattice)"
   ]
  },
  {
   "cell_type": "code",
   "execution_count": 130,
   "id": "02a91f39",
   "metadata": {},
   "outputs": [
    {
     "data": {
      "application/vnd.jupyter.widget-view+json": {
       "model_id": "8bc630c5597f42a4b14de93a250cf8ac",
       "version_major": 2,
       "version_minor": 0
      },
      "text/plain": [
       "NGLWidget()"
      ]
     },
     "metadata": {},
     "output_type": "display_data"
    }
   ],
   "source": [
    "from ase import Atom\n",
    "composite = zinc_sublattice.copy()\n",
    "composite.append(Atom('He', position=(1.34675, 4.04025, 4.04025)))\n",
    "show(composite)"
   ]
  },
  {
   "cell_type": "code",
   "execution_count": 131,
   "id": "208aaf8a",
   "metadata": {},
   "outputs": [
    {
     "data": {
      "application/vnd.jupyter.widget-view+json": {
       "model_id": "17e339819d7e4afe9fcbd54f93bcd5b4",
       "version_major": 2,
       "version_minor": 0
      },
      "text/plain": [
       "NGLWidget()"
      ]
     },
     "metadata": {},
     "output_type": "display_data"
    }
   ],
   "source": [
    "zinc_vacancy = crystal.copy()\n",
    "del zinc_vacancy[0]\n",
    "show(zinc_vacancy)"
   ]
  },
  {
   "cell_type": "code",
   "execution_count": 133,
   "id": "eee814c8",
   "metadata": {},
   "outputs": [
    {
     "data": {
      "application/vnd.jupyter.widget-view+json": {
       "model_id": "5051e6a9a7cc4eb58a2cf82ddb33dc91",
       "version_major": 2,
       "version_minor": 0
      },
      "text/plain": [
       "NGLWidget()"
      ]
     },
     "metadata": {},
     "output_type": "display_data"
    }
   ],
   "source": [
    "antisite = crystal.copy()\n",
    "antisite.positions[[0, 1]] = antisite.positions[[1, 0]]\n",
    "show(antisite)"
   ]
  },
  {
   "cell_type": "code",
   "execution_count": 135,
   "id": "f7443753",
   "metadata": {},
   "outputs": [
    {
     "data": {
      "application/vnd.jupyter.widget-view+json": {
       "model_id": "7ae28b66d66943da8af34179061765f8",
       "version_major": 2,
       "version_minor": 0
      },
      "text/plain": [
       "NGLWidget()"
      ]
     },
     "metadata": {},
     "output_type": "display_data"
    }
   ],
   "source": [
    "sulfur_indices = [i for i, atom in enumerate(crystal) if atom.symbol == 'S']\n",
    "sulfur_sublattice = crystal[sulfur_indices]\n",
    "sulfur_sublattice.translate([.3, 0., 0.])\n",
    "show(zinc_sublattice + sulfur_sublattice)"
   ]
  },
  {
   "cell_type": "code",
   "execution_count": 137,
   "id": "b59c8335",
   "metadata": {},
   "outputs": [
    {
     "name": "stderr",
     "output_type": "stream",
     "text": [
      "/Users/mynf8/.local/lib/python3.11/site-packages/ase/visualize/plot.py:59: UserWarning: You passed in an explicit save_count=100 which is being ignored in favor of len(frames)=61.\n",
      "  animation = FuncAnimation(fig, drawimage, frames=images,\n",
      "MovieWriter ffmpeg unavailable; using Pillow instead.\n"
     ]
    },
    {
     "data": {
      "image/png": "[encoded data removed]",
      "text/plain": [
       "<Figure size 640x480 with 1 Axes>"
      ]
     },
     "metadata": {},
     "output_type": "display_data"
    }
   ],
   "source": [
    "water = ase.build.molecule('H2O')\n",
    "water.center()\n",
    "\n",
    "bucky = ase.build.molecule('C60')\n",
    "bucky.center()\n",
    "\n",
    "start_atom = 36\n",
    "distances = bucky.get_all_distances()[start_atom]\n",
    "sorted_bucky_indices = sorted(enumerate(distances),\n",
    "                               key = (lambda x: x[1]))\n",
    "sorted_bucky_indices = [i for i, _ in sorted_bucky_indices]\n",
    "sorted_bucky = bucky[sorted_bucky_indices]\n",
    "\n",
    "frames = [water.copy()]\n",
    " \n",
    "for i in range(len(sorted_bucky)):\n",
    "     frames.append(water + sorted_bucky[:i + 1])\n",
    "\n",
    "from ase.io.animation import write_gif\n",
    "\n",
    "_ = write_gif('wrapped_molecule.gif', frames)"
   ]
  },
  {
   "cell_type": "code",
   "execution_count": 138,
   "id": "654d861a",
   "metadata": {},
   "outputs": [
    {
     "data": {
      "application/vnd.jupyter.widget-view+json": {
       "model_id": "ce3ee1b362eb495a9b007723cf142196",
       "version_major": 2,
       "version_minor": 0
      },
      "text/plain": [
       "NGLWidget()"
      ]
     },
     "metadata": {},
     "output_type": "display_data"
    }
   ],
   "source": [
    "from ase import Atoms\n",
    "from ase.calculators.emt import EMT\n",
    "\n",
    "def make_wire(spacing: float = 2.5,\n",
    "              box_size: float = 10.0) -> Atoms:\n",
    "\n",
    "    wire = Atoms('Au',\n",
    "                 positions=[[0., box_size / 2, box_size / 2]],\n",
    "                 cell=[spacing, box_size, box_size],\n",
    "                 pbc=[True, False, False])\n",
    "    return wire\n",
    "\n",
    "atoms = make_wire()\n",
    "show(atoms)"
   ]
  },
  {
   "cell_type": "code",
   "execution_count": 139,
   "id": "a9df3105",
   "metadata": {},
   "outputs": [
    {
     "name": "stdout",
     "output_type": "stream",
     "text": [
      "Energy: 0.9910548478768826 eV\n"
     ]
    }
   ],
   "source": [
    "atoms.calc = EMT()\n",
    "energy = atoms.get_potential_energy()\n",
    "print(f\"Energy: {energy} eV\")"
   ]
  },
  {
   "cell_type": "code",
   "execution_count": 143,
   "id": "611d47ce",
   "metadata": {},
   "outputs": [
    {
     "data": {
      "image/png": "[encoded data removed]",
      "text/plain": [
       "<Figure size 640x480 with 1 Axes>"
      ]
     },
     "metadata": {},
     "output_type": "display_data"
    }
   ],
   "source": [
    "import numpy as np\n",
    "distances = np.linspace(2., 3., 21)\n",
    "\n",
    "def get_energy(spacing: float) -> float:\n",
    "    atoms = make_wire(spacing=spacing)\n",
    "    atoms.calc = EMT()\n",
    "    return atoms.get_potential_energy()\n",
    "\n",
    "energies = list(map(get_energy, distances))\n",
    "\n",
    "from numpy.polynomial import Polynomial\n",
    "fit = Polynomial.fit(distances, energies, 3)\n",
    "\n",
    "%matplotlib inline\n",
    "\n",
    "import matplotlib.pyplot as plt\n",
    "fig, ax = plt.subplots()\n",
    "x = np.linspace(2., 3., 500)\n",
    "\n",
    "_ = ax.plot(distances, energies, 'o', label='calculated')\n",
    "_ = ax.plot(x, fit(x), '-', label='cubic')\n",
    "_ = ax.legend()\n",
    "_ = ax.set_xlabel('Spacing / Å')\n",
    "_ = ax.set_ylabel('Energy / eV')"
   ]
  },
  {
   "cell_type": "code",
   "execution_count": 144,
   "id": "429f1b0d",
   "metadata": {},
   "outputs": [
    {
     "name": "stdout",
     "output_type": "stream",
     "text": [
      "Forces: \n",
      "[[0. 0. 0.]]\n",
      "Stress: \n",
      "[ 0.00396458 -0.         -0.         -0.         -0.         -0.        ]\n"
     ]
    }
   ],
   "source": [
    "print(\"Forces: \")\n",
    "print(atoms.get_forces())\n",
    "\n",
    "print(\"Stress: \")\n",
    "print(atoms.get_stress())"
   ]
  },
  {
   "cell_type": "code",
   "execution_count": 145,
   "id": "febee7fc",
   "metadata": {},
   "outputs": [
    {
     "name": "stdout",
     "output_type": "stream",
     "text": [
      "['energy', 'energies', 'forces', 'stress', 'magmom', 'magmoms']\n"
     ]
    }
   ],
   "source": [
    "print(EMT.implemented_properties)"
   ]
  },
  {
   "cell_type": "code",
   "execution_count": 146,
   "id": "5061a66f",
   "metadata": {},
   "outputs": [
    {
     "name": "stdout",
     "output_type": "stream",
     "text": [
      "(Properties({'energy': 0.9910548478768826, 'natoms': 1, 'energies': array([0.99105485]), 'free_energy': 0.9910548478768826, 'forces': array([[0., 0., 0.]]), 'stress': array([ 0.00396458, -0.        , -0.        , -0.        , -0.        ,\n",
      "       -0.        ])})\n"
     ]
    }
   ],
   "source": [
    "properties = atoms.get_properties(['energy', 'forces', 'stress'])\n",
    "print(properties)"
   ]
  },
  {
   "cell_type": "code",
   "execution_count": 147,
   "id": "afbb3f75",
   "metadata": {},
   "outputs": [
    {
     "data": {
      "text/plain": [
       "array([[ 0.00000000e+00,  0.00000000e+00, -6.49886649e-16],\n",
       "       [ 0.00000000e+00,  0.00000000e+00,  6.49886649e-16]])"
      ]
     },
     "execution_count": 147,
     "metadata": {},
     "output_type": "execute_result"
    }
   ],
   "source": [
    "from ase.calculators.lj import LennardJones\n",
    "\n",
    "l = 4.1\n",
    "atoms = Atoms('Xe2',\n",
    "              positions=[[0., 0., -l / 2],\n",
    "                         [0., 0., l / 2]],\n",
    "              pbc=False)\n",
    "atoms.calc = LennardJones(sigma=(4.1 / 2**(1/6)))\n",
    "\n",
    "atoms.get_forces()\n"
   ]
  },
  {
   "cell_type": "code",
   "execution_count": 7,
   "id": "c2c1956d",
   "metadata": {},
   "outputs": [
    {
     "data": {
      "application/vnd.jupyter.widget-view+json": {
       "model_id": "42d10a4fd5d649dba53b74916473b9d8",
       "version_major": 2,
       "version_minor": 0
      },
      "text/plain": [
       "NGLWidget()"
      ]
     },
     "metadata": {},
     "output_type": "display_data"
    }
   ],
   "source": [
    "import ase.build\n",
    "atoms = ase.build.molecule('C2H6CHOH')\n",
    "show(atoms)"
   ]
  },
  {
   "cell_type": "code",
   "execution_count": 8,
   "id": "d3cdad48",
   "metadata": {},
   "outputs": [],
   "source": [
    "from ase.calculators.mopac import MOPAC\n",
    "atoms.calc = MOPAC(label='isopropyl-alcohol')"
   ]
  },
  {
   "cell_type": "code",
   "execution_count": 10,
   "id": "19e4c9c3",
   "metadata": {},
   "outputs": [
    {
     "name": "stdout",
     "output_type": "stream",
     "text": [
      "\n",
      "\n",
      "          MOPAC Job: \"isopropyl-alcohol.mop\" ended normally on Apr 12, 2023, at 18:45.\n",
      "\n"
     ]
    },
    {
     "ename": "PropertyNotImplementedError",
     "evalue": "energy not present in this calculation",
     "output_type": "error",
     "traceback": [
      "\u001b[0;31m---------------------------------------------------------------------------\u001b[0m",
      "\u001b[0;31mPropertyNotImplementedError\u001b[0m               Traceback (most recent call last)",
      "Cell \u001b[0;32mIn[10], line 1\u001b[0m\n\u001b[0;32m----> 1\u001b[0m \u001b[43matoms\u001b[49m\u001b[38;5;241;43m.\u001b[39;49m\u001b[43mget_potential_energy\u001b[49m\u001b[43m(\u001b[49m\u001b[43m)\u001b[49m\n",
      "File \u001b[0;32m~/miniconda3/envs/ase-tutorial/lib/python3.10/site-packages/ase/atoms.py:731\u001b[0m, in \u001b[0;36mAtoms.get_potential_energy\u001b[0;34m(self, force_consistent, apply_constraint)\u001b[0m\n\u001b[1;32m    728\u001b[0m     energy \u001b[38;5;241m=\u001b[39m \u001b[38;5;28mself\u001b[39m\u001b[38;5;241m.\u001b[39m_calc\u001b[38;5;241m.\u001b[39mget_potential_energy(\n\u001b[1;32m    729\u001b[0m         \u001b[38;5;28mself\u001b[39m, force_consistent\u001b[38;5;241m=\u001b[39mforce_consistent)\n\u001b[1;32m    730\u001b[0m \u001b[38;5;28;01melse\u001b[39;00m:\n\u001b[0;32m--> 731\u001b[0m     energy \u001b[38;5;241m=\u001b[39m \u001b[38;5;28;43mself\u001b[39;49m\u001b[38;5;241;43m.\u001b[39;49m\u001b[43m_calc\u001b[49m\u001b[38;5;241;43m.\u001b[39;49m\u001b[43mget_potential_energy\u001b[49m\u001b[43m(\u001b[49m\u001b[38;5;28;43mself\u001b[39;49m\u001b[43m)\u001b[49m\n\u001b[1;32m    732\u001b[0m \u001b[38;5;28;01mif\u001b[39;00m apply_constraint:\n\u001b[1;32m    733\u001b[0m     \u001b[38;5;28;01mfor\u001b[39;00m constraint \u001b[38;5;129;01min\u001b[39;00m \u001b[38;5;28mself\u001b[39m\u001b[38;5;241m.\u001b[39mconstraints:\n",
      "File \u001b[0;32m~/miniconda3/envs/ase-tutorial/lib/python3.10/site-packages/ase/calculators/calculator.py:709\u001b[0m, in \u001b[0;36mCalculator.get_potential_energy\u001b[0;34m(self, atoms, force_consistent)\u001b[0m\n\u001b[1;32m    708\u001b[0m \u001b[38;5;28;01mdef\u001b[39;00m \u001b[38;5;21mget_potential_energy\u001b[39m(\u001b[38;5;28mself\u001b[39m, atoms\u001b[38;5;241m=\u001b[39m\u001b[38;5;28;01mNone\u001b[39;00m, force_consistent\u001b[38;5;241m=\u001b[39m\u001b[38;5;28;01mFalse\u001b[39;00m):\n\u001b[0;32m--> 709\u001b[0m     energy \u001b[38;5;241m=\u001b[39m \u001b[38;5;28;43mself\u001b[39;49m\u001b[38;5;241;43m.\u001b[39;49m\u001b[43mget_property\u001b[49m\u001b[43m(\u001b[49m\u001b[38;5;124;43m'\u001b[39;49m\u001b[38;5;124;43menergy\u001b[39;49m\u001b[38;5;124;43m'\u001b[39;49m\u001b[43m,\u001b[49m\u001b[43m \u001b[49m\u001b[43matoms\u001b[49m\u001b[43m)\u001b[49m\n\u001b[1;32m    710\u001b[0m     \u001b[38;5;28;01mif\u001b[39;00m force_consistent:\n\u001b[1;32m    711\u001b[0m         \u001b[38;5;28;01mif\u001b[39;00m \u001b[38;5;124m'\u001b[39m\u001b[38;5;124mfree_energy\u001b[39m\u001b[38;5;124m'\u001b[39m \u001b[38;5;129;01mnot\u001b[39;00m \u001b[38;5;129;01min\u001b[39;00m \u001b[38;5;28mself\u001b[39m\u001b[38;5;241m.\u001b[39mresults:\n",
      "File \u001b[0;32m~/miniconda3/envs/ase-tutorial/lib/python3.10/site-packages/ase/calculators/calculator.py:742\u001b[0m, in \u001b[0;36mCalculator.get_property\u001b[0;34m(self, name, atoms, allow_calculation)\u001b[0m\n\u001b[1;32m    737\u001b[0m     \u001b[38;5;28mself\u001b[39m\u001b[38;5;241m.\u001b[39mcalculate(atoms, [name], system_changes)\n\u001b[1;32m    739\u001b[0m \u001b[38;5;28;01mif\u001b[39;00m name \u001b[38;5;129;01mnot\u001b[39;00m \u001b[38;5;129;01min\u001b[39;00m \u001b[38;5;28mself\u001b[39m\u001b[38;5;241m.\u001b[39mresults:\n\u001b[1;32m    740\u001b[0m     \u001b[38;5;66;03m# For some reason the calculator was not able to do what we want,\u001b[39;00m\n\u001b[1;32m    741\u001b[0m     \u001b[38;5;66;03m# and that is OK.\u001b[39;00m\n\u001b[0;32m--> 742\u001b[0m     \u001b[38;5;28;01mraise\u001b[39;00m PropertyNotImplementedError(\u001b[38;5;124m'\u001b[39m\u001b[38;5;132;01m{}\u001b[39;00m\u001b[38;5;124m not present in this \u001b[39m\u001b[38;5;124m'\u001b[39m\n\u001b[1;32m    743\u001b[0m                                       \u001b[38;5;124m'\u001b[39m\u001b[38;5;124mcalculation\u001b[39m\u001b[38;5;124m'\u001b[39m\u001b[38;5;241m.\u001b[39mformat(name))\n\u001b[1;32m    745\u001b[0m result \u001b[38;5;241m=\u001b[39m \u001b[38;5;28mself\u001b[39m\u001b[38;5;241m.\u001b[39mresults[name]\n\u001b[1;32m    746\u001b[0m \u001b[38;5;28;01mif\u001b[39;00m \u001b[38;5;28misinstance\u001b[39m(result, np\u001b[38;5;241m.\u001b[39mndarray):\n",
      "\u001b[0;31mPropertyNotImplementedError\u001b[0m: energy not present in this calculation"
     ]
    }
   ],
   "source": [
    "atoms.get_potential_energy()"
   ]
  },
  {
   "cell_type": "code",
   "execution_count": null,
   "id": "bf0cbaf6",
   "metadata": {},
   "outputs": [],
   "source": []
  }
 ],
 "metadata": {
  "kernelspec": {
   "display_name": "Python 3 (ipykernel)",
   "language": "python",
   "name": "python3"
  },
  "language_info": {
   "codemirror_mode": {
    "name": "ipython",
    "version": 3
   },
   "file_extension": ".py",
   "mimetype": "text/x-python",
   "name": "python",
   "nbconvert_exporter": "python",
   "pygments_lexer": "ipython3",
   "version": "3.10.9"
  }
 },
 "nbformat": 4,
 "nbformat_minor": 5
}
