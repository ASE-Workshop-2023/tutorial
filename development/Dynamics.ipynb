{
 "cells": [
  {
   "cell_type": "markdown",
   "id": "e037f0b3-d109-4033-8f5f-e9cca108d8ab",
   "metadata": {},
   "source": [
    "# Dynamics\n",
    "\n",
    "In the previous tutorials we created Atoms objects and used Calculators to get properties including energies and forces... but we didn't do very much with this information.\n",
    "\n",
    "A very useful thing to do with this information is to update our strucuture! ASE includes algorithms for molecular dynamics, geometry optimization and global optimization. It is a useful toolkit for experimentation and method-development in this area, or development of multi-step pipelines."
   ]
  },
  {
   "cell_type": "markdown",
   "id": "7dcce9f5-90b9-4239-b929-a8ec2a82ab59",
   "metadata": {
    "tags": []
   },
   "source": [
    "## Molecular dynamics\n",
    "\n",
    "Molecular dynamics (MD) methods are found in [ase.md](https://wiki.fysik.dtu.dk/ase/ase/md.html).\n",
    "\n",
    "> This is not a course in MD; be aware that thermostats and timesteps should be chosen with care for a given research problem!\n",
    "\n",
    "Starting with the EMT potential, let us try some simulated annealing of a cubic Cu nanoparticle. First we prepare the structure and assign some initial momenta."
   ]
  },
  {
   "cell_type": "code",
   "execution_count": 1,
   "id": "5154f7fb-fd39-4acb-bc09-050f619a56ac",
   "metadata": {
    "tags": []
   },
   "outputs": [],
   "source": [
    "import ase.build\n",
    "from ase.calculators.emt import EMT\n",
    "from ase.md.velocitydistribution import MaxwellBoltzmannDistribution\n",
    "\n",
    "# Set up a crystal\n",
    "cu_cube = ase.build.bulk('Cu', cubic=True) * [3, 3, 3]\n",
    "\n",
    "# Describe the interatomic interactions with the Effective Medium Theory\n",
    "cu_cube.calc = EMT()\n",
    "\n",
    "# Set the momenta corresponding to T=300K\n",
    "MaxwellBoltzmannDistribution(cu_cube, temperature_K=300)"
   ]
  },
  {
   "cell_type": "markdown",
   "id": "89affd97-7586-44b7-b869-5717e5c917c6",
   "metadata": {},
   "source": [
    "There are stores on the atoms as velocities. The initial forces should be very small due to symmetry."
   ]
  },
  {
   "cell_type": "code",
   "execution_count": 2,
   "id": "c6ca80bf-7d91-44a3-8450-93e2b2c0fa7e",
   "metadata": {
    "tags": []
   },
   "outputs": [
    {
     "name": "stdout",
     "output_type": "stream",
     "text": [
      "velocities:\n",
      "[[ 0.04415792 -0.04196006 -0.02130616]\n",
      " [ 0.00674007 -0.009692    0.02499719]\n",
      " [ 0.00949497 -0.00967576  0.03271635]\n",
      " [ 0.01499601 -0.01203037 -0.02456846]]\n",
      "\n",
      "forces:\n",
      "[[ 1.05748743e-14  9.68843061e-15  8.49667559e-15]\n",
      " [ 2.47839943e-14 -1.35655376e-15 -2.27769192e-15]\n",
      " [-1.81799020e-15  1.80896964e-14 -1.32012457e-15]\n",
      " [-2.18835366e-15  1.32706346e-16  1.38292156e-14]]\n",
      "\n",
      "kinetic energy: 5.209391647215017\n"
     ]
    }
   ],
   "source": [
    "row_limit = 4\n",
    "print('velocities:')\n",
    "print(cu_cube.get_velocities()[:row_limit])\n",
    "\n",
    "print('\\nforces:')\n",
    "print(cu_cube.get_forces()[:row_limit])\n",
    "\n",
    "print(f'\\nkinetic energy: {cu_cube.get_kinetic_energy()}')"
   ]
  },
  {
   "cell_type": "markdown",
   "id": "6d5528d8-55ca-40a6-881b-2920df574425",
   "metadata": {},
   "source": [
    "Next the dynamics object is created and the Atoms are attached to it. For constant-energy MD we can use the Velocity Verlet method.\n",
    "\n",
    "While the default distance and energy units (Angstrom and eV) in ASE are fairly friendly, the related time unit is a bit awkward so we use a unit conversion from `ase.units` to set a timestep of 5 fs."
   ]
  },
  {
   "cell_type": "code",
   "execution_count": 3,
   "id": "3ed23123-543f-487a-87fd-7a9614cd2c0f",
   "metadata": {
    "tags": []
   },
   "outputs": [
    {
     "name": "stdout",
     "output_type": "stream",
     "text": [
      "velocities:\n",
      "[[ 0.04342004 -0.04111118 -0.02074165]\n",
      " [ 0.00662474 -0.01022957  0.02452406]\n",
      " [ 0.00927404 -0.00939438  0.03250037]\n",
      " [ 0.01462945 -0.01201408 -0.02386139]]\n",
      "\n",
      "forces:\n",
      "[[-0.19094268  0.21966678  0.14607907]\n",
      " [-0.02984384 -0.13910846 -0.12243429]\n",
      " [-0.05717046  0.07281418 -0.05589085]\n",
      " [-0.09485569  0.00421554  0.18297141]]\n"
     ]
    }
   ],
   "source": [
    "from ase import units\n",
    "from ase.md.verlet import VelocityVerlet\n",
    "\n",
    "dyn = VelocityVerlet(cu_cube, 5 * units.fs)\n",
    "\n",
    "dyn.run(1)\n",
    "\n",
    "\n",
    "print('velocities:')\n",
    "print(cu_cube.get_velocities()[:row_limit])\n",
    "\n",
    "print('\\nforces:')\n",
    "print(cu_cube.get_forces()[:row_limit])"
   ]
  },
  {
   "cell_type": "markdown",
   "id": "dc81d0e8-4aaf-4928-91ab-d685b03866e8",
   "metadata": {},
   "source": [
    "After one timestep, we see that the velocities have changes slightly and significant forces have appeared.\n",
    "Running some more time steps, while occasionally printing the kinetic and potential energy:"
   ]
  },
  {
   "cell_type": "code",
   "execution_count": 4,
   "id": "13de3d33-403f-45fe-a5b8-293cc312d31e",
   "metadata": {
    "tags": []
   },
   "outputs": [
    {
     "name": "stdout",
     "output_type": "stream",
     "text": [
      "Energy per atom: Epot = -0.004eV  Ekin = 0.047eV (T=362K)  Etot = 0.043eV\n",
      "Energy per atom: Epot = 0.028eV  Ekin = 0.015eV (T=115K)  Etot = 0.043eV\n",
      "Energy per atom: Epot = 0.020eV  Ekin = 0.023eV (T=175K)  Etot = 0.043eV\n",
      "Energy per atom: Epot = 0.019eV  Ekin = 0.024eV (T=186K)  Etot = 0.043eV\n",
      "Energy per atom: Epot = 0.012eV  Ekin = 0.031eV (T=239K)  Etot = 0.043eV\n",
      "Energy per atom: Epot = 0.020eV  Ekin = 0.022eV (T=174K)  Etot = 0.043eV\n",
      "Energy per atom: Epot = 0.023eV  Ekin = 0.020eV (T=151K)  Etot = 0.043eV\n",
      "Energy per atom: Epot = 0.013eV  Ekin = 0.029eV (T=228K)  Etot = 0.043eV\n",
      "Energy per atom: Epot = 0.022eV  Ekin = 0.021eV (T=159K)  Etot = 0.043eV\n",
      "Energy per atom: Epot = 0.016eV  Ekin = 0.027eV (T=206K)  Etot = 0.043eV\n",
      "Energy per atom: Epot = 0.018eV  Ekin = 0.025eV (T=194K)  Etot = 0.043eV\n",
      "Energy per atom: Epot = 0.021eV  Ekin = 0.022eV (T=169K)  Etot = 0.043eV\n",
      "Energy per atom: Epot = 0.019eV  Ekin = 0.023eV (T=180K)  Etot = 0.043eV\n",
      "Energy per atom: Epot = 0.011eV  Ekin = 0.032eV (T=245K)  Etot = 0.043eV\n",
      "Energy per atom: Epot = 0.026eV  Ekin = 0.017eV (T=128K)  Etot = 0.043eV\n",
      "Energy per atom: Epot = 0.016eV  Ekin = 0.027eV (T=209K)  Etot = 0.043eV\n",
      "Energy per atom: Epot = 0.019eV  Ekin = 0.024eV (T=187K)  Etot = 0.043eV\n",
      "Energy per atom: Epot = 0.017eV  Ekin = 0.026eV (T=202K)  Etot = 0.043eV\n",
      "Energy per atom: Epot = 0.022eV  Ekin = 0.021eV (T=160K)  Etot = 0.043eV\n",
      "Energy per atom: Epot = 0.016eV  Ekin = 0.027eV (T=210K)  Etot = 0.043eV\n",
      "Energy per atom: Epot = 0.018eV  Ekin = 0.024eV (T=189K)  Etot = 0.043eV\n"
     ]
    }
   ],
   "source": [
    "from ase import Atoms\n",
    "def printenergy(atoms: Atoms) -> None:\n",
    "    \"\"\"Function to print the potential, kinetic and total energy\"\"\"\n",
    "    epot = atoms.get_potential_energy() / len(atoms)\n",
    "    ekin = atoms.get_kinetic_energy() / len(atoms)\n",
    "    temperature = ekin / (1.5 * units.kB)\n",
    "    \n",
    "    print(f'Energy per atom: Epot = {epot:.3f}eV  Ekin = {ekin:.3f}eV '\n",
    "          f'(T={temperature:3.0f}K)  Etot = {epot+ekin:.3f}eV')\n",
    "\n",
    "# Now run the dynamics\n",
    "printenergy(cu_cube)\n",
    "for i in range(20):\n",
    "    dyn.run(10)\n",
    "    printenergy(cu_cube)"
   ]
  },
  {
   "cell_type": "markdown",
   "id": "ee9ae1ed-9572-4029-bc74-90b40750500e",
   "metadata": {},
   "source": [
    "As the system equilibrates, energy is conserved but the temperature is about half of the original setting. *Why?*"
   ]
  },
  {
   "cell_type": "markdown",
   "id": "c12bdbb7-e091-4aed-b58f-4b45d2e400ac",
   "metadata": {
    "tags": []
   },
   "source": [
    "It's a bit inconvenient to write a loop that stops and starts the MD as above; instead we can attach an \"observer\" function."
   ]
  },
  {
   "cell_type": "code",
   "execution_count": 5,
   "id": "f8f61f4c-da0d-4de0-9795-0248f8bf51cf",
   "metadata": {
    "tags": []
   },
   "outputs": [
    {
     "name": "stdout",
     "output_type": "stream",
     "text": [
      "Energy per atom: Epot = 0.020eV  Ekin = 0.022eV (T=173K)  Etot = 0.043eV\n",
      "Energy per atom: Epot = 0.017eV  Ekin = 0.026eV (T=200K)  Etot = 0.043eV\n",
      "Energy per atom: Epot = 0.020eV  Ekin = 0.022eV (T=174K)  Etot = 0.043eV\n",
      "Energy per atom: Epot = 0.017eV  Ekin = 0.026eV (T=200K)  Etot = 0.043eV\n",
      "Energy per atom: Epot = 0.019eV  Ekin = 0.024eV (T=185K)  Etot = 0.043eV\n",
      "Energy per atom: Epot = 0.017eV  Ekin = 0.026eV (T=199K)  Etot = 0.043eV\n",
      "Energy per atom: Epot = 0.021eV  Ekin = 0.022eV (T=167K)  Etot = 0.043eV\n",
      "Energy per atom: Epot = 0.015eV  Ekin = 0.027eV (T=212K)  Etot = 0.043eV\n",
      "Energy per atom: Epot = 0.019eV  Ekin = 0.023eV (T=180K)  Etot = 0.043eV\n",
      "Energy per atom: Epot = 0.018eV  Ekin = 0.025eV (T=192K)  Etot = 0.043eV\n"
     ]
    },
    {
     "data": {
      "text/plain": [
       "True"
      ]
     },
     "execution_count": 5,
     "metadata": {},
     "output_type": "execute_result"
    }
   ],
   "source": [
    "# Run a few more steps\n",
    "def energy_observer():\n",
    "    printenergy(cu_cube)\n",
    "    \n",
    "dyn.attach(energy_observer, interval=10)\n",
    "dyn.run(100)"
   ]
  },
  {
   "cell_type": "markdown",
   "id": "90ecc45b-6834-45c6-b170-c962cc49de1f",
   "metadata": {},
   "source": [
    "**Exercise:** use an observer to measure the average (root mean-square) displacement of Cu atoms at 300K"
   ]
  },
  {
   "cell_type": "code",
   "execution_count": 6,
   "id": "1ba76832-5961-43a0-9be7-f23276382725",
   "metadata": {
    "tags": []
   },
   "outputs": [
    {
     "data": {
      "application/vnd.jupyter.widget-view+json": {
       "model_id": "6547e21d4e564d1fb46c556afa069a4d",
       "version_major": 2,
       "version_minor": 0
      },
      "text/plain": []
     },
     "metadata": {},
     "output_type": "display_data"
    },
    {
     "data": {
      "application/vnd.jupyter.widget-view+json": {
       "model_id": "63101c5ed24e4b5d93c922b16de73db3",
       "version_major": 2,
       "version_minor": 0
      },
      "text/plain": [
       "NGLWidget()"
      ]
     },
     "metadata": {},
     "output_type": "display_data"
    }
   ],
   "source": [
    "import nglview\n",
    "\n",
    "def show(atoms: ase.Atoms) -> None:\n",
    "    view = nglview.show_ase(atoms)\n",
    "    if any(atoms.pbc):\n",
    "        view.add_unitcell()\n",
    "    return view\n",
    "\n",
    "show(cu_cube)"
   ]
  },
  {
   "cell_type": "markdown",
   "id": "283ff346-368e-4e17-958c-dad1c43a3a69",
   "metadata": {},
   "source": [
    "At modest temperature and under periodic boundary conditions, the atoms have not moved very far. Let's try something more extreme: remove the boundary conditions, ramp up the temperature, and use a Langevin thermostat that regulates the temperature. This will take a few minutes to run."
   ]
  },
  {
   "cell_type": "code",
   "execution_count": 7,
   "id": "dbc94827-0f89-408b-a3b4-ebbfbe492a6a",
   "metadata": {
    "tags": []
   },
   "outputs": [
    {
     "name": "stdout",
     "output_type": "stream",
     "text": [
      "Energy per atom: Epot = 0.458eV  Ekin = 0.025eV (T=193K)  Etot = 0.483eV\n",
      "Energy per atom: Epot = 0.463eV  Ekin = 0.042eV (T=322K)  Etot = 0.504eV\n",
      "Energy per atom: Epot = 0.477eV  Ekin = 0.048eV (T=372K)  Etot = 0.525eV\n",
      "Energy per atom: Epot = 0.496eV  Ekin = 0.058eV (T=452K)  Etot = 0.554eV\n",
      "Energy per atom: Epot = 0.493eV  Ekin = 0.070eV (T=539K)  Etot = 0.562eV\n",
      "Energy per atom: Epot = 0.504eV  Ekin = 0.076eV (T=587K)  Etot = 0.580eV\n",
      "Energy per atom: Epot = 0.507eV  Ekin = 0.085eV (T=661K)  Etot = 0.592eV\n",
      "Energy per atom: Epot = 0.518eV  Ekin = 0.080eV (T=617K)  Etot = 0.598eV\n",
      "Energy per atom: Epot = 0.511eV  Ekin = 0.095eV (T=732K)  Etot = 0.606eV\n",
      "Energy per atom: Epot = 0.526eV  Ekin = 0.090eV (T=694K)  Etot = 0.616eV\n",
      "Energy per atom: Epot = 0.517eV  Ekin = 0.106eV (T=821K)  Etot = 0.623eV\n",
      "Energy per atom: Epot = 0.543eV  Ekin = 0.099eV (T=763K)  Etot = 0.642eV\n",
      "Energy per atom: Epot = 0.551eV  Ekin = 0.094eV (T=724K)  Etot = 0.644eV\n",
      "Energy per atom: Epot = 0.539eV  Ekin = 0.110eV (T=854K)  Etot = 0.650eV\n",
      "Energy per atom: Epot = 0.541eV  Ekin = 0.124eV (T=959K)  Etot = 0.665eV\n",
      "Energy per atom: Epot = 0.551eV  Ekin = 0.112eV (T=863K)  Etot = 0.663eV\n",
      "Energy per atom: Epot = 0.568eV  Ekin = 0.099eV (T=768K)  Etot = 0.667eV\n",
      "Energy per atom: Epot = 0.555eV  Ekin = 0.121eV (T=938K)  Etot = 0.676eV\n",
      "Energy per atom: Epot = 0.574eV  Ekin = 0.101eV (T=782K)  Etot = 0.675eV\n",
      "Energy per atom: Epot = 0.578eV  Ekin = 0.102eV (T=791K)  Etot = 0.680eV\n",
      "Energy per atom: Epot = 0.590eV  Ekin = 0.101eV (T=782K)  Etot = 0.691eV\n"
     ]
    },
    {
     "data": {
      "text/plain": [
       "True"
      ]
     },
     "execution_count": 7,
     "metadata": {},
     "output_type": "execute_result"
    }
   ],
   "source": [
    "from ase.io.trajectory import Trajectory\n",
    "from ase.md import Langevin\n",
    "\n",
    "cu_lump = cu_cube.copy()\n",
    "cu_lump.pbc=False\n",
    "cu_lump.calc = EMT()\n",
    "\n",
    "def energy_observer():\n",
    "    printenergy(cu_lump)\n",
    "\n",
    "dyn = Langevin(cu_lump, 5 * units.fs, friction=0.005, temperature_K=1000)\n",
    "dyn.attach(energy_observer, interval=50)\n",
    "\n",
    "# We also want to save the positions of all atoms after every 50th time step.\n",
    "traj = Trajectory('cu_melt.traj', 'w', cu_lump)\n",
    "dyn.attach(traj.write, interval=50)\n",
    "\n",
    "# Now run the dynamics\n",
    "dyn.run(1000)\n"
   ]
  },
  {
   "cell_type": "markdown",
   "id": "2e2866b1-4379-4c90-8ec4-147d541243e5",
   "metadata": {},
   "source": [
    "The trajectory file lets us visualise what happened."
   ]
  },
  {
   "cell_type": "code",
   "execution_count": 8,
   "id": "a73925a3-01a0-4e5c-98fe-4b4a1ef3de6c",
   "metadata": {
    "tags": []
   },
   "outputs": [
    {
     "data": {
      "text/plain": [
       "<Popen: returncode: None args: ['/home/adamjackson/mambaforge/envs/ase-tutor...>"
      ]
     },
     "execution_count": 8,
     "metadata": {},
     "output_type": "execute_result"
    }
   ],
   "source": [
    "from ase.visualize import view\n",
    "import ase.io\n",
    "\n",
    "frames = ase.io.read('cu_melt.traj', index=':')\n",
    "view(frames)"
   ]
  },
  {
   "cell_type": "markdown",
   "id": "ff24d725-1221-4bb7-9d8c-a766a1462bd1",
   "metadata": {},
   "source": [
    "Having reached temperature we can also steadily quench by reducing the target temperature over the course of the simulation."
   ]
  },
  {
   "cell_type": "code",
   "execution_count": 9,
   "id": "4fbd032f-e4bb-460d-af13-c186602ae02d",
   "metadata": {
    "tags": []
   },
   "outputs": [
    {
     "name": "stderr",
     "output_type": "stream",
     "text": [
      "Traceback (most recent call last):\n",
      "  File \"/home/adamjackson/mambaforge/envs/ase-tutorial/lib/python3.10/runpy.py\", line 196, in _run_module_as_main\n",
      "    return _run_code(code, main_globals, None,\n",
      "  File \"/home/adamjackson/mambaforge/envs/ase-tutorial/lib/python3.10/runpy.py\", line 86, in _run_code\n",
      "    exec(code, run_globals)\n",
      "  File \"/home/adamjackson/opt/ase-fork/ase/gui/pipe.py\", line 32, in <module>\n",
      "    main()\n",
      "  File \"/home/adamjackson/opt/ase-fork/ase/gui/pipe.py\", line 28, in main\n",
      "    plt.show()\n",
      "  File \"/home/adamjackson/mambaforge/envs/ase-tutorial/lib/python3.10/site-packages/matplotlib/pyplot.py\", line 446, in show\n",
      "    return _get_backend_mod().show(*args, **kwargs)\n",
      "  File \"/home/adamjackson/mambaforge/envs/ase-tutorial/lib/python3.10/site-packages/matplotlib_inline/backend_inline.py\", line 90, in show\n",
      "    display(\n",
      "  File \"/home/adamjackson/mambaforge/envs/ase-tutorial/lib/python3.10/site-packages/IPython/core/display_functions.py\", line 265, in display\n",
      "    print(*objs)\n",
      "ValueError: I/O operation on closed file.\n"
     ]
    },
    {
     "name": "stdout",
     "output_type": "stream",
     "text": [
      "Energy per atom: Epot = 0.573eV  Ekin = 0.113eV (T=877K)  Etot = 0.687eV\n",
      "Energy per atom: Epot = 0.571eV  Ekin = 0.105eV (T=815K)  Etot = 0.676eV\n",
      "Energy per atom: Epot = 0.564eV  Ekin = 0.116eV (T=898K)  Etot = 0.680eV\n",
      "Energy per atom: Epot = 0.559eV  Ekin = 0.116eV (T=897K)  Etot = 0.675eV\n",
      "Energy per atom: Epot = 0.569eV  Ekin = 0.100eV (T=776K)  Etot = 0.670eV\n",
      "Energy per atom: Epot = 0.560eV  Ekin = 0.105eV (T=816K)  Etot = 0.665eV\n",
      "Energy per atom: Epot = 0.541eV  Ekin = 0.114eV (T=883K)  Etot = 0.655eV\n",
      "Energy per atom: Epot = 0.549eV  Ekin = 0.098eV (T=760K)  Etot = 0.648eV\n",
      "Energy per atom: Epot = 0.534eV  Ekin = 0.106eV (T=823K)  Etot = 0.641eV\n",
      "Energy per atom: Epot = 0.527eV  Ekin = 0.101eV (T=785K)  Etot = 0.629eV\n",
      "Energy per atom: Epot = 0.534eV  Ekin = 0.094eV (T=728K)  Etot = 0.628eV\n",
      "Energy per atom: Epot = 0.529eV  Ekin = 0.090eV (T=695K)  Etot = 0.619eV\n",
      "Energy per atom: Epot = 0.538eV  Ekin = 0.080eV (T=615K)  Etot = 0.618eV\n",
      "Energy per atom: Epot = 0.533eV  Ekin = 0.079eV (T=608K)  Etot = 0.612eV\n",
      "Energy per atom: Epot = 0.532eV  Ekin = 0.074eV (T=571K)  Etot = 0.606eV\n",
      "Energy per atom: Epot = 0.510eV  Ekin = 0.089eV (T=685K)  Etot = 0.599eV\n",
      "Energy per atom: Epot = 0.516eV  Ekin = 0.076eV (T=586K)  Etot = 0.591eV\n",
      "Energy per atom: Epot = 0.512eV  Ekin = 0.069eV (T=536K)  Etot = 0.582eV\n",
      "Energy per atom: Epot = 0.499eV  Ekin = 0.076eV (T=590K)  Etot = 0.576eV\n",
      "Energy per atom: Epot = 0.509eV  Ekin = 0.063eV (T=489K)  Etot = 0.572eV\n",
      "Energy per atom: Epot = 0.498eV  Ekin = 0.067eV (T=516K)  Etot = 0.565eV\n",
      "Energy per atom: Epot = 0.489eV  Ekin = 0.071eV (T=551K)  Etot = 0.561eV\n",
      "Energy per atom: Epot = 0.490eV  Ekin = 0.065eV (T=500K)  Etot = 0.555eV\n",
      "Energy per atom: Epot = 0.479eV  Ekin = 0.066eV (T=510K)  Etot = 0.545eV\n",
      "Energy per atom: Epot = 0.472eV  Ekin = 0.065eV (T=499K)  Etot = 0.537eV\n",
      "Energy per atom: Epot = 0.477eV  Ekin = 0.051eV (T=398K)  Etot = 0.529eV\n",
      "Energy per atom: Epot = 0.466eV  Ekin = 0.054eV (T=421K)  Etot = 0.520eV\n",
      "Energy per atom: Epot = 0.457eV  Ekin = 0.055eV (T=423K)  Etot = 0.512eV\n"
     ]
    }
   ],
   "source": [
    "for temperature in range(800, 100, -50):\n",
    "    dyn.set_temperature(temperature_K=temperature)\n",
    "    dyn.run(100)"
   ]
  },
  {
   "cell_type": "code",
   "execution_count": 10,
   "id": "2d5eed4e-5261-45fc-b9e3-9ade8b6fe303",
   "metadata": {
    "tags": []
   },
   "outputs": [
    {
     "data": {
      "text/plain": [
       "<Popen: returncode: None args: ['/home/adamjackson/mambaforge/envs/ase-tutor...>"
      ]
     },
     "execution_count": 10,
     "metadata": {},
     "output_type": "execute_result"
    }
   ],
   "source": [
    "frames = ase.io.read('cu_melt.traj', index=':')\n",
    "view(frames)"
   ]
  },
  {
   "cell_type": "markdown",
   "id": "99545e3e-9330-403f-bb97-db42d17c58f7",
   "metadata": {},
   "source": [
    "We see that as the temperature falls some order returns to the structure."
   ]
  },
  {
   "cell_type": "markdown",
   "id": "50455489-612f-4e30-9f7e-8496521c7ead",
   "metadata": {},
   "source": [
    "# Local optimisation"
   ]
  },
  {
   "cell_type": "markdown",
   "id": "96fc58ac-bc52-42d4-9d93-d21cba8a0af7",
   "metadata": {},
   "source": [
    "With a zero temperature thermostat we would eventually expect the structure to reach some local minimum energy in the potential-energy surface. Generally it is more efficient to achieve this by a dedicated \"geometry optimisation\" algorithm that seeks to minimise energy and forces."
   ]
  },
  {
   "cell_type": "markdown",
   "id": "856b3e32-fd7d-4914-bbe2-8cfee4339aaa",
   "metadata": {},
   "source": [
    "Let's grab a molecular structure and apply a semi-empirical potential."
   ]
  },
  {
   "cell_type": "code",
   "execution_count": 11,
   "id": "eb0cc9ed-1aa8-46e2-894d-91195f9539e7",
   "metadata": {
    "tags": []
   },
   "outputs": [],
   "source": [
    "from ase.calculators.mopac import MOPAC"
   ]
  },
  {
   "cell_type": "code",
   "execution_count": 12,
   "id": "1004908a-d740-47d3-a097-cf52e698b853",
   "metadata": {
    "tags": []
   },
   "outputs": [
    {
     "name": "stdout",
     "output_type": "stream",
     "text": [
      "\n",
      "\n",
      "          MOPAC Job: \"mopac.mop\" ended normally on Apr 17, 2023, at 11:15.\n",
      "\n"
     ]
    },
    {
     "data": {
      "text/plain": [
       "array([[ 0.05314722, -0.14217078,  0.        ],\n",
       "       [ 0.08516519,  0.2916233 ,  0.        ],\n",
       "       [ 0.46667555,  0.31685049,  0.        ],\n",
       "       [-0.30313837, -0.04753196,  0.        ],\n",
       "       [-0.29917533,  0.04623103,  0.23729349],\n",
       "       [-0.2992056 ,  0.04519975, -0.23729349],\n",
       "       [ 0.11622196, -0.06459161,  0.        ],\n",
       "       [ 0.09013888, -0.22333767,  0.08025091],\n",
       "       [ 0.09017054, -0.22227256, -0.08025091]])"
      ]
     },
     "execution_count": 12,
     "metadata": {},
     "output_type": "execute_result"
    }
   ],
   "source": [
    "atoms = ase.build.molecule('CH3CH2OH')\n",
    "atoms.calc = MOPAC()\n",
    "atoms.get_forces()"
   ]
  },
  {
   "cell_type": "markdown",
   "id": "d6a199d4-c63a-41b9-ac78-50836177ca1a",
   "metadata": {},
   "source": [
    "We can see from the forces that this potential does not quite agree with the structure from the G2 database. For further analysis we would like to find the local minimum. ASE provides a range of algorthms in the `ase.optimize` module."
   ]
  },
  {
   "cell_type": "code",
   "execution_count": 13,
   "id": "c59fec9e-783e-4b5d-a092-41accbaa7737",
   "metadata": {
    "tags": []
   },
   "outputs": [
    {
     "name": "stdout",
     "output_type": "stream",
     "text": [
      "       Step     Time          Energy          fmax\n",
      "GPMin:    0 11:15:28       -2.385274         0.564075\n",
      "GPMin:    1 11:15:28       -2.392905         1.033572\n",
      "GPMin:    2 11:15:28       -2.403956         0.742120\n",
      "GPMin:    3 11:15:28       -2.420694         0.221260\n",
      "GPMin:    4 11:15:28       -2.421733         0.151170\n",
      "GPMin:    5 11:15:28       -2.422788         0.015994\n",
      "GPMin:    6 11:15:28       -2.422797         0.010651\n",
      "GPMin:    7 11:15:28       -2.422799         0.006327\n",
      "GPMin:    8 11:15:28       -2.422801         0.003863\n",
      "GPMin:    9 11:15:28       -2.422801         0.000485\n"
     ]
    },
    {
     "name": "stderr",
     "output_type": "stream",
     "text": [
      "Traceback (most recent call last):\n",
      "  File \"/home/adamjackson/mambaforge/envs/ase-tutorial/lib/python3.10/runpy.py\", line 196, in _run_module_as_main\n",
      "    return _run_code(code, main_globals, None,\n",
      "  File \"/home/adamjackson/mambaforge/envs/ase-tutorial/lib/python3.10/runpy.py\", line 86, in _run_code\n",
      "    exec(code, run_globals)\n",
      "  File \"/home/adamjackson/opt/ase-fork/ase/gui/pipe.py\", line 32, in <module>\n",
      "    main()\n",
      "  File \"/home/adamjackson/opt/ase-fork/ase/gui/pipe.py\", line 28, in main\n",
      "    plt.show()\n",
      "  File \"/home/adamjackson/mambaforge/envs/ase-tutorial/lib/python3.10/site-packages/matplotlib/pyplot.py\", line 446, in show\n",
      "    return _get_backend_mod().show(*args, **kwargs)\n",
      "  File \"/home/adamjackson/mambaforge/envs/ase-tutorial/lib/python3.10/site-packages/matplotlib_inline/backend_inline.py\", line 90, in show\n",
      "    display(\n",
      "  File \"/home/adamjackson/mambaforge/envs/ase-tutorial/lib/python3.10/site-packages/IPython/core/display_functions.py\", line 265, in display\n",
      "    print(*objs)\n",
      "ValueError: I/O operation on closed file.\n"
     ]
    },
    {
     "data": {
      "text/plain": [
       "True"
      ]
     },
     "execution_count": 13,
     "metadata": {},
     "output_type": "execute_result"
    }
   ],
   "source": [
    "from ase.optimize import GPMin\n",
    "# To avoid that \"ended normally\" message on every step, we\n",
    "# tweak the command a bit\n",
    "atoms.calc = MOPAC(command='mopac PREFIX.mop 1> /dev/null')\n",
    "opt = GPMin(atoms)\n",
    "opt.run(fmax=1e-3)"
   ]
  },
  {
   "cell_type": "markdown",
   "id": "e6630432-87ae-4cb8-b9d6-3ee11d0dcb8a",
   "metadata": {},
   "source": [
    "> Note that this mutates the original atoms object and updates its positions."
   ]
  },
  {
   "cell_type": "code",
   "execution_count": 14,
   "id": "ab22aafd-5de3-421a-b61b-775c5808a419",
   "metadata": {
    "tags": []
   },
   "outputs": [
    {
     "data": {
      "text/plain": [
       "array([[ 7.17242279e-05,  1.52121276e-04, -2.75015147e-04],\n",
       "       [ 2.59490798e-04,  9.01106079e-05,  4.03286166e-06],\n",
       "       [-4.31949839e-04, -1.41150158e-04,  1.70377564e-04],\n",
       "       [ 1.22850506e-04, -3.39324113e-04,  3.42142780e-05],\n",
       "       [-6.14902993e-05,  4.04153448e-05, -5.03023605e-05],\n",
       "       [-1.96786304e-04, -1.73499780e-04, -1.32824250e-04],\n",
       "       [ 1.40066056e-05,  1.05244680e-04,  2.27704910e-04],\n",
       "       [-3.03548727e-05, -6.07097455e-05,  8.32590795e-06],\n",
       "       [ 2.52552541e-04,  3.26878615e-04,  1.34862363e-05]])"
      ]
     },
     "execution_count": 14,
     "metadata": {},
     "output_type": "execute_result"
    }
   ],
   "source": [
    "atoms.get_forces()"
   ]
  },
  {
   "cell_type": "markdown",
   "id": "c1ee3b6b-2222-41ac-ab8f-154c37466441",
   "metadata": {},
   "source": [
    "**Exercise: compare the performance of QuasiNewton, FIRE and GPMin optimizers for a few small organic molecules**"
   ]
  },
  {
   "cell_type": "markdown",
   "id": "2e631e82-31c3-4c92-8d51-22edeea1ccd9",
   "metadata": {},
   "source": [
    "## Constraints\n",
    "\n",
    "We don't always want to optimize every degree of freedom; perhaps we can assume some region is rigid, or we are using a forcefield that fixes some bond length. In ASE this is achieved by applying _constraints_ to the Atoms object before optimisation.\n",
    "\n",
    "Suppose we want to explore the effect of stretching the C-C bond in ethane, while allowing the hydrogen atoms to relax to their local minimum at each configuration."
   ]
  },
  {
   "cell_type": "code",
   "execution_count": 15,
   "id": "e0b96032-4c47-4ab5-ae5c-cbb4bdd245b2",
   "metadata": {
    "tags": []
   },
   "outputs": [],
   "source": [
    "from ase.constraints import FixAtoms\n",
    "\n",
    "ethane = ase.build.molecule('C2H6')\n",
    "g2_c_c = ethane.positions[1, 2] - ethane.positions[0, 2]\n",
    "constraint = FixAtoms(mask=(atoms.symbols == 'C'))\n",
    "\n",
    "def build_stretched_ethane(d: float = g2_c_c) -> Atoms:\n",
    "    shift = (d - g2_c_c) / 2\n",
    "    ethane = ase.build.molecule('C2H6')\n",
    "    ethane.positions[[0, 2, 3, 4]] += [0, 0, shift]\n",
    "    ethane.positions[[1, 5, 6, 7]] -= [0, 0, shift]\n",
    "    ethane.set_constraint(constraint)\n",
    "    return ethane\n",
    "\n",
    "def get_optimised_energy(atoms: Atoms) -> float:\n",
    "    # Redirect STDOUT to avoid annoying message on every step\n",
    "    atoms.calc = MOPAC(command='mopac PREFIX.mop 1> /dev/null')\n",
    "    opt = GPMin(atoms)\n",
    "    opt.run(fmax=1e-3)\n",
    "    return atoms.get_potential_energy()"
   ]
  },
  {
   "cell_type": "code",
   "execution_count": 16,
   "id": "448c0184-a96c-4527-84c8-31ba6bba8c14",
   "metadata": {
    "tags": []
   },
   "outputs": [
    {
     "name": "stdout",
     "output_type": "stream",
     "text": [
      "       Step     Time          Energy          fmax\n",
      "GPMin:    0 11:15:29        0.208544         0.693187\n",
      "GPMin:    1 11:15:29        0.010296         0.115406\n",
      "GPMin:    2 11:15:29        0.008034         0.024697\n",
      "GPMin:    3 11:15:29        0.007877         0.011408\n",
      "GPMin:    4 11:15:29        0.007868         0.001131\n",
      "GPMin:    5 11:15:29        0.007871         0.000784\n",
      "       Step     Time          Energy          fmax\n",
      "GPMin:    0 11:15:29        0.004891         0.621748\n",
      "GPMin:    1 11:15:29       -0.148598         0.110453\n",
      "GPMin:    2 11:15:29       -0.151673         0.029460\n",
      "GPMin:    3 11:15:29       -0.151831         0.010914\n",
      "GPMin:    4 11:15:29       -0.151840         0.001365\n",
      "GPMin:    5 11:15:30       -0.151837         0.000968\n",
      "       Step     Time          Energy          fmax\n",
      "GPMin:    0 11:15:30       -0.185557         0.542410\n",
      "GPMin:    1 11:15:30       -0.297151         0.110753\n",
      "GPMin:    2 11:15:30       -0.301405         0.033660\n",
      "GPMin:    3 11:15:30       -0.301558         0.011636\n",
      "GPMin:    4 11:15:30       -0.301564         0.006232\n",
      "GPMin:    5 11:15:30       -0.301566         0.001605\n",
      "GPMin:    6 11:15:30       -0.301564         0.000377\n",
      "       Step     Time          Energy          fmax\n",
      "GPMin:    0 11:15:30       -0.359554         0.454383\n",
      "GPMin:    1 11:15:30       -0.433351         0.115860\n",
      "GPMin:    2 11:15:30       -0.438910         0.036632\n",
      "GPMin:    3 11:15:30       -0.439056         0.011921\n",
      "GPMin:    4 11:15:30       -0.439063         0.001158\n",
      "GPMin:    5 11:15:30       -0.439061         0.000215\n",
      "       Step     Time          Energy          fmax\n",
      "GPMin:    0 11:15:30       -0.512800         0.356939\n",
      "GPMin:    1 11:15:30       -0.554601         0.120804\n",
      "GPMin:    2 11:15:30       -0.561024         0.037269\n",
      "GPMin:    3 11:15:30       -0.561161         0.009839\n",
      "GPMin:    4 11:15:30       -0.561165         0.001118\n",
      "GPMin:    5 11:15:31       -0.561165         0.000591\n",
      "       Step     Time          Energy          fmax\n",
      "GPMin:    0 11:15:31       -0.639633         0.249621\n",
      "GPMin:    1 11:15:31       -0.657675         0.114301\n",
      "GPMin:    2 11:15:31       -0.663367         0.034829\n",
      "GPMin:    3 11:15:31       -0.663479         0.006902\n",
      "GPMin:    4 11:15:31       -0.663481         0.001379\n",
      "GPMin:    5 11:15:31       -0.663481         0.000663\n",
      "       Step     Time          Energy          fmax\n",
      "GPMin:    0 11:15:31       -0.732713         0.133629\n",
      "GPMin:    1 11:15:31       -0.738455         0.063419\n",
      "GPMin:    2 11:15:31       -0.740055         0.018883\n",
      "GPMin:    3 11:15:31       -0.740080         0.007060\n",
      "GPMin:    4 11:15:31       -0.740082         0.000661\n",
      "       Step     Time          Energy          fmax\n",
      "GPMin:    0 11:15:31       -0.782718         0.048157\n",
      "GPMin:    1 11:15:31       -0.783098         0.022657\n",
      "GPMin:    2 11:15:31       -0.783185         0.003206\n",
      "GPMin:    3 11:15:31       -0.783185         0.000318\n",
      "       Step     Time          Energy          fmax\n",
      "GPMin:    0 11:15:31       -0.778047         0.160836\n",
      "GPMin:    1 11:15:31       -0.782210         0.063283\n",
      "GPMin:    2 11:15:31       -0.782847         0.007287\n",
      "GPMin:    3 11:15:31       -0.782853         0.000394\n",
      "       Step     Time          Energy          fmax\n",
      "GPMin:    0 11:15:31       -0.704544         0.316270\n",
      "GPMin:    1 11:15:31       -0.706982         0.214952\n",
      "GPMin:    2 11:15:31       -0.726086         0.073858\n",
      "GPMin:    3 11:15:31       -0.726699         0.006312\n",
      "GPMin:    4 11:15:31       -0.726703         0.001655\n",
      "GPMin:    5 11:15:31       -0.726703         0.000322\n"
     ]
    }
   ],
   "source": [
    "import numpy as np\n",
    "lengths = np.linspace(0.8, 1.04, 10) * g2_c_c\n",
    "energies = [get_optimised_energy(build_stretched_ethane(d)) for d in lengths]\n"
   ]
  },
  {
   "cell_type": "code",
   "execution_count": 17,
   "id": "e95c5436-e35b-4470-9f07-f4b1fda8eb5d",
   "metadata": {
    "tags": []
   },
   "outputs": [
    {
     "data": {
      "text/plain": [
       "[<matplotlib.lines.Line2D at 0x7f7a8daf4c40>]"
      ]
     },
     "execution_count": 17,
     "metadata": {},
     "output_type": "execute_result"
    },
    {
     "data": {
      "image/png": "[encoded data removed]",
      "text/plain": [
       "<Figure size 640x480 with 1 Axes>"
      ]
     },
     "metadata": {},
     "output_type": "display_data"
    }
   ],
   "source": [
    "%matplotlib inline\n",
    "import matplotlib.pyplot as plt\n",
    "plt.plot(lengths, energies, 'o-')"
   ]
  },
  {
   "cell_type": "markdown",
   "id": "dc27d3ca-3ef6-48d7-8fa5-bfbd70bbc5f4",
   "metadata": {
    "tags": []
   },
   "source": [
    "## Filters\n",
    "\n",
    "By default the geometry optimization only considers the atomic positions. To present other degrees of freedom, ASE includes \"filters\" that present them to the optimizer."
   ]
  },
  {
   "cell_type": "markdown",
   "id": "3cdb6494-7a03-42e5-8bea-b9324c6aa981",
   "metadata": {},
   "source": [
    "Suppose we want to find the minimum-energy Si lattice parameters for a GAP machine-learned potential."
   ]
  },
  {
   "cell_type": "code",
   "execution_count": 18,
   "id": "54dc482a-1570-4b6c-af48-db846a3c582c",
   "metadata": {
    "tags": []
   },
   "outputs": [],
   "source": [
    "from ase.constraints import StrainFilter\n",
    "\n",
    "from pathlib import Path\n",
    "#import quippy.potential_module\n",
    "from quippy.potential import Potential\n",
    "\n",
    "gap = Potential(param_filename=str(Path.cwd() / 'Si_PRX_GAP/gp_iter6_sparse9k.xml'))"
   ]
  },
  {
   "cell_type": "code",
   "execution_count": 19,
   "id": "5ce2b8b9-c12a-4ad0-a4b6-0ffb5fe42241",
   "metadata": {
    "tags": []
   },
   "outputs": [],
   "source": [
    "si = ase.build.bulk('Si', cubic=True)\n",
    "si.calc = gap\n",
    "si_strain = StrainFilter(si)"
   ]
  },
  {
   "cell_type": "markdown",
   "id": "86611df1-a0f4-46b7-8dd4-81e4cd5c70d8",
   "metadata": {},
   "source": [
    "The filter presents a similar interface to Atoms, but \"cheats\" and puts different information into the positions data; in this case a strain relative to the initial unit cell."
   ]
  },
  {
   "cell_type": "code",
   "execution_count": 20,
   "id": "d4d7578a-b14e-412d-b453-1564e16380b6",
   "metadata": {
    "tags": []
   },
   "outputs": [
    {
     "data": {
      "text/plain": [
       "array([[0., 0., 0.],\n",
       "       [0., 0., 0.]])"
      ]
     },
     "execution_count": 20,
     "metadata": {},
     "output_type": "execute_result"
    }
   ],
   "source": [
    "si_strain.get_positions()"
   ]
  },
  {
   "cell_type": "markdown",
   "id": "34a28d24-2b19-44ca-aa38-c79935a55163",
   "metadata": {},
   "source": [
    "In this case the calculated stresses are then remapped to \"atomic forces\""
   ]
  },
  {
   "cell_type": "code",
   "execution_count": 21,
   "id": "64844166-fead-41a1-b515-0ce32c6b7e40",
   "metadata": {
    "tags": []
   },
   "outputs": [
    {
     "data": {
      "text/plain": [
       "array([[ 1.55837119e+00,  1.55837119e+00,  1.55837119e+00],\n",
       "       [ 7.06032455e-16, -6.41847686e-17, -8.67361738e-18]])"
      ]
     },
     "execution_count": 21,
     "metadata": {},
     "output_type": "execute_result"
    }
   ],
   "source": [
    "si_strain.get_forces()"
   ]
  },
  {
   "cell_type": "code",
   "execution_count": 22,
   "id": "23945c97-bb78-48d5-ad69-d552aa46b81d",
   "metadata": {
    "tags": []
   },
   "outputs": [
    {
     "name": "stdout",
     "output_type": "stream",
     "text": [
      "                Step[ FC]     Time          Energy          fmax\n",
      "*Force-consistent energies used in optimization.\n",
      "BFGSLineSearch:    0[  0] 11:15:35    -1305.407858*       2.6992\n",
      "BFGSLineSearch:    1[  2] 11:15:36    -1305.420818*       0.3445\n",
      "BFGSLineSearch:    2[  3] 11:15:36    -1305.421038*       0.0080\n",
      "BFGSLineSearch:    3[  4] 11:15:36    -1305.421038*       0.0000\n"
     ]
    },
    {
     "data": {
      "text/plain": [
       "True"
      ]
     },
     "execution_count": 22,
     "metadata": {},
     "output_type": "execute_result"
    }
   ],
   "source": [
    "from ase.optimize import QuasiNewton\n",
    "opt = QuasiNewton(si_strain)\n",
    "opt.run(fmax=1e-4)"
   ]
  },
  {
   "cell_type": "markdown",
   "id": "445bd81b-cb7c-4898-ac37-29ffd3259c21",
   "metadata": {},
   "source": [
    "This gets us a Si lattice with very low stress:"
   ]
  },
  {
   "cell_type": "code",
   "execution_count": 23,
   "id": "fcbb5917-71c2-4706-bbfa-458fb1db60e1",
   "metadata": {
    "tags": []
   },
   "outputs": [
    {
     "name": "stdout",
     "output_type": "stream",
     "text": [
      "Lattice parameter: 5.460914996056226\n",
      "Residual stress:\n",
      "[-8.62027513e-08 -8.62027472e-08 -8.62027630e-08 -2.58637937e-15\n",
      " -6.90550987e-15 -4.46639070e-15]\n"
     ]
    }
   ],
   "source": [
    "print(f\"Lattice parameter: {si.cell.lengths()[0]}\")\n",
    "print(\"Residual stress:\")\n",
    "print(si.get_stress())"
   ]
  },
  {
   "cell_type": "markdown",
   "id": "4e0a0362-de60-4662-9955-ad18c9cad33d",
   "metadata": {},
   "source": [
    "We can optimise the lattice vectors and positions at the same time using a [UnitCellFilter](https://wiki.fysik.dtu.dk/ase/ase/constraints.html#the-unitcellfilter-class) or the more sophisticated [ExpCellFilter](https://wiki.fysik.dtu.dk/ase/ase/constraints.html#the-expcellfilter-class).\n",
    "\n",
    "Let's generate an amorphous Si cell by stretching a supercell and running a few steps of high-temperature MD. This is a similar process to the Cu calculation, but now we are keeping the periodic boundary and using a machine-learned potential. It should take a few minutes to run."
   ]
  },
  {
   "cell_type": "code",
   "execution_count": 24,
   "id": "c303e37e-01d1-49ef-929b-a96304eb8893",
   "metadata": {
    "tags": []
   },
   "outputs": [],
   "source": [
    "si = ase.build.bulk('Si', cubic=True) * [2, 2, 2]\n",
    "si.set_cell(si.cell * 1.2, scale_atoms=True)\n",
    "si.calc = gap\n",
    "si.calc.name = 'Si melt'"
   ]
  },
  {
   "cell_type": "code",
   "execution_count": 25,
   "id": "4ca1fa51-dbd6-4d3d-96c4-0726b6df7f98",
   "metadata": {
    "tags": []
   },
   "outputs": [
    {
     "name": "stdout",
     "output_type": "stream",
     "text": [
      "Energy per atom: Epot = 0.457eV  Ekin = 0.055eV (T=423K)  Etot = 0.512eV\n",
      "Energy per atom: Epot = 0.457eV  Ekin = 0.055eV (T=423K)  Etot = 0.512eV\n",
      "Energy per atom: Epot = 0.457eV  Ekin = 0.055eV (T=423K)  Etot = 0.512eV\n",
      "Energy per atom: Epot = 0.457eV  Ekin = 0.055eV (T=423K)  Etot = 0.512eV\n",
      "Energy per atom: Epot = 0.457eV  Ekin = 0.055eV (T=423K)  Etot = 0.512eV\n",
      "Energy per atom: Epot = 0.457eV  Ekin = 0.055eV (T=423K)  Etot = 0.512eV\n",
      "Energy per atom: Epot = 0.457eV  Ekin = 0.055eV (T=423K)  Etot = 0.512eV\n",
      "Energy per atom: Epot = 0.457eV  Ekin = 0.055eV (T=423K)  Etot = 0.512eV\n",
      "Energy per atom: Epot = 0.457eV  Ekin = 0.055eV (T=423K)  Etot = 0.512eV\n",
      "Energy per atom: Epot = 0.457eV  Ekin = 0.055eV (T=423K)  Etot = 0.512eV\n",
      "Energy per atom: Epot = 0.457eV  Ekin = 0.055eV (T=423K)  Etot = 0.512eV\n",
      "Energy per atom: Epot = 0.457eV  Ekin = 0.055eV (T=423K)  Etot = 0.512eV\n",
      "Energy per atom: Epot = 0.457eV  Ekin = 0.055eV (T=423K)  Etot = 0.512eV\n",
      "Energy per atom: Epot = 0.457eV  Ekin = 0.055eV (T=423K)  Etot = 0.512eV\n",
      "Energy per atom: Epot = 0.457eV  Ekin = 0.055eV (T=423K)  Etot = 0.512eV\n",
      "Energy per atom: Epot = 0.457eV  Ekin = 0.055eV (T=423K)  Etot = 0.512eV\n",
      "Energy per atom: Epot = 0.457eV  Ekin = 0.055eV (T=423K)  Etot = 0.512eV\n",
      "Energy per atom: Epot = 0.457eV  Ekin = 0.055eV (T=423K)  Etot = 0.512eV\n",
      "Energy per atom: Epot = 0.457eV  Ekin = 0.055eV (T=423K)  Etot = 0.512eV\n",
      "Energy per atom: Epot = 0.457eV  Ekin = 0.055eV (T=423K)  Etot = 0.512eV\n",
      "Energy per atom: Epot = 0.457eV  Ekin = 0.055eV (T=423K)  Etot = 0.512eV\n"
     ]
    },
    {
     "data": {
      "text/plain": [
       "True"
      ]
     },
     "execution_count": 25,
     "metadata": {},
     "output_type": "execute_result"
    }
   ],
   "source": [
    "MaxwellBoltzmannDistribution(si, temperature_K=3000)\n",
    "dyn = Langevin(si, 5 * ase.units.fs, friction=0.002, temperature_K=3000)\n",
    "dyn.attach(energy_observer, interval=20)\n",
    "traj = Trajectory('si_melt.traj', 'w', si)\n",
    "dyn.attach(traj.write, interval=20)\n",
    "dyn.run(400)"
   ]
  },
  {
   "cell_type": "markdown",
   "id": "6e7da227-5e77-4847-b195-50fec1a726f1",
   "metadata": {},
   "source": [
    "Now instead of quenching with MD we perform a local optimisation to find a glassy local-minimum phase."
   ]
  },
  {
   "cell_type": "code",
   "execution_count": 30,
   "id": "fd1e917f-22cb-4b35-bd0d-c1b0e549a4ce",
   "metadata": {
    "tags": []
   },
   "outputs": [
    {
     "name": "stdout",
     "output_type": "stream",
     "text": [
      "                Step[ FC]     Time          Energy          fmax\n",
      "*Force-consistent energies used in optimization.\n",
      "BFGSLineSearch:    0[  0] 11:23:00   -10438.560479*       0.0082\n",
      "BFGSLineSearch:    1[  2] 11:23:02   -10438.560479*       0.0083\n",
      "BFGSLineSearch:    2[  4] 11:23:05   -10438.560479*       0.0021\n",
      "BFGSLineSearch:    3[  6] 11:23:07   -10438.560479*       0.0130\n",
      "BFGSLineSearch:    4[  8] 11:23:10   -10438.560479*       0.0008\n"
     ]
    },
    {
     "data": {
      "text/plain": [
       "True"
      ]
     },
     "execution_count": 30,
     "metadata": {},
     "output_type": "execute_result"
    }
   ],
   "source": [
    "from ase.constraints import ExpCellFilter\n",
    "si_expcell = ExpCellFilter(si)\n",
    "opt = QuasiNewton(si_expcell)\n",
    "traj = Trajectory('si_glass.traj', 'w', si)\n",
    "opt.attach(traj)\n",
    "opt.run(fmax=1e-3)"
   ]
  },
  {
   "cell_type": "markdown",
   "id": "50ab6509-444a-45b8-aadc-56f6b449e605",
   "metadata": {},
   "source": [
    "Note that the trajectory writer is directed to the original `si` Atoms object, not the filtered version. *Why?*\n",
    "\n",
    "Have a look at the melt and quench trajectories. At first glance it probably came back to something that looks pretty similar to the starting structure. And the forces and stresses are low, so we should be in a local minimum:"
   ]
  },
  {
   "cell_type": "code",
   "execution_count": 36,
   "id": "6d264720-db6d-4379-8695-4bf064e89681",
   "metadata": {
    "tags": []
   },
   "outputs": [
    {
     "name": "stdout",
     "output_type": "stream",
     "text": [
      "Max force:\n",
      "0.000764832698961055\n",
      "Stress:\n",
      "[ 1.17734167e-07  5.24076825e-08 -1.70158721e-07 -1.69164613e-08\n",
      " -3.43769568e-08 -9.34363441e-09]\n"
     ]
    }
   ],
   "source": [
    "print(\"Max force:\")\n",
    "print(np.linalg.norm(si.get_forces(), axis=1).max())\n",
    "\n",
    "print(\"Stress:\")\n",
    "print(si.get_stress())"
   ]
  },
  {
   "cell_type": "markdown",
   "id": "cc45b82b-e1eb-413e-9365-140147b7b74b",
   "metadata": {},
   "source": [
    "**Exercise: Compare the energy and lattice vectors to the perfect crystal**"
   ]
  },
  {
   "cell_type": "markdown",
   "id": "b6a85b5f-dd82-4616-a4c5-756d8c142e25",
   "metadata": {},
   "source": [
    "#### Final assignment\n",
    "A very useful constraint is the [FixSymmetry](https://wiki.fysik.dtu.dk/ase/ase/constraints.html#the-fixsymmetry-class) class.\n",
    "\n",
    "Find a geometry file for a high-symmetry crystal structure. With a Calculator of your choice, perform a geometry optimization of the lattice vectors and atomic positions while fixing the symmetry."
   ]
  },
  {
   "cell_type": "code",
   "execution_count": null,
   "id": "93f52ade-c113-484d-a4d7-87b1c941bd52",
   "metadata": {},
   "outputs": [],
   "source": []
  }
 ],
 "metadata": {
  "kernelspec": {
   "display_name": "Python 3 (ipykernel)",
   "language": "python",
   "name": "python3"
  },
  "language_info": {
   "codemirror_mode": {
    "name": "ipython",
    "version": 3
   },
   "file_extension": ".py",
   "mimetype": "text/x-python",
   "name": "python",
   "nbconvert_exporter": "python",
   "pygments_lexer": "ipython3",
   "version": "3.10.10"
  }
 },
 "nbformat": 4,
 "nbformat_minor": 5
}
