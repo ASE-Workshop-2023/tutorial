{
 "cells": [
  {
   "cell_type": "markdown",
   "id": "d51a1fb7",
   "metadata": {},
   "source": [
    "### Building Atoms: direct definition"
   ]
  },
  {
   "cell_type": "markdown",
   "id": "71f696f8",
   "metadata": {},
   "source": [
    "ASE is Python library for _atomistic modelling_; systems are fundamentally described by a set of atomic positions, and calculations are derived from these.\n",
    "\n",
    "When working with ASE molecules and materials are represented by the `Atoms` class. We can define a molecule with lists of symbols and positions:"
   ]
  },
  {
   "cell_type": "code",
   "execution_count": 1,
   "id": "5b15a02d",
   "metadata": {},
   "outputs": [],
   "source": [
    "from ase import Atoms\n",
    "\n",
    "d = 1.10\n",
    "molecule = Atoms(['N', 'N'], positions=[(0., 0., 0.), (0., 0., d)])"
   ]
  },
  {
   "cell_type": "markdown",
   "id": "9b0d9e0f",
   "metadata": {},
   "source": [
    "or, conveniently, we can compress the positions to a chemical formula:"
   ]
  },
  {
   "cell_type": "code",
   "execution_count": 2,
   "id": "9a13ac9c",
   "metadata": {},
   "outputs": [],
   "source": [
    "molecule = Atoms('N2', positions=[(0., 0., 0.), (0., 0., d)])"
   ]
  },
  {
   "cell_type": "markdown",
   "id": "da891ed0",
   "metadata": {},
   "source": [
    "It can be useful to visualise our structure to make sure it is reasonable. `ase.visualize.view` provides a simple structure viewer in a floating window; this is quite useful when working on a Python script, but can be a little bit annoying when using a Jupyter notebook."
   ]
  },
  {
   "cell_type": "code",
   "execution_count": 3,
   "id": "f29edba9",
   "metadata": {},
   "outputs": [
    {
     "data": {
      "text/plain": [
       "<Popen: returncode: None args: ['/home/adam/.conda/envs/user-base/envs/ase-t...>"
      ]
     },
     "execution_count": 3,
     "metadata": {},
     "output_type": "execute_result"
    }
   ],
   "source": [
    "from ase.visualize import view\n",
    "view(molecule)"
   ]
  },
  {
   "cell_type": "markdown",
   "id": "9fef2b19",
   "metadata": {},
   "source": [
    "You can spin the molecule around with right-click-and-drag, and zoom with mouse wheel.\n",
    "\n",
    "Some alternative viewers are available for Jupyter notebooks; here we will use `nglview`. It should be pre-installed on the virtual machines for the workshop. In this viewer left-click-and-drag is used for rotation."
   ]
  },
  {
   "cell_type": "code",
   "execution_count": 4,
   "id": "f44ef605",
   "metadata": {},
   "outputs": [
    {
     "data": {
      "application/vnd.jupyter.widget-view+json": {
       "model_id": "97b7c60163554778a3a9b9fa9c796b73",
       "version_major": 2,
       "version_minor": 0
      },
      "text/plain": []
     },
     "metadata": {},
     "output_type": "display_data"
    },
    {
     "data": {
      "application/vnd.jupyter.widget-view+json": {
       "model_id": "2e74ff84555843b0bfa4772c6ab55c99",
       "version_major": 2,
       "version_minor": 0
      },
      "text/plain": [
       "NGLWidget()"
      ]
     },
     "metadata": {},
     "output_type": "display_data"
    }
   ],
   "source": [
    "import nglview\n",
    "nglview.show_ase(molecule)"
   ]
  },
  {
   "cell_type": "markdown",
   "id": "f0668f29",
   "metadata": {},
   "source": [
    "Many interesting systems are crystals, described by atomic positions in a periodic unit cell. There are two relevant settings for an Atoms object: the unit cell itself and the _periodic boundary conditions_ (PBC)."
   ]
  },
  {
   "cell_type": "code",
   "execution_count": 5,
   "id": "c3e7b0c6",
   "metadata": {},
   "outputs": [
    {
     "data": {
      "application/vnd.jupyter.widget-view+json": {
       "model_id": "5c54d17ffef04385a81c1511acaf4da5",
       "version_major": 2,
       "version_minor": 0
      },
      "text/plain": [
       "NGLWidget()"
      ]
     },
     "metadata": {},
     "output_type": "display_data"
    }
   ],
   "source": [
    "a = 5.387\n",
    "crystal = Atoms('Zn4S4',\n",
    "                scaled_positions=[[0., 0., 0.],\n",
    "                                  [0., 0.5, 0.5],\n",
    "                                  [0.5, 0., 0.5],\n",
    "                                  [0.5, 0.5, 0.],\n",
    "                                  [0.25, 0.75, 0.75],\n",
    "                                  [0.25, 0.25, 0.25],\n",
    "                                  [0.75, 0.75, 0.25],\n",
    "                                  [0.75, 0.25, 0.75]],\n",
    "               cell=[a, a, a],\n",
    "               pbc=True)\n",
    "\n",
    "def show(atoms: Atoms) -> None:    \n",
    "    view = nglview.show_ase(atoms)\n",
    "    if any(atoms.pbc):\n",
    "        view.add_unitcell()\n",
    "    return view\n",
    "\n",
    "show(crystal)"
   ]
  },
  {
   "cell_type": "markdown",
   "id": "50f30fa7",
   "metadata": {},
   "source": [
    "We used a few tricks to make writing in the structure a bit easier:\n",
    "- The symbols were compressed to 'Zn4S4'\n",
    "- Instead of working out positions in Angstrom, `scaled_positions` relative to lattice vectors were used\n",
    "- The cell with just 3 values, so it is assumed to be cubic. In other cases we might use the full 3x3 matrix, e.g. `cell=[[a, 0, 0], [0, a, 0], [0, 0, a]]`\n",
    "- We set `pbc=True` to indicate periodic boundary conditions in all directions. These can also be specified along each direction, e.g. `pbc=[True, True, False]` for a \"slab\" calculation with exposed surfaces.\n",
    "\n",
    "We also defined a Python function `show()` which will show Atoms including a unit cell with nglview. This will save us from writing three lines of code every time!"
   ]
  },
  {
   "cell_type": "markdown",
   "id": "0100e875",
   "metadata": {},
   "source": [
    "### Examining atoms: properties and methods"
   ]
  },
  {
   "cell_type": "markdown",
   "id": "312c1d50",
   "metadata": {},
   "source": [
    "Now that we have some Atoms objects we can see what information is available from them. We call some \"getter\" methods on the `molecule` object, which is an instance of `Atoms`."
   ]
  },
  {
   "cell_type": "code",
   "execution_count": 6,
   "id": "33aeb286",
   "metadata": {},
   "outputs": [
    {
     "name": "stdout",
     "output_type": "stream",
     "text": [
      "N2 positions\n",
      "[[0.  0.  0. ]\n",
      " [0.  0.  1.1]]\n",
      "\n",
      "N2 symbols\n",
      "['N', 'N']\n",
      "\n",
      "N2 masses\n",
      "[14.007 14.007]\n",
      "\n",
      "N2 center of mass\n",
      "[0.   0.   0.55]\n"
     ]
    }
   ],
   "source": [
    "print(\"N2 positions\")\n",
    "print(molecule.get_positions(), end=\"\\n\\n\")\n",
    "\n",
    "print(\"N2 symbols\")\n",
    "print(molecule.get_chemical_symbols(), end=\"\\n\\n\")\n",
    "\n",
    "print(\"N2 masses\")\n",
    "print(molecule.get_masses(), end=\"\\n\\n\")\n",
    "\n",
    "print(\"N2 center of mass\")\n",
    "print(molecule.get_center_of_mass())"
   ]
  },
  {
   "cell_type": "markdown",
   "id": "0b0ba301",
   "metadata": {},
   "source": [
    "The first two attributes here are not surprising; they are the information we provided. The masses were not provided: when the Atoms was created, ASE found some standard values and included them in the data set.\n",
    "\n",
    "If we like, we can override this default and include some isotopic effects:"
   ]
  },
  {
   "cell_type": "code",
   "execution_count": 7,
   "id": "73ee9949",
   "metadata": {},
   "outputs": [
    {
     "name": "stdout",
     "output_type": "stream",
     "text": [
      "13N-14N masses\n",
      "[13.006 14.003]\n",
      "\n",
      "13N-14N center of mass\n",
      "[0.         0.         0.57030249]\n"
     ]
    }
   ],
   "source": [
    "d = 1.10\n",
    "isotope = Atoms('N2',\n",
    "                positions=[(0., 0., 0.), (0., 0., d)],\n",
    "                masses=[13.006, 14.003])\n",
    "\n",
    "print(\"13N-14N masses\")\n",
    "print(isotope.get_masses(), end=\"\\n\\n\")\n",
    "\n",
    "print(\"13N-14N center of mass\")\n",
    "print(isotope.get_center_of_mass())\n"
   ]
  },
  {
   "cell_type": "markdown",
   "id": "3f3e6612",
   "metadata": {},
   "source": [
    "The center of mass was _not_ defined when the Atoms are created; it is derived from the other properties. So if we modify the masses using a _setter_, it should be recalculated correctly."
   ]
  },
  {
   "cell_type": "code",
   "execution_count": 8,
   "id": "bc4a8eee",
   "metadata": {},
   "outputs": [
    {
     "name": "stdout",
     "output_type": "stream",
     "text": [
      "Center of mass before modifying masses:\n",
      "[0.   0.   0.55]\n",
      "\n",
      "Center of mass after modifying masses:\n",
      "[0.         0.         0.57030249]\n"
     ]
    }
   ],
   "source": [
    "isotope = molecule.copy()\n",
    "print(\"Center of mass before modifying masses:\")\n",
    "print(isotope.get_center_of_mass(), end='\\n\\n')\n",
    "\n",
    "isotope.set_masses([13.006, 14.003])\n",
    "print(\"Center of mass after modifying masses:\")\n",
    "print(isotope.get_center_of_mass())"
   ]
  },
  {
   "cell_type": "markdown",
   "id": "e4b92743",
   "metadata": {},
   "source": [
    "In a jupyter notebook we can get the \"docstring\" of a method or function by adding `?` to the name:"
   ]
  },
  {
   "cell_type": "code",
   "execution_count": 9,
   "id": "3f7b9819",
   "metadata": {},
   "outputs": [
    {
     "data": {
      "text/plain": [
       "\u001b[0;31mSignature:\u001b[0m \u001b[0misotope\u001b[0m\u001b[0;34m.\u001b[0m\u001b[0mget_center_of_mass\u001b[0m\u001b[0;34m(\u001b[0m\u001b[0mscaled\u001b[0m\u001b[0;34m=\u001b[0m\u001b[0;32mFalse\u001b[0m\u001b[0;34m)\u001b[0m\u001b[0;34m\u001b[0m\u001b[0;34m\u001b[0m\u001b[0m\n",
       "\u001b[0;31mDocstring:\u001b[0m\n",
       "Get the center of mass.\n",
       "\n",
       "If scaled=True the center of mass in scaled coordinates\n",
       "is returned.\n",
       "\u001b[0;31mFile:\u001b[0m      ~/src/ase/ase/atoms.py\n",
       "\u001b[0;31mType:\u001b[0m      method"
      ]
     },
     "metadata": {},
     "output_type": "display_data"
    }
   ],
   "source": [
    "isotope.get_center_of_mass?"
   ]
  },
  {
   "cell_type": "markdown",
   "id": "ef764fa5",
   "metadata": {},
   "source": [
    "And we can get access to the available methods and properties with tab-completion. In a Jupyter notebook or IPython terminal, try:\n",
    "\n",
    "```crystal.[TAB]```\n",
    "\n",
    "where `[TAB]` means \"hit the TAB key\". You should see that the Atoms object has a lot of features available!\n",
    "\n",
    "Not all of them ll work until we start using *Calculators*, but the rest of this tutorial should include some useful ones.\n",
    "\n",
    "#### Exercise 1:\n",
    "Use tab-completion and docstrings to explore the features of Atoms. In the ZnS structure, find the distance between the first Zn atom and the four S atoms. Are some of them nearer than others?\n",
    "\n",
    "*Hint: you may need to use the \"minimum image convention\"*"
   ]
  },
  {
   "cell_type": "markdown",
   "id": "ddfa71da",
   "metadata": {},
   "source": [
    "## Reading and writing\n",
    "\n",
    "Even with the shortcuts above, writing out structures in Python syntax can be a bit cumbersome. There are many established file formats for this data, and ASE contains read/write functions for some of them.\n",
    "\n",
    "For example, we might obtain a structure from an online database. Here is the [Materials Project entry for sphalerite](https://materialsproject.org/materials/mp-10695); use the \"export as\" button on the structure visualiser to obtain a .cif file."
   ]
  },
  {
   "cell_type": "code",
   "execution_count": 10,
   "id": "b5453f07",
   "metadata": {},
   "outputs": [
    {
     "data": {
      "application/vnd.jupyter.widget-view+json": {
       "model_id": "44acc8b4f45b4eaf810236bee1fc0da3",
       "version_major": 2,
       "version_minor": 0
      },
      "text/plain": [
       "NGLWidget()"
      ]
     },
     "metadata": {},
     "output_type": "display_data"
    }
   ],
   "source": [
    "import ase.io\n",
    "from pathlib import Path\n",
    "\n",
    "# You may need to change the path to match the location/file you downloaded\n",
    "imported_crystal = ase.io.read(Path.home() / \"Downloads/ZnS.cif\", format='cif')\n",
    "\n",
    "show(imported_crystal)"
   ]
  },
  {
   "cell_type": "markdown",
   "id": "9a40902f",
   "metadata": {},
   "source": [
    "Using the virtual desktop, have a look at this .cif file in a text editor. CIF is quite a complicated format because it is designed to hold a lot of data relevant to crystallography. By comparison, the `FHI-aims` quantum chemistry code has a very simple structure format. Let's write the ZnS structure in this format instead:"
   ]
  },
  {
   "cell_type": "code",
   "execution_count": 11,
   "id": "e1130fad",
   "metadata": {},
   "outputs": [],
   "source": [
    "ase.io.write('geometry.in', imported_crystal, scaled=True)"
   ]
  },
  {
   "cell_type": "markdown",
   "id": "619156aa",
   "metadata": {},
   "source": [
    "Taking a peek at this file:"
   ]
  },
  {
   "cell_type": "code",
   "execution_count": 12,
   "id": "a5acf9ad",
   "metadata": {},
   "outputs": [
    {
     "name": "stdout",
     "output_type": "stream",
     "text": [
      "#===============================================================================\n",
      "# Created using the Atomic Simulation Environment (ASE)\n",
      "\n",
      "# Mon Apr  3 11:11:50 2023\n",
      "\n",
      "#=======================================================\n",
      "lattice_vector 5.3873657499999998 0.0000000000000000 0.0000000000000000 \n",
      "lattice_vector 0.0000000000000000 5.3873657499999998 0.0000000000000000 \n",
      "lattice_vector 0.0000000000000000 0.0000000000000000 5.3873657499999998 \n",
      "atom_frac 0.0000000000000000 0.0000000000000000 0.0000000000000000 Zn\n",
      "atom_frac 0.5000000000000000 0.5000000000000000 0.0000000000000000 Zn\n",
      "atom_frac 0.5000000000000000 0.0000000000000000 0.5000000000000000 Zn\n",
      "atom_frac 0.0000000000000000 0.5000000000000000 0.5000000000000000 Zn\n",
      "atom_frac 0.2500000000000000 0.2500000000000000 0.2500000000000000 S\n",
      "atom_frac 0.2500000000000000 0.7500000000000000 0.7500000000000000 S\n",
      "atom_frac 0.7500000000000000 0.7500000000000000 0.2500000000000000 S\n",
      "atom_frac 0.7500000000000000 0.2500000000000000 0.7500000000000000 S\n"
     ]
    }
   ],
   "source": [
    "%%bash\n",
    "cat geometry.in"
   ]
  },
  {
   "cell_type": "markdown",
   "id": "9078da5a",
   "metadata": {},
   "source": [
    "Note that\n",
    "- we didn't specify the FHI-aims format; it was correctly guessed from the filename. (This also works for ase.io.read.)\n",
    "- we added a `scaled=True` option to write in fractional coordinates; by default this writer uses Cartesian coordinates.\n",
    "\n",
    "How does this work? There are lots of relevant functions in modules under `ase.io`: `ase.io.read()` and `ase.io.write()` will automatically dispatch to these functions. If we look at `ase.io.write?` we get the signature\n",
    "\n",
    "```python\n",
    "ase.io.write(\n",
    "    filename: Union[str, pathlib.PurePath, IO],\n",
    "    images: Union[ase.atoms.Atoms, Sequence[ase.atoms.Atoms]],\n",
    "    format: str = None,\n",
    "    parallel: bool = True,\n",
    "    append: bool = False,\n",
    "    **kwargs: Any,\n",
    ") -> None\n",
    "```\n",
    "\n",
    "`**kwargs` means \"all remaining keyword arguments\"; this allows extra options like `scaled=True` to be passed to writers that understand them.\n",
    "\n",
    "More information about the supported formats can be found at https://wiki.fysik.dtu.dk/ase/ase/io/io.html and a summary can be produced from the command-line with"
   ]
  },
  {
   "cell_type": "code",
   "execution_count": 13,
   "id": "fd6040ad",
   "metadata": {},
   "outputs": [
    {
     "name": "stderr",
     "output_type": "stream",
     "text": [
      "RuntimeError: module compiled against API version 0x10 but this version of numpy is 0xf\n",
      "RuntimeError: module compiled against API version 0x10 but this version of numpy is 0xf\n",
      "usage: ase [-h] [--version] [-T]\n",
      "           {help,info,test,gui,db,run,band-structure,build,dimensionality,eos,ulm,find,nebplot,nomad-upload,nomad-get,convert,reciprocal,completion,diff,exec}\n",
      "           ...\n",
      "ase: error: UnknownFileTypeError: File format not recognized: castep-castep.  Error: numpy.core.multiarray failed to import\n",
      "To get a full traceback, use: ase -T info ...\n"
     ]
    },
    {
     "name": "stdout",
     "output_type": "stream",
     "text": [
      "platform                 Linux-6.2.7-200.fc37.x86_64-x86_64-with-glibc2.36\n",
      "python-3.11.2            /usr/bin/python3\n",
      "ase-3.23.0b1-cec70c9181  /home/adam/src/ase/ase\n",
      "numpy-1.22.0             /usr/lib64/python3.11/site-packages/numpy\n",
      "scipy-1.10.1             /home/adam/.local/lib/python3.11/site-packages/scipy\n",
      "matplotlib               not installed\n",
      "spglib                   not installed\n",
      "ase_ext                  not installed\n",
      "flask                    not installed\n",
      "psycopg2                 not installed\n",
      "pyamg                    not installed\n",
      "\n",
      "Supported formats:\n",
      "  abinit-in [rw/single]: ABINIT input file\n",
      "  abinit-out [r/single]: ABINIT output file\n",
      "  acemolecule-input [r/single]: ACE input file\n",
      "  acemolecule-out [r/single]: ACE output file\n",
      "  aims [rw/single, ext=in]: FHI-aims geometry file\n",
      "  aims-output [r/multi]: FHI-aims output\n",
      "  bundletrajectory [rw/multi]: ASE bundle trajectory\n"
     ]
    },
    {
     "ename": "CalledProcessError",
     "evalue": "Command 'b'ase info --formats\\n'' returned non-zero exit status 2.",
     "output_type": "error",
     "traceback": [
      "\u001b[0;31m---------------------------------------------------------------------------\u001b[0m",
      "\u001b[0;31mCalledProcessError\u001b[0m                        Traceback (most recent call last)",
      "Cell \u001b[0;32mIn[13], line 1\u001b[0m\n\u001b[0;32m----> 1\u001b[0m \u001b[43mget_ipython\u001b[49m\u001b[43m(\u001b[49m\u001b[43m)\u001b[49m\u001b[38;5;241;43m.\u001b[39;49m\u001b[43mrun_cell_magic\u001b[49m\u001b[43m(\u001b[49m\u001b[38;5;124;43m'\u001b[39;49m\u001b[38;5;124;43mbash\u001b[39;49m\u001b[38;5;124;43m'\u001b[39;49m\u001b[43m,\u001b[49m\u001b[43m \u001b[49m\u001b[38;5;124;43m'\u001b[39;49m\u001b[38;5;124;43m'\u001b[39;49m\u001b[43m,\u001b[49m\u001b[43m \u001b[49m\u001b[38;5;124;43m'\u001b[39;49m\u001b[38;5;124;43mase info --formats\u001b[39;49m\u001b[38;5;130;43;01m\\n\u001b[39;49;00m\u001b[38;5;124;43m'\u001b[39;49m\u001b[43m)\u001b[49m\n",
      "File \u001b[0;32m~/.conda/envs/user-base/envs/ase-tutorials/lib/python3.10/site-packages/IPython/core/interactiveshell.py:2475\u001b[0m, in \u001b[0;36mInteractiveShell.run_cell_magic\u001b[0;34m(self, magic_name, line, cell)\u001b[0m\n\u001b[1;32m   2473\u001b[0m \u001b[38;5;28;01mwith\u001b[39;00m \u001b[38;5;28mself\u001b[39m\u001b[38;5;241m.\u001b[39mbuiltin_trap:\n\u001b[1;32m   2474\u001b[0m     args \u001b[38;5;241m=\u001b[39m (magic_arg_s, cell)\n\u001b[0;32m-> 2475\u001b[0m     result \u001b[38;5;241m=\u001b[39m \u001b[43mfn\u001b[49m\u001b[43m(\u001b[49m\u001b[38;5;241;43m*\u001b[39;49m\u001b[43margs\u001b[49m\u001b[43m,\u001b[49m\u001b[43m \u001b[49m\u001b[38;5;241;43m*\u001b[39;49m\u001b[38;5;241;43m*\u001b[39;49m\u001b[43mkwargs\u001b[49m\u001b[43m)\u001b[49m\n\u001b[1;32m   2477\u001b[0m \u001b[38;5;66;03m# The code below prevents the output from being displayed\u001b[39;00m\n\u001b[1;32m   2478\u001b[0m \u001b[38;5;66;03m# when using magics with decodator @output_can_be_silenced\u001b[39;00m\n\u001b[1;32m   2479\u001b[0m \u001b[38;5;66;03m# when the last Python token in the expression is a ';'.\u001b[39;00m\n\u001b[1;32m   2480\u001b[0m \u001b[38;5;28;01mif\u001b[39;00m \u001b[38;5;28mgetattr\u001b[39m(fn, magic\u001b[38;5;241m.\u001b[39mMAGIC_OUTPUT_CAN_BE_SILENCED, \u001b[38;5;28;01mFalse\u001b[39;00m):\n",
      "File \u001b[0;32m~/.conda/envs/user-base/envs/ase-tutorials/lib/python3.10/site-packages/IPython/core/magics/script.py:153\u001b[0m, in \u001b[0;36mScriptMagics._make_script_magic.<locals>.named_script_magic\u001b[0;34m(line, cell)\u001b[0m\n\u001b[1;32m    151\u001b[0m \u001b[38;5;28;01melse\u001b[39;00m:\n\u001b[1;32m    152\u001b[0m     line \u001b[38;5;241m=\u001b[39m script\n\u001b[0;32m--> 153\u001b[0m \u001b[38;5;28;01mreturn\u001b[39;00m \u001b[38;5;28;43mself\u001b[39;49m\u001b[38;5;241;43m.\u001b[39;49m\u001b[43mshebang\u001b[49m\u001b[43m(\u001b[49m\u001b[43mline\u001b[49m\u001b[43m,\u001b[49m\u001b[43m \u001b[49m\u001b[43mcell\u001b[49m\u001b[43m)\u001b[49m\n",
      "File \u001b[0;32m~/.conda/envs/user-base/envs/ase-tutorials/lib/python3.10/site-packages/IPython/core/magics/script.py:305\u001b[0m, in \u001b[0;36mScriptMagics.shebang\u001b[0;34m(self, line, cell)\u001b[0m\n\u001b[1;32m    300\u001b[0m \u001b[38;5;28;01mif\u001b[39;00m args\u001b[38;5;241m.\u001b[39mraise_error \u001b[38;5;129;01mand\u001b[39;00m p\u001b[38;5;241m.\u001b[39mreturncode \u001b[38;5;241m!=\u001b[39m \u001b[38;5;241m0\u001b[39m:\n\u001b[1;32m    301\u001b[0m     \u001b[38;5;66;03m# If we get here and p.returncode is still None, we must have\u001b[39;00m\n\u001b[1;32m    302\u001b[0m     \u001b[38;5;66;03m# killed it but not yet seen its return code. We don't wait for it,\u001b[39;00m\n\u001b[1;32m    303\u001b[0m     \u001b[38;5;66;03m# in case it's stuck in uninterruptible sleep. -9 = SIGKILL\u001b[39;00m\n\u001b[1;32m    304\u001b[0m     rc \u001b[38;5;241m=\u001b[39m p\u001b[38;5;241m.\u001b[39mreturncode \u001b[38;5;129;01mor\u001b[39;00m \u001b[38;5;241m-\u001b[39m\u001b[38;5;241m9\u001b[39m\n\u001b[0;32m--> 305\u001b[0m     \u001b[38;5;28;01mraise\u001b[39;00m CalledProcessError(rc, cell)\n",
      "\u001b[0;31mCalledProcessError\u001b[0m: Command 'b'ase info --formats\\n'' returned non-zero exit status 2."
     ]
    }
   ],
   "source": [
    "%%bash\n",
    "ase info --formats"
   ]
  },
  {
   "cell_type": "markdown",
   "id": "ca6b528e",
   "metadata": {},
   "source": [
    "To find the extra supported `**kwargs`, look at the documentation of the lower-level functions. For example we can find the `scaled=True` option for FHI-aims at https://wiki.fysik.dtu.dk/ase/ase/io/formatoptions.html#ase.io.aims.write_aims"
   ]
  },
  {
   "cell_type": "markdown",
   "id": "0f2eff43",
   "metadata": {},
   "source": [
    "#### Exercise 2\n",
    "Import a structure file relevant to your own research, and write it to a different format. See what keywords are available for your favourite formats; for example, VASP users are likely to be interested in using  `vasp5=True`."
   ]
  },
  {
   "cell_type": "markdown",
   "id": "d38dda94",
   "metadata": {},
   "source": [
    "### Building Atoms: more tools\n",
    "\n",
    "The `ase.build` module [(docs)](https://wiki.fysik.dtu.dk/ase/ase/build/build.html) contains tools for building structures using parameters rather than detailed lists of positions."
   ]
  },
  {
   "cell_type": "markdown",
   "id": "601b7cfb",
   "metadata": {},
   "source": [
    "#### Molecules\n",
    "Definitions for a set of simple molecules (the \"G2\" set, plus a few extra) are included with ASE. So in fact the easiest way to get an N2 molecule is"
   ]
  },
  {
   "cell_type": "code",
   "execution_count": 14,
   "id": "3c499d47",
   "metadata": {},
   "outputs": [
    {
     "data": {
      "application/vnd.jupyter.widget-view+json": {
       "model_id": "4b95cc6311104580a7cc2b7dd173f299",
       "version_major": 2,
       "version_minor": 0
      },
      "text/plain": [
       "NGLWidget()"
      ]
     },
     "metadata": {},
     "output_type": "display_data"
    }
   ],
   "source": [
    "import ase.build\n",
    "g2_n2 = ase.build.molecule('N2')\n",
    "show(g2_n2)"
   ]
  },
  {
   "cell_type": "markdown",
   "id": "36eb396e",
   "metadata": {},
   "source": [
    "And it's just as easy to get a buckyball! This feature is very useful for testing and trying things out."
   ]
  },
  {
   "cell_type": "code",
   "execution_count": 15,
   "id": "f17082eb",
   "metadata": {},
   "outputs": [
    {
     "data": {
      "application/vnd.jupyter.widget-view+json": {
       "model_id": "2f220ef4d63c4fe5921d594ea7e5c511",
       "version_major": 2,
       "version_minor": 0
      },
      "text/plain": [
       "NGLWidget()"
      ]
     },
     "metadata": {},
     "output_type": "display_data"
    }
   ],
   "source": [
    "show(ase.build.molecule('C60'))"
   ]
  },
  {
   "cell_type": "markdown",
   "id": "ec9fd701",
   "metadata": {},
   "source": [
    "#### Crystals\n",
    "\n",
    "The equivalent tool for crystals is `ase.build.bulk`. This includes lattice parameters for some elemental reference states (the list is [in the code here](https://gitlab.com/ase/ase/-/blob/6ac638d0c699f7bc80c10a8dccb7d42eda011be2/ase/data/__init__.py#L578)),\n",
    "but we can also use known lattice parameters to build structures. So we get copper \"for free\":"
   ]
  },
  {
   "cell_type": "code",
   "execution_count": 16,
   "id": "bc19861a",
   "metadata": {},
   "outputs": [
    {
     "data": {
      "application/vnd.jupyter.widget-view+json": {
       "model_id": "a02dbde7e425454eb38135aea66a3335",
       "version_major": 2,
       "version_minor": 0
      },
      "text/plain": [
       "NGLWidget()"
      ]
     },
     "metadata": {},
     "output_type": "display_data"
    }
   ],
   "source": [
    "show(ase.build.bulk('Cu', cubic=True))"
   ]
  },
  {
   "cell_type": "markdown",
   "id": "2b946081",
   "metadata": {},
   "source": [
    "but for ZnS we have to provide a bit more information:"
   ]
  },
  {
   "cell_type": "code",
   "execution_count": 17,
   "id": "8ff6e1d0",
   "metadata": {},
   "outputs": [
    {
     "data": {
      "application/vnd.jupyter.widget-view+json": {
       "model_id": "a22c4340dec1490eab31595942f5b778",
       "version_major": 2,
       "version_minor": 0
      },
      "text/plain": [
       "NGLWidget()"
      ]
     },
     "metadata": {},
     "output_type": "display_data"
    }
   ],
   "source": [
    "show(\n",
    "    ase.build.bulk('ZnS',\n",
    "                   crystalstructure='zincblende',\n",
    "                   a=5.387,\n",
    "                   cubic=True)\n",
    ")"
   ]
  },
  {
   "cell_type": "markdown",
   "id": "81edb4a9-5731-4e62-b247-23a890ce348d",
   "metadata": {},
   "source": [
    "### Supercells\n",
    "\n",
    "A compact notation can be used to create a repeated unit cell. Starting with a cubic unit cell of Si:"
   ]
  },
  {
   "cell_type": "code",
   "execution_count": 18,
   "id": "8ee915a2-64ee-4401-907d-83500129addf",
   "metadata": {
    "tags": []
   },
   "outputs": [
    {
     "data": {
      "application/vnd.jupyter.widget-view+json": {
       "model_id": "52bcaa352cae40bba43ad87f704ec0b0",
       "version_major": 2,
       "version_minor": 0
      },
      "text/plain": [
       "NGLWidget()"
      ]
     },
     "metadata": {},
     "output_type": "display_data"
    }
   ],
   "source": [
    "si = ase.build.bulk('Si', cubic=True)\n",
    "show(si)"
   ]
  },
  {
   "cell_type": "markdown",
   "id": "0ebccd4e-7801-4586-98e5-472ff838ade5",
   "metadata": {},
   "source": [
    "equal repetition in each direction is possible with an integer multiplication:"
   ]
  },
  {
   "cell_type": "code",
   "execution_count": 21,
   "id": "a49bcc92-8b26-4e9f-8bea-688795d78e1d",
   "metadata": {
    "tags": []
   },
   "outputs": [
    {
     "data": {
      "application/vnd.jupyter.widget-view+json": {
       "model_id": "ff40296d948047709e5ac9a5741ec40d",
       "version_major": 2,
       "version_minor": 0
      },
      "text/plain": [
       "NGLWidget()"
      ]
     },
     "metadata": {},
     "output_type": "display_data"
    }
   ],
   "source": [
    "show(si * 4)"
   ]
  },
  {
   "cell_type": "markdown",
   "id": "fcc77670-da3d-49de-a11e-3e0e29e4e154",
   "metadata": {},
   "source": [
    "A 3-list or 3-tuple gives the expansion in each direction:"
   ]
  },
  {
   "cell_type": "code",
   "execution_count": 22,
   "id": "3747d3bd-a5e8-4937-81e2-0fc9077b2f0a",
   "metadata": {
    "tags": []
   },
   "outputs": [
    {
     "data": {
      "application/vnd.jupyter.widget-view+json": {
       "model_id": "86c5ee62956e406189f1c3a694f30daf",
       "version_major": 2,
       "version_minor": 0
      },
      "text/plain": [
       "NGLWidget()"
      ]
     },
     "metadata": {},
     "output_type": "display_data"
    }
   ],
   "source": [
    "show(si * [2, 4, 1])"
   ]
  },
  {
   "cell_type": "markdown",
   "id": "20cd2998-d1d4-4930-abf4-8802d95dc732",
   "metadata": {},
   "source": [
    "For more complex transformations, we need to pass a 3x3 matrix to `ase.build.make_supercell`. I f we start with the non-cubic _primitive_ cell"
   ]
  },
  {
   "cell_type": "code",
   "execution_count": 23,
   "id": "2f1900d4-466e-4ca8-89e5-8fe71f9f8c50",
   "metadata": {
    "tags": []
   },
   "outputs": [
    {
     "data": {
      "application/vnd.jupyter.widget-view+json": {
       "model_id": "1e3373d3f08a4289a89c5acf8cb92f3d",
       "version_major": 2,
       "version_minor": 0
      },
      "text/plain": [
       "NGLWidget()"
      ]
     },
     "metadata": {},
     "output_type": "display_data"
    }
   ],
   "source": [
    "si_prim = ase.build.bulk('Si')\n",
    "show(si_prim)"
   ]
  },
  {
   "cell_type": "markdown",
   "id": "ecf37255-d2eb-4143-a510-92a2ed1f4125",
   "metadata": {},
   "source": [
    "cubic supercells can be formed with the correct transformation matrix."
   ]
  },
  {
   "cell_type": "code",
   "execution_count": 24,
   "id": "b9ec8bf8-dae8-4fe4-b2ae-2ec02aa0e4ae",
   "metadata": {
    "tags": []
   },
   "outputs": [
    {
     "data": {
      "text/plain": [
       "Cell([[0.0, 2.715, 2.715], [2.715, 0.0, 2.715], [2.715, 2.715, 0.0]])"
      ]
     },
     "execution_count": 24,
     "metadata": {},
     "output_type": "execute_result"
    }
   ],
   "source": [
    "si_prim.cell"
   ]
  },
  {
   "cell_type": "code",
   "execution_count": 25,
   "id": "d8087152-fb40-4979-b5ea-e02c48a40fd8",
   "metadata": {
    "tags": []
   },
   "outputs": [
    {
     "data": {
      "application/vnd.jupyter.widget-view+json": {
       "model_id": "96867849b3ab4009bc1418af2c447819",
       "version_major": 2,
       "version_minor": 0
      },
      "text/plain": [
       "NGLWidget()"
      ]
     },
     "metadata": {},
     "output_type": "display_data"
    }
   ],
   "source": [
    "show(\n",
    "    ase.build.make_supercell(si_prim, [[1, 1, -1], [1, -1, 1], [-1, 1, 1]])\n",
    ")"
   ]
  },
  {
   "cell_type": "markdown",
   "id": "2efaf3e6-0e4b-4b5c-a872-25abb524d78f",
   "metadata": {},
   "source": [
    "How do we find such matrices? This case is a known \"textbook\" example, but we can also perform a numerical search to find the matrix giving the most cubic result. This can be useful when setting up supercell calculations to model dilute defects and maximise the distance between periodic images."
   ]
  },
  {
   "cell_type": "code",
   "execution_count": 26,
   "id": "1854088a-7644-450d-abd9-1c746a456ac4",
   "metadata": {
    "tags": []
   },
   "outputs": [
    {
     "name": "stdout",
     "output_type": "stream",
     "text": [
      "target metric (h_target):\n",
      "[[1. 0. 0.]\n",
      " [0. 1. 0.]\n",
      " [0. 0. 1.]]\n",
      "normalization factor (Q): 0.184162\n",
      "idealized transformation matrix:\n",
      "[[-1.  1.  1.]\n",
      " [ 1. -1.  1.]\n",
      " [ 1.  1. -1.]]\n",
      "closest integer transformation matrix (P_0):\n",
      "[[-1  1  1]\n",
      " [ 1 -1  1]\n",
      " [ 1  1 -1]]\n",
      "smallest score (|Q P h_p - h_target|_2): 0.000000\n",
      "optimal transformation matrix (P_opt):\n",
      "[[-1  1  1]\n",
      " [ 1 -1  1]\n",
      " [ 1  1 -1]]\n",
      "supercell metric:\n",
      "[[5.43 0.   0.  ]\n",
      " [0.   5.43 0.  ]\n",
      " [0.   0.   5.43]]\n",
      "determinant of optimal transformation matrix: 4\n"
     ]
    },
    {
     "data": {
      "text/plain": [
       "array([[-1,  1,  1],\n",
       "       [ 1, -1,  1],\n",
       "       [ 1,  1, -1]])"
      ]
     },
     "execution_count": 26,
     "metadata": {},
     "output_type": "execute_result"
    }
   ],
   "source": [
    "ase.build.find_optimal_cell_shape(si_prim.cell, 4, 'sc', verbose=True)"
   ]
  },
  {
   "cell_type": "markdown",
   "id": "6b00d24c-f146-48fb-ab96-79e973cb0133",
   "metadata": {
    "tags": []
   },
   "source": [
    "### Slicing and splicing\n",
    "\n",
    "An Atoms object can be treated as a list of Atom objects, with numpy-like array slicing available."
   ]
  },
  {
   "cell_type": "code",
   "execution_count": 30,
   "id": "2b71a661-dbf8-43aa-bac4-bc03f062dceb",
   "metadata": {
    "tags": []
   },
   "outputs": [
    {
     "name": "stdout",
     "output_type": "stream",
     "text": [
      "Zn [0. 0. 0.] 65.38\n",
      "Zn [0.     2.6935 2.6935] 65.38\n",
      "Zn [2.6935 0.     2.6935] 65.38\n",
      "Zn [2.6935 2.6935 0.    ] 65.38\n",
      "S [1.34675 4.04025 4.04025] 32.06\n",
      "S [1.34675 1.34675 1.34675] 32.06\n",
      "S [4.04025 4.04025 1.34675] 32.06\n",
      "S [4.04025 1.34675 4.04025] 32.06\n"
     ]
    }
   ],
   "source": [
    "for atom in crystal:\n",
    "    print(atom.symbol, atom.position, atom.mass)"
   ]
  },
  {
   "cell_type": "markdown",
   "id": "f613a48f-8ac8-40d5-8ee3-130cc578be91",
   "metadata": {},
   "source": [
    "If we index multiple atoms, an Atoms object is returned:"
   ]
  },
  {
   "cell_type": "code",
   "execution_count": 31,
   "id": "5c9be59c-9c01-4e7d-bd90-cdc231d34903",
   "metadata": {
    "tags": []
   },
   "outputs": [
    {
     "data": {
      "application/vnd.jupyter.widget-view+json": {
       "model_id": "7a8b7baab46949e3af917e8dbd9f3357",
       "version_major": 2,
       "version_minor": 0
      },
      "text/plain": [
       "NGLWidget()"
      ]
     },
     "metadata": {},
     "output_type": "display_data"
    }
   ],
   "source": [
    "zinc_indices = [i for i, atom in enumerate(crystal) if atom.symbol == 'Zn']\n",
    "zinc_sublattice = crystal[zinc_indices]\n",
    "show(zinc_sublattice)"
   ]
  },
  {
   "cell_type": "markdown",
   "id": "2b8d547f-00e5-4d70-9c3f-5dcdd379dd71",
   "metadata": {},
   "source": [
    "Individual atoms can be appended:"
   ]
  },
  {
   "cell_type": "code",
   "execution_count": 32,
   "id": "324e177c-1cb7-4a45-8e0c-a6d45b6c296f",
   "metadata": {
    "tags": []
   },
   "outputs": [
    {
     "data": {
      "application/vnd.jupyter.widget-view+json": {
       "model_id": "268b4bd86f4f4351ae55c84572cab20d",
       "version_major": 2,
       "version_minor": 0
      },
      "text/plain": [
       "NGLWidget()"
      ]
     },
     "metadata": {},
     "output_type": "display_data"
    }
   ],
   "source": [
    "from ase import Atom\n",
    "composite = zinc_sublattice.copy()\n",
    "composite.append(Atom('He', position=(1.34675, 4.04025, 4.04025)))\n",
    "show(composite)"
   ]
  },
  {
   "cell_type": "markdown",
   "id": "183186d7-9e9c-4c35-adde-971b3bac2942",
   "metadata": {},
   "source": [
    "Or entire Atoms can be combined with `+`. (The first Atoms takes precedence to determine the cell etc.) So to obtain a distorted sphalerite cell, moving the S sublattice along the x coordinate relative to the Zn sublattice:"
   ]
  },
  {
   "cell_type": "code",
   "execution_count": 33,
   "id": "4b682525-dd59-40af-bbb6-cf697bb619f2",
   "metadata": {
    "tags": []
   },
   "outputs": [
    {
     "data": {
      "application/vnd.jupyter.widget-view+json": {
       "model_id": "4fabee4b69714bb1974a73d04ede52e6",
       "version_major": 2,
       "version_minor": 0
      },
      "text/plain": [
       "NGLWidget()"
      ]
     },
     "metadata": {},
     "output_type": "display_data"
    }
   ],
   "source": [
    "sulfur_sublattice = crystal[4:]\n",
    "sulfur_sublattice.translate([.3, 0., 0.])\n",
    "show(zinc_sublattice + sulfur_sublattice)"
   ]
  },
  {
   "cell_type": "markdown",
   "id": "b21680f3-4757-40d4-b400-30f48c5ef19b",
   "metadata": {},
   "source": [
    "While Atoms is not exactly a regular Python object, it plays nicely with the delete operation. So to create a zinc-vacancy defect:"
   ]
  },
  {
   "cell_type": "code",
   "execution_count": 34,
   "id": "19967f5b-f9ae-4997-8c1e-f595415186b9",
   "metadata": {
    "tags": []
   },
   "outputs": [
    {
     "data": {
      "application/vnd.jupyter.widget-view+json": {
       "model_id": "e2ab3e6c35094426b30f683ecbea4113",
       "version_major": 2,
       "version_minor": 0
      },
      "text/plain": [
       "NGLWidget()"
      ]
     },
     "metadata": {},
     "output_type": "display_data"
    }
   ],
   "source": [
    "zinc_vacancy = crystal.copy()\n",
    "del zinc_vacancy[0]\n",
    "show(zinc_vacancy)"
   ]
  },
  {
   "cell_type": "markdown",
   "id": "70ab0457-68a3-4d8f-8a9f-2333ad370950",
   "metadata": {},
   "source": [
    "and to create antisite disorder, we can swap two positions from the positions array."
   ]
  },
  {
   "cell_type": "code",
   "execution_count": 35,
   "id": "a75b3a04-66f2-4f34-9557-f4af173b7942",
   "metadata": {
    "tags": []
   },
   "outputs": [
    {
     "data": {
      "application/vnd.jupyter.widget-view+json": {
       "model_id": "293906eda04f4d0f804fb8950b80e614",
       "version_major": 2,
       "version_minor": 0
      },
      "text/plain": [
       "NGLWidget()"
      ]
     },
     "metadata": {},
     "output_type": "display_data"
    }
   ],
   "source": [
    "antisite = crystal.copy()\n",
    "antisite.positions[[0, 4]] = antisite.positions[[4, 0]]\n",
    "show(antisite)"
   ]
  },
  {
   "cell_type": "markdown",
   "id": "5727b38b-0e59-4d57-99a5-f2523ce5fcf5",
   "metadata": {},
   "source": [
    "### Lists of Atoms\n",
    "\n",
    "Some I/O formats support a sequence of atoms. This is particularly common for molecular dynamics or geometry optimisation calculation outputs, but they can also be useful to store training data for model-fitting or machine-learning.\n",
    "\n",
    "For example to create a set of similar structures with small displacements:"
   ]
  },
  {
   "cell_type": "code",
   "execution_count": 44,
   "id": "b062c3fb-1780-4662-bd57-7bcb9c689d60",
   "metadata": {
    "tags": []
   },
   "outputs": [],
   "source": [
    "atoms = ase.build.bulk('Cu', cubic=True) * 2\n",
    "\n",
    "atoms_sequence = []\n",
    "for frame in range(10):\n",
    "    atoms.rattle(stdev=0.02)  # rattle modifies the atoms in-place\n",
    "    atoms_sequence.append(atoms.copy())\n",
    "    \n",
    "ase.io.write('cu_rattle.xyz', atoms_sequence, format='extxyz')"
   ]
  },
  {
   "cell_type": "markdown",
   "id": "393042bc-32c2-48f7-b627-65a8d9ac47ba",
   "metadata": {},
   "source": [
    "**Question:** *in this example, why do we need to make a new copy of Atoms in each step of the loop?*"
   ]
  },
  {
   "cell_type": "markdown",
   "id": "0212ec4a-fd7c-4d44-872f-5fcee9f97330",
   "metadata": {},
   "source": [
    "If we read such a file, by default `ase.io.read()` will only return the last frame:"
   ]
  },
  {
   "cell_type": "code",
   "execution_count": 40,
   "id": "45168047-08d1-4586-bced-f0da812946d8",
   "metadata": {
    "tags": []
   },
   "outputs": [
    {
     "data": {
      "application/vnd.jupyter.widget-view+json": {
       "model_id": "9f7fd2022bd243a6b8ecdf0df73865bd",
       "version_major": 2,
       "version_minor": 0
      },
      "text/plain": [
       "NGLWidget()"
      ]
     },
     "metadata": {},
     "output_type": "display_data"
    }
   ],
   "source": [
    "atoms_frame = ase.io.read('cu_rattle.xyz')\n",
    "show(atoms_frame)"
   ]
  },
  {
   "cell_type": "markdown",
   "id": "1150855b-3b53-4c8b-a0e6-3d41a30cd4fe",
   "metadata": {},
   "source": [
    "Looking at the [documentation of this function](https://wiki.fysik.dtu.dk/ase/ase/io/io.html#ase.io.read), we see the `index` parameter selects which frames are read. To get all the frames we can set `index=':'`, or we can even slice to get e.g. every alternate frame."
   ]
  },
  {
   "cell_type": "code",
   "execution_count": 41,
   "id": "956757ed-4df0-40d7-87c8-e7c6bba58ea0",
   "metadata": {
    "tags": []
   },
   "outputs": [],
   "source": [
    "atoms_alternating = ase.io.read('cu_rattle.xyz', index='::2')"
   ]
  },
  {
   "cell_type": "markdown",
   "id": "1b25e119-1a0b-4ff0-8e3c-cec30d81d46b",
   "metadata": {},
   "source": [
    "The built-in ASE GUI has some basic features to animate a list of atoms. Try playing with the \"movie\" controls:"
   ]
  },
  {
   "cell_type": "code",
   "execution_count": 42,
   "id": "569bd5cf-26ac-4edb-aebf-b06f5f29451b",
   "metadata": {
    "tags": []
   },
   "outputs": [
    {
     "data": {
      "text/plain": [
       "<Popen: returncode: None args: ['/home/adam/.conda/envs/user-base/envs/ase-t...>"
      ]
     },
     "execution_count": 42,
     "metadata": {},
     "output_type": "execute_result"
    }
   ],
   "source": [
    "view(atoms_alternating)"
   ]
  },
  {
   "cell_type": "markdown",
   "id": "6cd3e03c-57fe-47ce-a3ec-23439e9e1df2",
   "metadata": {},
   "source": [
    "Some image formats are also supported by `ase.io.write`. To create an animated GIF:"
   ]
  },
  {
   "cell_type": "code",
   "execution_count": 47,
   "id": "c7d12e6d-41bc-432a-97a5-c73b8312630e",
   "metadata": {
    "tags": []
   },
   "outputs": [
    {
     "name": "stderr",
     "output_type": "stream",
     "text": [
      "/home/adam/src/ase/ase/visualize/plot.py:59: UserWarning: You passed in an explicit save_count=100 which is being ignored in favor of len(frames)=10.\n",
      "  animation = FuncAnimation(fig, drawimage, frames=images,\n"
     ]
    },
    {
     "data": {
      "image/png": "[encoded data removed]",
      "text/plain": [
       "<Figure size 640x480 with 1 Axes>"
      ]
     },
     "metadata": {},
     "output_type": "display_data"
    }
   ],
   "source": [
    "ase.io.write('rattle.gif', atoms_sequence)"
   ]
  },
  {
   "cell_type": "markdown",
   "id": "596945d5",
   "metadata": {},
   "source": [
    "## Final assignment\n",
    "\n",
    "create this animation of a water molecule being wrapped in a C60 cage (or something even cooler!)\n",
    "\n",
    "Hints:\n",
    "- The GIF animation will need to be generated with a list of Atoms objects\n",
    "- Molecules can be combined with +\n",
    "- To get the wrapping effect we need to keep adding atoms that are near to the atoms already added\n",
    "- To avoid writing too much repetitive code, use Python's looping tools"
   ]
  },
  {
   "cell_type": "code",
   "execution_count": null,
   "id": "5dfa5c50-c501-4dea-8343-e1008297f762",
   "metadata": {},
   "outputs": [],
   "source": []
  },
  {
   "cell_type": "code",
   "execution_count": null,
   "id": "f8a94b5d",
   "metadata": {
    "scrolled": true
   },
   "outputs": [],
   "source": [
    "water = ase.build.molecule('H2O')\n",
    "water.center()\n",
    "\n",
    "bucky = ase.build.molecule('C60')\n",
    "bucky.center()\n",
    "\n",
    "\n",
    "start_atom = 36\n",
    "distances = bucky.get_all_distances()[start_atom]\n",
    "sorted_bucky_indices = sorted(enumerate(distances),\n",
    "                              key = (lambda x: x[1]))\n",
    "sorted_bucky_indices = [i for i, _ in sorted_bucky_indices]\n",
    "sorted_bucky = bucky[sorted_bucky_indices]\n",
    "\n",
    "frames = [water.copy()]\n",
    "\n",
    "for i in range(len(sorted_bucky)):\n",
    "    frames.append(water + sorted_bucky[:i + 1])\n",
    "\n",
    "from ase.io.animation import write_gif\n",
    "_ = write_gif('wrapped_molecule.gif', frames)"
   ]
  },
  {
   "cell_type": "markdown",
   "id": "112e69cd-9c9c-4bed-8c68-74cd053824c9",
   "metadata": {},
   "source": [
    "![](wrapped_molecule.gif)"
   ]
  },
  {
   "cell_type": "code",
   "execution_count": null,
   "id": "df516b14-efa0-4db8-b0e5-2de77ae8547c",
   "metadata": {},
   "outputs": [],
   "source": []
  }
 ],
 "metadata": {
  "kernelspec": {
   "display_name": "Python 3 (ipykernel)",
   "language": "python",
   "name": "python3"
  },
  "language_info": {
   "codemirror_mode": {
    "name": "ipython",
    "version": 3
   },
   "file_extension": ".py",
   "mimetype": "text/x-python",
   "name": "python",
   "nbconvert_exporter": "python",
   "pygments_lexer": "ipython3",
   "version": "3.10.0"
  }
 },
 "nbformat": 4,
 "nbformat_minor": 5
}
