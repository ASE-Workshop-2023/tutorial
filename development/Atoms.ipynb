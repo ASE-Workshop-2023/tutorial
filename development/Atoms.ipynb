{
 "cells": [
  {
   "cell_type": "markdown",
   "id": "d51a1fb7",
   "metadata": {},
   "source": [
    "### Building Atoms: direct definition"
   ]
  },
  {
   "cell_type": "markdown",
   "id": "71f696f8",
   "metadata": {},
   "source": [
    "ASE is Python library for _atomistic modelling_; systems are fundamentally described by a set of atomic positions, and calculations are derived from these.\n",
    "\n",
    "When working with ASE molecules and materials are represented by the `Atoms` class. We can define a molecule with lists of symbols and positions:"
   ]
  },
  {
   "cell_type": "code",
   "execution_count": 1,
   "id": "5b15a02d",
   "metadata": {},
   "outputs": [],
   "source": [
    "from ase import Atoms\n",
    "\n",
    "d = 1.10\n",
    "molecule = Atoms(['N', 'N'], positions=[(0., 0., 0.), (0., 0., d)])"
   ]
  },
  {
   "cell_type": "markdown",
   "id": "9b0d9e0f",
   "metadata": {},
   "source": [
    "or, conveniently, we can compress the positions to a chemical formula:"
   ]
  },
  {
   "cell_type": "code",
   "execution_count": 2,
   "id": "9a13ac9c",
   "metadata": {},
   "outputs": [],
   "source": [
    "molecule = Atoms('N2', positions=[(0., 0., 0.), (0., 0., d)])"
   ]
  },
  {
   "cell_type": "markdown",
   "id": "da891ed0",
   "metadata": {},
   "source": [
    "It can be useful to visualise our structure to make sure it is reasonable. `ase.visualize.view` provides a simple structure viewer in a floating window; this is quite useful when working on a Python script, but can be a little bit annoying when using a Jupyter notebook."
   ]
  },
  {
   "cell_type": "code",
   "execution_count": 3,
   "id": "f29edba9",
   "metadata": {},
   "outputs": [
    {
     "data": {
      "text/plain": [
       "<Popen: returncode: None args: ['/home/adam/micromamba/envs/ase-tutorials/bi...>"
      ]
     },
     "execution_count": 3,
     "metadata": {},
     "output_type": "execute_result"
    }
   ],
   "source": [
    "from ase.visualize import view\n",
    "view(molecule)"
   ]
  },
  {
   "cell_type": "markdown",
   "id": "9fef2b19",
   "metadata": {},
   "source": [
    "You can spin the molecule around with right-click-and-drag, and zoom with mouse wheel.\n",
    "\n",
    "Some alternative viewers are available for Jupyter notebooks; here we will use `nglview`. It should be pre-installed on the virtual machines for the workshop. In this viewer left-click-and-drag is used for rotation."
   ]
  },
  {
   "cell_type": "code",
   "execution_count": 4,
   "id": "f44ef605",
   "metadata": {},
   "outputs": [
    {
     "data": {
      "application/vnd.jupyter.widget-view+json": {
       "model_id": "7e20b264bcc446869ab84a7d7a59a7aa",
       "version_major": 2,
       "version_minor": 0
      },
      "text/plain": []
     },
     "metadata": {},
     "output_type": "display_data"
    },
    {
     "data": {
      "application/vnd.jupyter.widget-view+json": {
       "model_id": "8afbd318b649426c923aad680d2a2e61",
       "version_major": 2,
       "version_minor": 0
      },
      "text/plain": [
       "NGLWidget()"
      ]
     },
     "metadata": {},
     "output_type": "display_data"
    }
   ],
   "source": [
    "import nglview\n",
    "nglview.show_ase(molecule)"
   ]
  },
  {
   "cell_type": "markdown",
   "id": "f0668f29",
   "metadata": {},
   "source": [
    "Many interesting systems are crystals, described by atomic positions in a periodic unit cell. There are two relevant settings for an Atoms object: the unit cell itself and the _periodic boundary conditions_ (PBC)."
   ]
  },
  {
   "cell_type": "code",
   "execution_count": 20,
   "id": "c3e7b0c6",
   "metadata": {},
   "outputs": [
    {
     "data": {
      "application/vnd.jupyter.widget-view+json": {
       "model_id": "3d2a7bc551024a17a46b1bdebbe112c7",
       "version_major": 2,
       "version_minor": 0
      },
      "text/plain": [
       "NGLWidget()"
      ]
     },
     "metadata": {},
     "output_type": "display_data"
    }
   ],
   "source": [
    "a = 5.387\n",
    "crystal = Atoms('Zn4S4',\n",
    "                scaled_positions=[[0., 0., 0.],\n",
    "                                  [0., 0.5, 0.5],\n",
    "                                  [0.5, 0., 0.5],\n",
    "                                  [0.5, 0.5, 0.],\n",
    "                                  [0.25, 0.75, 0.75],\n",
    "                                  [0.25, 0.25, 0.25],\n",
    "                                  [0.75, 0.75, 0.25],\n",
    "                                  [0.75, 0.25, 0.75]],\n",
    "               cell=[a, a, a],\n",
    "               pbc=True)\n",
    "\n",
    "def show(atoms: Atoms) -> None:    \n",
    "    view = nglview.show_ase(atoms)\n",
    "    if any(atoms.pbc):\n",
    "        view.add_unitcell()\n",
    "    return view\n",
    "\n",
    "show(crystal)"
   ]
  },
  {
   "cell_type": "markdown",
   "id": "50f30fa7",
   "metadata": {},
   "source": [
    "We used a few tricks to make writing in the structure a bit easier:\n",
    "- The symbols were compressed to 'Zn4S4'\n",
    "- Instead of working out positions in Angstrom, `scaled_positions` relative to lattice vectors were used\n",
    "- The cell with just 3 values, so it is assumed to be cubic. In other cases we might use the full 3x3 matrix, e.g. `cell=[[a, 0, 0], [0, a, 0], [0, 0, a]]`\n",
    "- We set `pbc=True` to indicate periodic boundary conditions in all directions. These can also be specified along each direction, e.g. `pbc=[True, True, False]` for a \"slab\" calculation with exposed surfaces.\n",
    "\n",
    "We also defined a Python function `show()` which will show Atoms including a unit cell with nglview. This will save us from writing three lines of code every time!"
   ]
  },
  {
   "cell_type": "markdown",
   "id": "0100e875",
   "metadata": {},
   "source": [
    "### Examining atoms: properties and methods"
   ]
  },
  {
   "cell_type": "markdown",
   "id": "312c1d50",
   "metadata": {},
   "source": [
    "Now that we have some Atoms objects we can see what information is available from them. We call some \"getter\" methods on the `molecule` object, which is an instance of `Atoms`."
   ]
  },
  {
   "cell_type": "code",
   "execution_count": 6,
   "id": "33aeb286",
   "metadata": {},
   "outputs": [
    {
     "name": "stdout",
     "output_type": "stream",
     "text": [
      "N2 positions\n",
      "[[0.  0.  0. ]\n",
      " [0.  0.  1.1]]\n",
      "\n",
      "N2 symbols\n",
      "['N', 'N']\n",
      "\n",
      "N2 masses\n",
      "[14.007 14.007]\n",
      "\n",
      "N2 center of mass\n",
      "[0.   0.   0.55]\n"
     ]
    }
   ],
   "source": [
    "print(\"N2 positions\")\n",
    "print(molecule.get_positions(), end=\"\\n\\n\")\n",
    "\n",
    "print(\"N2 symbols\")\n",
    "print(molecule.get_chemical_symbols(), end=\"\\n\\n\")\n",
    "\n",
    "print(\"N2 masses\")\n",
    "print(molecule.get_masses(), end=\"\\n\\n\")\n",
    "\n",
    "print(\"N2 center of mass\")\n",
    "print(molecule.get_center_of_mass())"
   ]
  },
  {
   "cell_type": "markdown",
   "id": "0b0ba301",
   "metadata": {},
   "source": [
    "The first two attributes here are not surprising; they are the information we provided. The masses were not provided: when the Atoms was created, ASE found some standard values and included them in the data set.\n",
    "\n",
    "If we like, we can override this default and include some isotopic effects:"
   ]
  },
  {
   "cell_type": "code",
   "execution_count": 7,
   "id": "73ee9949",
   "metadata": {},
   "outputs": [
    {
     "name": "stdout",
     "output_type": "stream",
     "text": [
      "13N-14N masses\n",
      "[13.006 14.003]\n",
      "\n",
      "13N-14N center of mass\n",
      "[0.         0.         0.57030249]\n"
     ]
    }
   ],
   "source": [
    "d = 1.10\n",
    "isotope = Atoms('N2',\n",
    "                positions=[(0., 0., 0.), (0., 0., d)],\n",
    "                masses=[13.006, 14.003])\n",
    "\n",
    "print(\"13N-14N masses\")\n",
    "print(isotope.get_masses(), end=\"\\n\\n\")\n",
    "\n",
    "print(\"13N-14N center of mass\")\n",
    "print(isotope.get_center_of_mass())\n"
   ]
  },
  {
   "cell_type": "markdown",
   "id": "3f3e6612",
   "metadata": {},
   "source": [
    "The center of mass was _not_ defined when the Atoms are created; it is derived from the other properties. So if we modify the masses using a _setter_, it should be recalculated correctly."
   ]
  },
  {
   "cell_type": "code",
   "execution_count": 8,
   "id": "bc4a8eee",
   "metadata": {},
   "outputs": [
    {
     "name": "stdout",
     "output_type": "stream",
     "text": [
      "Center of mass before modifying masses:\n",
      "[0.   0.   0.55]\n",
      "\n",
      "Center of mass after modifying masses:\n",
      "[0.         0.         0.57030249]\n"
     ]
    }
   ],
   "source": [
    "isotope = molecule.copy()\n",
    "print(\"Center of mass before modifying masses:\")\n",
    "print(isotope.get_center_of_mass(), end='\\n\\n')\n",
    "\n",
    "isotope.set_masses([13.006, 14.003])\n",
    "print(\"Center of mass after modifying masses:\")\n",
    "print(isotope.get_center_of_mass())"
   ]
  },
  {
   "cell_type": "markdown",
   "id": "e4b92743",
   "metadata": {},
   "source": [
    "In a jupyter notebook we can get the \"docstring\" of a method or function by adding `?` to the name:"
   ]
  },
  {
   "cell_type": "code",
   "execution_count": 9,
   "id": "3f7b9819",
   "metadata": {},
   "outputs": [],
   "source": [
    "isotope.get_center_of_mass?"
   ]
  },
  {
   "cell_type": "markdown",
   "id": "ef764fa5",
   "metadata": {},
   "source": [
    "And we can get access to the available methods and properties with tab-completion. In a Jupyter notebook or IPython terminal, try:\n",
    "\n",
    "```crystal.[TAB]```\n",
    "\n",
    "where `[TAB]` means \"hit the TAB key\". You should see that the Atoms object has a lot of features available!\n",
    "\n",
    "Not all of them ll work until we start using *Calculators*, but the rest of this tutorial should include some useful ones.\n",
    "\n",
    "#### Exercise 1:\n",
    "Use tab-completion and docstrings to explore the features of Atoms. In the ZnS structure, find the distance between the first Zn atom and the four S atoms. Are some of them nearer than others?\n",
    "\n",
    "*Hint: you may need to use the \"minimum image convention\"*"
   ]
  },
  {
   "cell_type": "markdown",
   "id": "ddfa71da",
   "metadata": {},
   "source": [
    "## Reading and writing\n",
    "\n",
    "Even with the shortcuts above, writing out structures in Python syntax can be a bit cumbersome. There are many established file formats for this data, and ASE contains read/write functions for some of them.\n",
    "\n",
    "For example, we might obtain a structure from an online database. Here is the [Materials Project entry for sphalerite](https://materialsproject.org/materials/mp-10695); use the \"export as\" button on the structure visualiser to obtain a .cif file."
   ]
  },
  {
   "cell_type": "code",
   "execution_count": 10,
   "id": "b5453f07",
   "metadata": {},
   "outputs": [
    {
     "data": {
      "application/vnd.jupyter.widget-view+json": {
       "model_id": "0999bde7294b49d4a0b8fa2b0efabb2d",
       "version_major": 2,
       "version_minor": 0
      },
      "text/plain": [
       "NGLWidget()"
      ]
     },
     "metadata": {},
     "output_type": "display_data"
    }
   ],
   "source": [
    "import ase.io\n",
    "from pathlib import Path\n",
    "\n",
    "# You may need to change the path to match the location/file you downloaded\n",
    "imported_crystal = ase.io.read(Path.home() / \"Downloads/ZnS.cif\", format='cif')\n",
    "\n",
    "show(imported_crystal)"
   ]
  },
  {
   "cell_type": "markdown",
   "id": "9a40902f",
   "metadata": {},
   "source": [
    "Using the virtual desktop, have a look at this .cif file in a text editor. CIF is quite a complicated format because it is designed to hold a lot of data relevant to crystallography. By comparison, the `FHI-aims` quantum chemistry code has a very simple structure format. Let's write the ZnS structure in this format instead:"
   ]
  },
  {
   "cell_type": "code",
   "execution_count": 11,
   "id": "e1130fad",
   "metadata": {},
   "outputs": [],
   "source": [
    "ase.io.write('geometry.in', imported_crystal, scaled=True)"
   ]
  },
  {
   "cell_type": "markdown",
   "id": "619156aa",
   "metadata": {},
   "source": [
    "Taking a peek at this file:"
   ]
  },
  {
   "cell_type": "code",
   "execution_count": 12,
   "id": "a5acf9ad",
   "metadata": {},
   "outputs": [
    {
     "name": "stdout",
     "output_type": "stream",
     "text": [
      "#===============================================================================\n",
      "# Created using the Atomic Simulation Environment (ASE)\n",
      "\n",
      "# Sat Apr  1 12:32:51 2023\n",
      "\n",
      "#=======================================================\n",
      "lattice_vector 5.3873657499999998 0.0000000000000000 0.0000000000000000 \n",
      "lattice_vector 0.0000000000000000 5.3873657499999998 0.0000000000000000 \n",
      "lattice_vector 0.0000000000000000 0.0000000000000000 5.3873657499999998 \n",
      "atom_frac 0.0000000000000000 0.0000000000000000 0.0000000000000000 Zn\n",
      "atom_frac 0.0000000000000000 0.5000000000000000 0.5000000000000000 Zn\n",
      "atom_frac 0.5000000000000000 0.0000000000000000 0.5000000000000000 Zn\n",
      "atom_frac 0.5000000000000000 0.5000000000000000 0.0000000000000000 Zn\n",
      "atom_frac 0.2500000000000000 0.7500000000000000 0.7500000000000000 S\n",
      "atom_frac 0.2500000000000000 0.2500000000000000 0.2500000000000000 S\n",
      "atom_frac 0.7500000000000000 0.7500000000000000 0.2500000000000000 S\n",
      "atom_frac 0.7500000000000000 0.2500000000000000 0.7500000000000000 S\n"
     ]
    }
   ],
   "source": [
    "%%bash\n",
    "cat geometry.in"
   ]
  },
  {
   "cell_type": "markdown",
   "id": "496ea73e",
   "metadata": {},
   "source": [
    "Note that\n",
    "- we didn't specify the FHI-aims format; it was correctly guessed from the filename. (This also works for ase.io.read.)\n",
    "- we added a `scaled=True` option to write in fractional coordinates; by default this writer uses Cartesian coordinates.\n",
    "\n",
    "How does this work? There are lots of relevant functions in modules under `ase.io`: `ase.io.read()` and `ase.io.write()` will automatically dispatch to these functions. If we look at `ase.io.write?` we get the signature\n",
    "\n",
    "```python\n",
    "ase.io.write(\n",
    "    filename: Union[str, pathlib.PurePath, IO],\n",
    "    images: Union[ase.atoms.Atoms, Sequence[ase.atoms.Atoms]],\n",
    "    format: str = None,\n",
    "    parallel: bool = True,\n",
    "    append: bool = False,\n",
    "    **kwargs: Any,\n",
    ") -> None\n",
    "```\n",
    "\n",
    "`**kwargs` means \"all remaining keyword arguments\"; this allows extra options like `scaled=True` to be passed to writers that understand them.\n",
    "\n",
    "More information about the supported formats can be found at https://wiki.fysik.dtu.dk/ase/ase/io/io.html and a summary can be produced from the command-line with"
   ]
  },
  {
   "cell_type": "code",
   "execution_count": 16,
   "id": "1d2d281d",
   "metadata": {},
   "outputs": [
    {
     "name": "stdout",
     "output_type": "stream",
     "text": [
      "platform                 Linux-6.1.14-200.fc37.x86_64-x86_64-with-glibc2.36\n",
      "python-3.10.0            /home/adam/micromamba/envs/ase-tutorials/bin/python3.10\n",
      "ase-3.23.0b1-d4c62f2276  /home/adam/src/ase/ase\n",
      "numpy-1.24.2             /home/adam/micromamba/envs/ase-tutorials/lib/python3.10/site-packages/numpy\n",
      "scipy-1.10.1             /home/adam/micromamba/envs/ase-tutorials/lib/python3.10/site-packages/scipy\n",
      "matplotlib-3.7.1         /home/adam/micromamba/envs/ase-tutorials/lib/python3.10/site-packages/matplotlib\n",
      "spglib-2.0.2             /home/adam/micromamba/envs/ase-tutorials/lib/python3.10/site-packages/spglib\n",
      "ase_ext                  not installed\n",
      "flask-2.2.3              /home/adam/micromamba/envs/ase-tutorials/lib/python3.10/site-packages/flask\n",
      "psycopg2                 not installed\n",
      "pyamg                    not installed\n",
      "\n",
      "Supported formats:\n",
      "  abinit-in [rw/single]: ABINIT input file\n",
      "  abinit-out [r/single]: ABINIT output file\n",
      "  acemolecule-input [r/single]: ACE input file\n",
      "  acemolecule-out [r/single]: ACE output file\n",
      "  aims [rw/single, ext=in]: FHI-aims geometry file\n",
      "  aims-output [r/multi]: FHI-aims output\n",
      "  bundletrajectory [rw/multi]: ASE bundle trajectory\n",
      "  castep-castep [r/multi, ext=castep]: CASTEP output file\n",
      "  castep-cell [rw/single, ext=cell]: CASTEP geom file\n",
      "  castep-geom [r/multi, ext=geom]: CASTEP trajectory file\n",
      "  castep-md [r/multi, ext=md]: CASTEP molecular dynamics file\n",
      "  castep-phonon [r/single, ext=phonon]: CASTEP phonon file\n",
      "  cfg [rw/single]: AtomEye configuration\n",
      "  cif [rw/multi/binary, ext=cif]: CIF-file\n",
      "  cmdft [r/single, glob=*I_info]: CMDFT-file\n",
      "  cml [r/single, ext=cml]: Chemical json file\n",
      "  cp2k-dcd [r/multi/binary, ext=dcd]: CP2K DCD file\n",
      "  cp2k-restart [r/single, ext=restart]: CP2K restart file\n",
      "  crystal [rw/single, ext=f34|34, glob=f34|34]: Crystal fort.34 format\n",
      "  cube [rw/single, ext=cube]: CUBE file\n",
      "  dacapo-text [r/single]: Dacapo text output\n",
      "  db [rw/multi]: ASE SQLite database file\n",
      "  dftb [rw/single]: DftbPlus input file\n",
      "  dlp-history [r/multi, glob=HISTORY]: DL_POLY HISTORY file\n",
      "  dlp4 [rw/single, ext=config, glob=*CONFIG*]: DL_POLY_4 CONFIG file\n",
      "  dmol-arc [rw/multi, ext=arc]: DMol3 arc file\n",
      "  dmol-car [rw/single, ext=car]: DMol3 structure file\n",
      "  dmol-incoor [rw/single]: DMol3 structure file\n",
      "  elk [r/single, glob=GEOMETRY.OUT]: ELK atoms definition from GEOMETRY.OUT\n",
      "  elk-in [w/single]: ELK input file\n",
      "  eon [rw/multi, ext=con]: EON CON file\n",
      "  eps [w/single]: Encapsulated Postscript\n",
      "  espresso-in [rw/single, ext=pwi]: Quantum espresso in file\n",
      "  espresso-out [r/multi, ext=pwo|out]: Quantum espresso out file\n",
      "  exciting [rw/single, glob=input.xml]: exciting input\n",
      "  extxyz [rw/multi, ext=xyz]: Extended XYZ file\n",
      "  findsym [w/multi]: FINDSYM-format\n",
      "  gamess-us-in [w/single]: GAMESS-US input file\n",
      "  gamess-us-out [r/single]: GAMESS-US output file\n",
      "  gamess-us-punch [r/single, ext=dat]: GAMESS-US punchcard file\n",
      "  gaussian-in [rw/single, ext=com|gjf]: Gaussian com (input) file\n",
      "  gaussian-out [r/multi, ext=log]: Gaussian output file\n",
      "  gen [rw/single]: DFTBPlus GEN format\n",
      "  gif [w/multi]: Graphics interchange format\n",
      "  gpaw-out [r/multi]: GPAW text output\n",
      "  gpaw-yaml [r/multi/binary]: GPAW-yaml output\n",
      "  gpumd [rw/single, glob=xyz.in]: GPUMD input file\n",
      "  gpw [r/single]: GPAW restart-file\n",
      "  gromacs [rw/single, ext=gro]: Gromacs coordinates\n",
      "  gromos [rw/single, ext=g96]: Gromos96 geometry file\n",
      "  html [w/single]: X3DOM HTML\n",
      "  json [rw/multi, ext=json]: ASE JSON database file\n",
      "  jsv [rw/single]: JSV file format\n",
      "  lammps-data [rw/single/ascii]: LAMMPS data file\n",
      "  lammps-dump-binary [r/multi/binary]: LAMMPS binary dump file\n",
      "  lammps-dump-text [r/multi]: LAMMPS text dump file\n",
      "  magres [rw/single]: MAGRES ab initio NMR data file\n",
      "  mol [r/single]: MDL Molfile\n",
      "  mp4 [w/multi]: MP4 animation\n",
      "  mustem [rw/single, ext=xtl]: muSTEM xtl file\n",
      "  mysql [rw/multi]: ASE MySQL database file\n",
      "  netcdftrajectory [rw/multi]: AMBER NetCDF trajectory file\n",
      "  nomad-json [r/multi, ext=nomad-json]: JSON from Nomad archive\n",
      "  nwchem-in [rw/single, ext=nwi]: NWChem input file\n",
      "  nwchem-out [r/multi, ext=nwo]: NWChem output file\n",
      "  octopus-in [r/single, glob=inp]: Octopus input file\n",
      "  png [w/single/binary]: Portable Network Graphics\n",
      "  postgresql [rw/multi]: ASE PostgreSQL database file\n",
      "  pov [w/single]: Persistance of Vision\n",
      "  prismatic [rw/single]: prismatic and computem XYZ-file\n",
      "  proteindatabank [rw/multi, ext=pdb]: Protein Data Bank\n",
      "  py [w/multi]: Python file\n",
      "  qbox [r/multi]: QBOX output file\n",
      "  res [rw/single, ext=shelx]: SHELX format\n",
      "  rmc6f [rw/single, ext=rmc6f]: RMCProfile\n",
      "  sdf [r/single]: SDF format\n",
      "  siesta-xv [r/single, glob=*.XV]: Siesta .XV file\n",
      "  struct [rw/single]: WIEN2k structure file\n",
      "  struct_out [r/single]: SIESTA STRUCT file\n",
      "  sys [rw/single]: qball sys file\n",
      "  traj [rw/multi/binary, ext=traj]: ASE trajectory\n",
      "  turbomole [rw/single, glob=coord]: TURBOMOLE coord file\n",
      "  turbomole-gradient [r/multi, glob=gradient]: TURBOMOLE gradient file\n",
      "  v-sim [rw/single, ext=ascii]: V_Sim ascii file\n",
      "  vasp [rw/single, ext=poscar, glob=*POSCAR*|*CONTCAR*|*CENTCAR*]: VASP POSCAR/CONTCAR\n",
      "  vasp-out [r/multi, glob=*OUTCAR*]: VASP OUTCAR file\n",
      "  vasp-xdatcar [rw/multi, glob=*XDATCAR*]: VASP XDATCAR file\n",
      "  vasp-xml [r/multi, glob=*vasp*.xml]: VASP vasprun.xml file\n",
      "  vti [w/single]: VTK XML Image Data\n",
      "  vtu [w/single, ext=vtu]: VTK XML Unstructured Grid\n",
      "  wout [r/single]: Wannier90 output\n",
      "  x3d [w/single]: X3D\n",
      "  xsd [rw/single]: Materials Studio file\n",
      "  xsf [rw/multi]: XCrySDen Structure File\n",
      "  xtd [rw/multi]: Materials Studio file\n",
      "  xyz [rw/multi]: XYZ-file\n"
     ]
    }
   ],
   "source": [
    "%%bash\n",
    "ase info --formats"
   ]
  },
  {
   "cell_type": "markdown",
   "id": "7af3e164",
   "metadata": {},
   "source": [
    "To find the extra supported `**kwargs`, look at the documentation of the lower-level functions. For example we can find the `scaled=True` option for FHI-aims at https://wiki.fysik.dtu.dk/ase/ase/io/formatoptions.html#ase.io.aims.write_aims"
   ]
  },
  {
   "cell_type": "markdown",
   "id": "312e3843",
   "metadata": {},
   "source": [
    "#### Exercise 2\n",
    "Import a structure file relevant to your own research, and write it to a different format. See what keywords are available for your favourite formats; for example, VASP users are likely to be interested in using  `vasp5=True`."
   ]
  },
  {
   "cell_type": "markdown",
   "id": "48fc41c8",
   "metadata": {},
   "source": [
    "### Building Atoms: more tools\n",
    "\n",
    "The `ase.build` module [(docs)](https://wiki.fysik.dtu.dk/ase/ase/build/build.html) contains tools for building structures using parameters rather than detailed lists of positions."
   ]
  },
  {
   "cell_type": "markdown",
   "id": "d13107ff",
   "metadata": {},
   "source": [
    "#### Molecules\n",
    "Definitions for a set of simple molecules (the \"G2\" set, plus a few extra) are included with ASE. So in fact the easiest way to get an N2 molecule is"
   ]
  },
  {
   "cell_type": "code",
   "execution_count": 21,
   "id": "6a32be7d",
   "metadata": {},
   "outputs": [
    {
     "data": {
      "application/vnd.jupyter.widget-view+json": {
       "model_id": "f5ebfe6f75ee4b13b016254f76f22d70",
       "version_major": 2,
       "version_minor": 0
      },
      "text/plain": [
       "NGLWidget()"
      ]
     },
     "metadata": {},
     "output_type": "display_data"
    }
   ],
   "source": [
    "import ase.build\n",
    "g2_n2 = ase.build.molecule('N2')\n",
    "show(g2_n2)"
   ]
  },
  {
   "cell_type": "markdown",
   "id": "3eafefd0",
   "metadata": {},
   "source": [
    "And it's just as easy to get a buckyball! This feature is very useful for testing and trying things out."
   ]
  },
  {
   "cell_type": "code",
   "execution_count": 22,
   "id": "cfe0c98b",
   "metadata": {},
   "outputs": [
    {
     "data": {
      "application/vnd.jupyter.widget-view+json": {
       "model_id": "db3797c7264946af8afac4465d4cf3c4",
       "version_major": 2,
       "version_minor": 0
      },
      "text/plain": [
       "NGLWidget()"
      ]
     },
     "metadata": {},
     "output_type": "display_data"
    }
   ],
   "source": [
    "show(ase.build.molecule('C60'))"
   ]
  },
  {
   "cell_type": "markdown",
   "id": "70e20d37",
   "metadata": {},
   "source": [
    "#### Crystals\n",
    "\n",
    "The equivalent tool for crystals is `ase.build.bulk`. This includes lattice parameters for some elemental reference states (the list is [in the code here](https://gitlab.com/ase/ase/-/blob/6ac638d0c699f7bc80c10a8dccb7d42eda011be2/ase/data/__init__.py#L578)),\n",
    "but we can also use known lattice parameters to build structures. So we get copper \"for free\":"
   ]
  },
  {
   "cell_type": "code",
   "execution_count": 24,
   "id": "a4bfd6f4",
   "metadata": {},
   "outputs": [
    {
     "data": {
      "application/vnd.jupyter.widget-view+json": {
       "model_id": "122d7e38cee74ea5987d98cc09a831e2",
       "version_major": 2,
       "version_minor": 0
      },
      "text/plain": [
       "NGLWidget()"
      ]
     },
     "metadata": {},
     "output_type": "display_data"
    }
   ],
   "source": [
    "show(ase.build.bulk('Cu', cubic=True))"
   ]
  },
  {
   "cell_type": "markdown",
   "id": "8e1c4fa7",
   "metadata": {},
   "source": [
    "but for ZnS we have to provide a bit more information:"
   ]
  },
  {
   "cell_type": "code",
   "execution_count": 26,
   "id": "f85c2a94",
   "metadata": {},
   "outputs": [
    {
     "data": {
      "application/vnd.jupyter.widget-view+json": {
       "model_id": "67bcf15e9cb24368a1a07906c3713376",
       "version_major": 2,
       "version_minor": 0
      },
      "text/plain": [
       "NGLWidget()"
      ]
     },
     "metadata": {},
     "output_type": "display_data"
    }
   ],
   "source": [
    "show(\n",
    "    ase.build.bulk('ZnS',\n",
    "                   crystalstructure='zincblende',\n",
    "                   a=5.387,\n",
    "                   cubic=True)\n",
    ")"
   ]
  },
  {
   "cell_type": "code",
   "execution_count": null,
   "id": "f812609b",
   "metadata": {},
   "outputs": [],
   "source": []
  }
 ],
 "metadata": {
  "kernelspec": {
   "display_name": "Python 3 (ipykernel)",
   "language": "python",
   "name": "python3"
  },
  "language_info": {
   "codemirror_mode": {
    "name": "ipython",
    "version": 3
   },
   "file_extension": ".py",
   "mimetype": "text/x-python",
   "name": "python",
   "nbconvert_exporter": "python",
   "pygments_lexer": "ipython3",
   "version": "3.10.0"
  }
 },
 "nbformat": 4,
 "nbformat_minor": 5
}
