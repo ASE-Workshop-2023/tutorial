{
 "cells": [
  {
   "cell_type": "markdown",
   "id": "d51a1fb7",
   "metadata": {},
   "source": [
    "### Building Atoms: direct definition"
   ]
  },
  {
   "cell_type": "markdown",
   "id": "71f696f8",
   "metadata": {},
   "source": [
    "ASE is Python library for _atomistic modelling_; systems are fundamentally described by a set of atomic positions, and calculations are derived from these.\n",
    "\n",
    "When working with ASE molecules and materials are represented by the `Atoms` class. We can define a molecule with lists of symbols and positions:"
   ]
  },
  {
   "cell_type": "code",
   "execution_count": 1,
   "id": "5b15a02d",
   "metadata": {},
   "outputs": [],
   "source": [
    "from ase import Atoms\n",
    "\n",
    "d = 1.10\n",
    "molecule = Atoms(['N', 'N'], positions=[(0., 0., 0.), (0., 0., d)])"
   ]
  },
  {
   "cell_type": "markdown",
   "id": "9b0d9e0f",
   "metadata": {},
   "source": [
    "or, conveniently, we can compress the positions to a chemical formula:"
   ]
  },
  {
   "cell_type": "code",
   "execution_count": 2,
   "id": "9a13ac9c",
   "metadata": {},
   "outputs": [],
   "source": [
    "molecule = Atoms('N2', positions=[(0., 0., 0.), (0., 0., d)])"
   ]
  },
  {
   "cell_type": "markdown",
   "id": "da891ed0",
   "metadata": {},
   "source": [
    "It can be useful to visualise our structure to make sure it is reasonable. `ase.visualize.view` provides a simple structure viewer in a floating window; this is quite useful when working on a Python script, but can be a little bit annoying when using a Jupyter notebook."
   ]
  },
  {
   "cell_type": "code",
   "execution_count": 3,
   "id": "f29edba9",
   "metadata": {},
   "outputs": [
    {
     "data": {
      "text/plain": [
       "<Popen: returncode: None args: ['/home/adamjackson/mambaforge/envs/science/b...>"
      ]
     },
     "execution_count": 3,
     "metadata": {},
     "output_type": "execute_result"
    }
   ],
   "source": [
    "from ase.visualize import view\n",
    "view(molecule)"
   ]
  },
  {
   "cell_type": "markdown",
   "id": "9fef2b19",
   "metadata": {},
   "source": [
    "You can spin the molecule around with right-click-and-drag, and zoom with mouse wheel.\n",
    "\n",
    "Some alternative viewers are available for Jupyter notebooks; here we will use `nglview`. It should be pre-installed on the virtual machines for the workshop."
   ]
  },
  {
   "cell_type": "code",
   "execution_count": 4,
   "id": "f44ef605",
   "metadata": {},
   "outputs": [
    {
     "data": {
      "application/vnd.jupyter.widget-view+json": {
       "model_id": "bfcb409b9dc34aa2b625a54071d5c781",
       "version_major": 2,
       "version_minor": 0
      },
      "text/plain": []
     },
     "metadata": {},
     "output_type": "display_data"
    },
    {
     "data": {
      "application/vnd.jupyter.widget-view+json": {
       "model_id": "8a9cf45d8ed54a2aa327271347e4f82d",
       "version_major": 2,
       "version_minor": 0
      },
      "text/plain": [
       "NGLWidget()"
      ]
     },
     "metadata": {},
     "output_type": "display_data"
    }
   ],
   "source": [
    "import nglview\n",
    "nglview.show_ase(molecule)"
   ]
  },
  {
   "cell_type": "markdown",
   "id": "f0668f29",
   "metadata": {},
   "source": [
    "Many interesting systems are crystals, described by atomic positions in a periodic unit cell. There are two relevant settings for an Atoms object: the unit cell itself and the _periodic boundary conditions_ (PBC)."
   ]
  },
  {
   "cell_type": "code",
   "execution_count": 5,
   "id": "c3e7b0c6",
   "metadata": {},
   "outputs": [
    {
     "data": {
      "application/vnd.jupyter.widget-view+json": {
       "model_id": "38e89ad237944c4697ab11bafb8d2835",
       "version_major": 2,
       "version_minor": 0
      },
      "text/plain": [
       "NGLWidget()"
      ]
     },
     "metadata": {},
     "output_type": "display_data"
    }
   ],
   "source": [
    "a = 5.387\n",
    "crystal = Atoms('Zn4S4',\n",
    "                scaled_positions=[[0., 0., 0.],\n",
    "                                  [0., 0.5, 0.5],\n",
    "                                  [0.5, 0., 0.5],\n",
    "                                  [0.5, 0.5, 0.],\n",
    "                                  [0.25, 0.75, 0.75],\n",
    "                                  [0.25, 0.25, 0.25],\n",
    "                                  [0.75, 0.75, 0.25],\n",
    "                                  [0.75, 0.25, 0.75]],\n",
    "               cell=[a, a, a],\n",
    "               pbc=True)\n",
    "\n",
    "view = nglview.show_ase(crystal)\n",
    "view.add_unitcell()\n",
    "view"
   ]
  },
  {
   "cell_type": "markdown",
   "id": "50f30fa7",
   "metadata": {},
   "source": [
    "We used a few tricks to make writing in the structure a bit easier:\n",
    "- The symbols were compressed to 'Zn4S4'\n",
    "- Instead of working out positions in Angstrom, `scaled_positions` relative to lattice vectors were used\n",
    "- The cell with just 3 values, so it is assumed to be cubic. In other cases we might use the full 3x3 matrix, e.g. `cell=[[a, 0, 0], [0, a, 0], [0, 0, a]]`\n",
    "- We set `pbc=True` to indicate periodic boundary conditions in all directions. These can also be specified along each direction, e.g. `pbc=[True, True, False]` for a \"slab\" calculation with exposed surfaces."
   ]
  },
  {
   "cell_type": "markdown",
   "id": "0100e875",
   "metadata": {},
   "source": [
    "### Examining atoms: properties and methods"
   ]
  },
  {
   "cell_type": "markdown",
   "id": "312c1d50",
   "metadata": {},
   "source": [
    "Now that we have some Atoms objects we can see what information is available from them. We call some \"getter\" methods on the `molecule` object, which is an instance of `Atoms`."
   ]
  },
  {
   "cell_type": "code",
   "execution_count": 18,
   "id": "33aeb286",
   "metadata": {},
   "outputs": [
    {
     "name": "stdout",
     "output_type": "stream",
     "text": [
      "N2 positions\n",
      "[[0.  0.  0. ]\n",
      " [0.  0.  1.1]]\n",
      "\n",
      "N2 symbols\n",
      "['N', 'N']\n",
      "\n",
      "N2 masses\n",
      "[14.007 14.007]\n",
      "\n",
      "N2 center of mass\n",
      "[0.   0.   0.55]\n"
     ]
    }
   ],
   "source": [
    "print(\"N2 positions\")\n",
    "print(molecule.get_positions(), end=\"\\n\\n\")\n",
    "\n",
    "print(\"N2 symbols\")\n",
    "print(molecule.get_chemical_symbols(), end=\"\\n\\n\")\n",
    "\n",
    "print(\"N2 masses\")\n",
    "print(molecule.get_masses(), end=\"\\n\\n\")\n",
    "\n",
    "print(\"N2 center of mass\")\n",
    "print(molecule.get_center_of_mass())"
   ]
  },
  {
   "cell_type": "markdown",
   "id": "0b0ba301",
   "metadata": {},
   "source": [
    "The first two attributes here are not surprising; they are the information we provided. The masses were not provided: when the Atoms was created, ASE found some standard values and included them in the data set.\n",
    "\n",
    "If we like, we can override this default and add some isotopic effects:"
   ]
  },
  {
   "cell_type": "code",
   "execution_count": 16,
   "id": "73ee9949",
   "metadata": {},
   "outputs": [
    {
     "name": "stdout",
     "output_type": "stream",
     "text": [
      "13N-14N masses\n",
      "[13.006 14.003]\n",
      "\n",
      "13N-14N center of mass\n",
      "[0.         0.         0.57030249]\n"
     ]
    }
   ],
   "source": [
    "d = 1.10\n",
    "isotope = Atoms('N2', positions=[(0., 0., 0.), (0., 0., d)], masses=[13.006, 14.003])\n",
    "\n",
    "print(\"13N-14N masses\")\n",
    "print(isotope.get_masses(), end=\"\\n\\n\")\n",
    "\n",
    "print(\"13N-14N center of mass\")\n",
    "print(isotope.get_center_of_mass())\n"
   ]
  },
  {
   "cell_type": "markdown",
   "id": "3f3e6612",
   "metadata": {},
   "source": [
    "The center of mass was _not_ defined when the Atoms are created; it is derived from the other properties. So if we modify the masses using a _setter_, it should be recalculated correctly."
   ]
  },
  {
   "cell_type": "code",
   "execution_count": 15,
   "id": "bc4a8eee",
   "metadata": {},
   "outputs": [
    {
     "name": "stdout",
     "output_type": "stream",
     "text": [
      "Center of mass before modifying masses:\n",
      "[0.   0.   0.55]\n",
      "\n",
      "Center of mass after modifying masses:\n",
      "[0.         0.         0.57030249]\n"
     ]
    }
   ],
   "source": [
    "isotope = molecule.copy()\n",
    "print(\"Center of mass before modifying masses:\")\n",
    "print(isotope.get_center_of_mass(), end='\\n\\n')\n",
    "\n",
    "isotope.set_masses([13.006, 14.003])\n",
    "print(\"Center of mass after modifying masses:\")\n",
    "print(isotope.get_center_of_mass())"
   ]
  },
  {
   "cell_type": "markdown",
   "id": "e4b92743",
   "metadata": {},
   "source": [
    "In a jupyter notebook we can get the \"docstring\" of a method or function by adding `?` to the name:"
   ]
  },
  {
   "cell_type": "code",
   "execution_count": 20,
   "id": "3f7b9819",
   "metadata": {},
   "outputs": [],
   "source": [
    "isotope.get_center_of_mass?"
   ]
  },
  {
   "cell_type": "markdown",
   "id": "ef764fa5",
   "metadata": {},
   "source": [
    "And we can get access to the available methods and properties with tab-completion. In a Jupyter notebook or IPython terminal, try:\n",
    "\n",
    "```crystal.[TAB]```\n",
    "\n",
    "where `[TAB]` means \"hit the TAB key\". You should see that the Atoms object has a lot of features available!\n",
    "\n",
    "Not all of them will work until we cover Calculators, but the rest of this tutorial should include some useful ones."
   ]
  },
  {
   "cell_type": "code",
   "execution_count": null,
   "id": "8bba58a9",
   "metadata": {},
   "outputs": [],
   "source": []
  }
 ],
 "metadata": {
  "kernelspec": {
   "display_name": "Python 3 (ipykernel)",
   "language": "python",
   "name": "python3"
  },
  "language_info": {
   "codemirror_mode": {
    "name": "ipython",
    "version": 3
   },
   "file_extension": ".py",
   "mimetype": "text/x-python",
   "name": "python",
   "nbconvert_exporter": "python",
   "pygments_lexer": "ipython3",
   "version": "3.10.9"
  }
 },
 "nbformat": 4,
 "nbformat_minor": 5
}
