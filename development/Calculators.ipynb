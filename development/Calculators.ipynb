{
 "cells": [
  {
   "cell_type": "markdown",
   "id": "939b2bda-85aa-45f3-b189-f5cd698459af",
   "metadata": {},
   "source": [
    "# 02 Calculators"
   ]
  },
  {
   "cell_type": "markdown",
   "id": "fd0189e3-5af7-4291-b757-84bce201c91f",
   "metadata": {},
   "source": [
    "Many software packages can be used to calculate properties from a set of atomic positions. In ASE, Atoms objects can try to calculate or fetch properties using an attached \"Calculator\".\n",
    "\n",
    "Here we make tour of a variety of Calculators, highlighting some of the differences between them. A master list of the available Calculators can be found [here](https://wiki.fysik.dtu.dk/ase/ase/calculators/calculators.html)."
   ]
  },
  {
   "cell_type": "markdown",
   "id": "98a925dd-0dd6-4ba6-9357-2391c38e38a3",
   "metadata": {},
   "source": [
    "### In-built calculators: simple potential models (EMT, LJ)"
   ]
  },
  {
   "cell_type": "markdown",
   "id": "68af97cd-686a-425a-950e-2273a5174e7d",
   "metadata": {},
   "source": [
    "Much of the ASE documentation and tutorials makes use of the [inbuilt \"EMT\" calculator](https://wiki.fysik.dtu.dk/ase/ase/calculators/emt.html#pure-python-emt-calculator) - because it is convenient and \"fast enough\"!\n",
    "\n",
    "This implements the Effective Medium Theory potential for Ni, Cu, Pd, Ag, Pt and Au. Some other elements are included \"for fun\", but really this is a method for alloys of those metals. For more information see this documentation and references for the (more efficient) implementation in the ASAP code: https://wiki.fysik.dtu.dk/asap/EMT"
   ]
  },
  {
   "cell_type": "markdown",
   "id": "66c753e2-cc27-45e9-98b3-dfbdd20aac68",
   "metadata": {},
   "source": [
    "Considering the case of an infinite gold wire:"
   ]
  },
  {
   "cell_type": "code",
   "execution_count": 1,
   "id": "9ca0d6d5-1a53-4f2a-befe-6076e098056e",
   "metadata": {
    "tags": []
   },
   "outputs": [
    {
     "name": "stdout",
     "output_type": "stream",
     "text": [
      "Energy: 0.9910548478768826 eV\n"
     ]
    }
   ],
   "source": [
    "from ase import Atoms\n",
    "from ase.calculators.emt import EMT\n",
    "\n",
    "def make_wire(spacing: float = 2.5,\n",
    "              box_size: float = 10.0) -> Atoms:\n",
    "\n",
    "    wire = Atoms('Au',\n",
    "                 positions=[[0., box_size / 2, box_size / 2]],\n",
    "                 cell=[spacing, box_size, box_size],\n",
    "                 pbc=[True, False, False])\n",
    "    return wire\n",
    "\n",
    "atoms = make_wire()\n",
    "atoms.calc = EMT()\n",
    "energy = atoms.get_potential_energy()\n",
    "print(f\"Energy: {energy} eV\")"
   ]
  },
  {
   "cell_type": "code",
   "execution_count": 2,
   "id": "98b66331-0c5a-4084-b39e-66e67ba70853",
   "metadata": {
    "tags": []
   },
   "outputs": [
    {
     "data": {
      "application/vnd.jupyter.widget-view+json": {
       "model_id": "405d1d39498f4541b298f21acc1b7a5c",
       "version_major": 2,
       "version_minor": 0
      },
      "text/plain": []
     },
     "metadata": {},
     "output_type": "display_data"
    },
    {
     "data": {
      "application/vnd.jupyter.widget-view+json": {
       "model_id": "f581565f6f444a23a499b61efa66479d",
       "version_major": 2,
       "version_minor": 0
      },
      "text/plain": [
       "NGLWidget()"
      ]
     },
     "metadata": {},
     "output_type": "display_data"
    }
   ],
   "source": [
    "import nglview\n",
    "\n",
    "def show(atoms: Atoms) -> None:    \n",
    "    view = nglview.show_ase(atoms)\n",
    "    if any(atoms.pbc):\n",
    "        view.add_unitcell()\n",
    "    return view\n",
    "\n",
    "show(atoms)"
   ]
  },
  {
   "cell_type": "markdown",
   "id": "d2f48216-002d-4873-b375-4c05669d3109",
   "metadata": {},
   "source": [
    "**Question:** *Why did we need the parentheses () in the line* `atoms.calc = EMT()`*?*"
   ]
  },
  {
   "cell_type": "markdown",
   "id": "646755ec-5468-4d2e-866d-bb6205cca47c",
   "metadata": {},
   "source": [
    "What can we do with an energy? We could look at how it varies with the atom spacing and fit a model."
   ]
  },
  {
   "cell_type": "code",
   "execution_count": 3,
   "id": "2c84fdcc-60c4-4111-884e-198d31daee10",
   "metadata": {
    "tags": []
   },
   "outputs": [],
   "source": [
    "import numpy as np\n",
    "distances = np.linspace(2., 3., 21)\n",
    "\n",
    "def get_energy(spacing):\n",
    "    atoms = make_wire(spacing=spacing)\n",
    "    atoms.calc = EMT()\n",
    "    return atoms.get_potential_energy()\n",
    "\n",
    "energies = list(map(get_energy, distances))"
   ]
  },
  {
   "cell_type": "markdown",
   "id": "4776b452-026e-4513-89c6-8ac38a5a9dc4",
   "metadata": {},
   "source": [
    "(Python tip: if you need to apply a function to each element of some data, `map` can provide an elegant alternative to for-loops and list comprehensions!)"
   ]
  },
  {
   "cell_type": "code",
   "execution_count": 4,
   "id": "6edef554-805d-414f-8389-df263644f9c2",
   "metadata": {
    "tags": []
   },
   "outputs": [],
   "source": [
    "from numpy.polynomial import Polynomial\n",
    "fit = Polynomial.fit(distances, energies, 3)\n",
    "x = np.linspace(2., 3., 500)"
   ]
  },
  {
   "cell_type": "code",
   "execution_count": 5,
   "id": "d4deb666-21ee-4d84-ac1e-32a591e75c3b",
   "metadata": {
    "tags": []
   },
   "outputs": [
    {
     "data": {
      "image/png": "[encoded data removed]",
      "text/plain": [
       "<Figure size 640x480 with 1 Axes>"
      ]
     },
     "metadata": {},
     "output_type": "display_data"
    }
   ],
   "source": [
    "%matplotlib inline\n",
    "import matplotlib.pyplot as plt\n",
    "fig, ax = plt.subplots()\n",
    "_ = ax.plot(distances, energies, 'o', label='calculated')\n",
    "_ = ax.plot(x, fit(x), '-', label='cubic')\n",
    "_ = ax.legend()\n",
    "_ = ax.set_xlabel('Spacing / Å')\n",
    "_ = ax.set_ylabel('Energy / eV')"
   ]
  },
  {
   "cell_type": "markdown",
   "id": "d63ae05b-9304-4efa-876a-cb9e84ef32a4",
   "metadata": {},
   "source": [
    "This somewhat resembles the Equation-of-State (EOS) curve for a solid. To see how you can fit a standard EOS model to a 3-D system and obtain an equilibrium volume, see the relevant [ASE tutorial](https://wiki.fysik.dtu.dk/ase/tutorials/eos/eos.html)."
   ]
  },
  {
   "cell_type": "markdown",
   "id": "b78e655a-e301-4445-97c3-35fce661f44a",
   "metadata": {},
   "source": [
    "The EMT Calculator can also be used to obtain forces and unit cell stress:"
   ]
  },
  {
   "cell_type": "code",
   "execution_count": 6,
   "id": "70759fb8-6792-47ff-832e-79bc562f0d42",
   "metadata": {
    "tags": []
   },
   "outputs": [
    {
     "name": "stdout",
     "output_type": "stream",
     "text": [
      "Forces: \n",
      "[[0. 0. 0.]]\n",
      "Stress: \n",
      "[ 0.00396458 -0.         -0.         -0.         -0.         -0.        ]\n"
     ]
    }
   ],
   "source": [
    "print(\"Forces: \")\n",
    "print(atoms.get_forces())\n",
    "\n",
    "print(\"Stress: \")\n",
    "print(atoms.get_stress())"
   ]
  },
  {
   "cell_type": "markdown",
   "id": "dcdddc20-afbc-4742-b32b-90a3eb349cbd",
   "metadata": {},
   "source": [
    "**Question:** *why are the forces exactly zero for this system?*"
   ]
  },
  {
   "cell_type": "markdown",
   "id": "1445fc1b-c5c5-4563-915f-726a1fc6f5bb",
   "metadata": {},
   "source": [
    "Energy, forces and stress are standard \"properties\" in ASE, and we can check which properties are implemented by a particular calculator by inspecting the `implemented properties` attribute:"
   ]
  },
  {
   "cell_type": "code",
   "execution_count": 7,
   "id": "493fbefb-b69b-43ad-8af3-44e1cc6495d1",
   "metadata": {
    "tags": []
   },
   "outputs": [
    {
     "name": "stdout",
     "output_type": "stream",
     "text": [
      "['energy', 'free_energy', 'energies', 'forces', 'stress', 'magmom', 'magmoms']\n"
     ]
    }
   ],
   "source": [
    "print(EMT.implemented_properties)"
   ]
  },
  {
   "cell_type": "markdown",
   "id": "c5ba2046-392c-4a4d-acbe-3136c03cc3bf",
   "metadata": {},
   "source": [
    "**Question:** why do we *not* need to include parenthesis () here? Do we expect `EMT().implemented_properties` to work as well as `EMT.implemented_properties`?"
   ]
  },
  {
   "cell_type": "markdown",
   "id": "7324a852-8cb5-4cec-95de-f11bde1c9dd6",
   "metadata": {},
   "source": [
    "It can be convenient to have e.g. forces attached to a particular Atoms object in this way, and will be used heavily by dynamics and optimizer routines in the next tutorial.\n",
    "\n",
    "However, for Open Science purposes it is easier to store and share data that is not connected to a Calculator. (As we shall see later, Calculators might depend on a particular machine environment, memory state or software license.) We can request a standalone set of property data with e.g.:"
   ]
  },
  {
   "cell_type": "code",
   "execution_count": 8,
   "id": "23193892-cd6b-4c81-8bf9-4fd70c75d9aa",
   "metadata": {
    "tags": []
   },
   "outputs": [
    {
     "name": "stdout",
     "output_type": "stream",
     "text": [
      "(Properties({'energy': 0.9910548478768826, 'natoms': 1, 'energies': array([0.99105485]), 'free_energy': 0.9910548478768826, 'forces': array([[0., 0., 0.]]), 'stress': array([ 0.00396458, -0.        , -0.        , -0.        , -0.        ,\n",
      "       -0.        ])})\n"
     ]
    }
   ],
   "source": [
    "properties = atoms.get_properties(['energy', 'forces', 'stress'])\n",
    "print(properties)"
   ]
  },
  {
   "cell_type": "markdown",
   "id": "4201dd30-efcd-4095-a538-6eac021d717c",
   "metadata": {},
   "source": [
    "This will not change even if the Atoms object is modified and properties are recalculated.\n",
    "\n",
    "> Warning: This is a new feature and does not yet work well for all calculators."
   ]
  },
  {
   "cell_type": "markdown",
   "id": "b303da4c-6c56-4269-922e-e294c65690da",
   "metadata": {},
   "source": [
    "#### Lennard-Jones\n",
    "\n",
    "The classic [Lennard-Jones potential](https://en.wikipedia.org/wiki/Lennard-Jones_potential) is implemented in `ase.calculators.lj`. You can set the $\\epsilon$ and $\\sigma$ parameters in the Calculator constructor:"
   ]
  },
  {
   "cell_type": "code",
   "execution_count": 9,
   "id": "70afc93f-e812-4aec-9633-8dd2869d68b8",
   "metadata": {
    "tags": []
   },
   "outputs": [
    {
     "data": {
      "text/plain": [
       "array([[ 0.00000000e+00,  0.00000000e+00, -6.49886649e-16],\n",
       "       [ 0.00000000e+00,  0.00000000e+00,  6.49886649e-16]])"
      ]
     },
     "execution_count": 9,
     "metadata": {},
     "output_type": "execute_result"
    }
   ],
   "source": [
    "from ase.calculators.lj import LennardJones\n",
    "\n",
    "l = 4.1\n",
    "atoms = Atoms('Xe2',\n",
    "              positions=[[0., 0., -l / 2],\n",
    "                         [0., 0., l / 2]],\n",
    "              pbc=False)\n",
    "atoms.calc = LennardJones(sigma=(4.1 / 2**(1/6)))\n",
    "\n",
    "atoms.get_forces()\n",
    "                           "
   ]
  },
  {
   "cell_type": "markdown",
   "id": "7fb587a5-3c16-41ac-ad82-8598be65b8ba",
   "metadata": {},
   "source": [
    "**Question:** *Why are the forces so low at this geometry?*\n",
    "\n",
    "**Exercise:** Try choosing a value of sigma and varying the distance between the atoms. Can you reproduce the classic plot of a Lennard-Jones binding curve?"
   ]
  },
  {
   "cell_type": "markdown",
   "id": "d8d3f011-5c2f-492c-994a-996f06f4ebe8",
   "metadata": {},
   "source": [
    "## File-based calculators\n",
    "\n",
    "Typically academic codes are controlled by _input files_ and write their results to _output files_. This workflow is convenient for batch calculations on clusters (and for Fortran programmers...)\n",
    "\n",
    "For such a code, the ASE Calculator needs to prepare appropriate input, call the executable and then read the output in order to give a similar workflow to the inbuilt Calculator above.\n",
    "\n",
    "#### MOPAC\n",
    "Here we look at [MOPAC](https://openmopac.github.io), which implements semi-empirical methods with molecular orbitals in open boundary conditions. After a long history of versions and licenses it was recently updated and made open-source under the LGPL."
   ]
  },
  {
   "cell_type": "code",
   "execution_count": 10,
   "id": "32db1c19-82b0-4e4c-b725-251052a1d755",
   "metadata": {
    "tags": []
   },
   "outputs": [
    {
     "data": {
      "application/vnd.jupyter.widget-view+json": {
       "model_id": "7ae26eae04d44c3fa3c824568dda2c45",
       "version_major": 2,
       "version_minor": 0
      },
      "text/plain": [
       "NGLWidget()"
      ]
     },
     "metadata": {},
     "output_type": "display_data"
    }
   ],
   "source": [
    "import ase.build\n",
    "atoms = ase.build.molecule('C2H6CHOH')\n",
    "show(atoms)"
   ]
  },
  {
   "cell_type": "code",
   "execution_count": 11,
   "id": "64986b61-4337-46ab-951e-aac6433ec351",
   "metadata": {
    "tags": []
   },
   "outputs": [
    {
     "name": "stdout",
     "output_type": "stream",
     "text": [
      "\n",
      "\n",
      "          MOPAC Job: \"isopropyl-alcohol.mop\" ended normally on Apr  3, 2023, at 21:29.\n",
      "\n",
      "Energy:  -2.7842547352472047\n"
     ]
    }
   ],
   "source": [
    "from ase.calculators.mopac import MOPAC\n",
    "atoms.calc = MOPAC(label='isopropyl-alcohol')\n",
    "print(\"Energy: \", atoms.get_potential_energy())"
   ]
  },
  {
   "cell_type": "markdown",
   "id": "2ce0a76b-3e34-4600-ab68-d956f6cd36a2",
   "metadata": {},
   "source": [
    "We got an energy. Some data was also written to the Calculator `results`."
   ]
  },
  {
   "cell_type": "code",
   "execution_count": 12,
   "id": "7c53c71a-0eb2-413b-a12d-a7b21cae7632",
   "metadata": {
    "tags": []
   },
   "outputs": [
    {
     "data": {
      "text/plain": [
       "{'version': 'v22.0.6',\n",
       " 'final_hof': -2.7842547352472047,\n",
       " 'total_energy': -772.22396,\n",
       " 'forces': array([[ 0.09452837, -0.58935651,  0.32936589],\n",
       "        [-0.08600234,  0.14274349,  0.18579394],\n",
       "        [ 0.07639485,  0.31559567, -0.11416446],\n",
       "        [ 0.04624326,  0.38071862,  0.42829993],\n",
       "        [-0.0548457 , -0.0925792 , -0.20465619],\n",
       "        [ 0.1883473 ,  0.10008969, -0.12176805],\n",
       "        [-0.20786882, -0.0372329 , -0.15859723],\n",
       "        [ 0.15218576, -0.10221587, -0.13990335],\n",
       "        [-0.20513693,  0.04222415, -0.04563994],\n",
       "        [ 0.06881428, -0.05719803, -0.06499095],\n",
       "        [-0.10723496, -0.05249259, -0.0346418 ],\n",
       "        [ 0.03457494, -0.05029646, -0.05909764]]),\n",
       " 'dipole': array([ 0.23963168, -0.26607236,  0.20049114]),\n",
       " 'energy': -2.7842547352472047,\n",
       " 'free_energy': -2.7842547352472047}"
      ]
     },
     "execution_count": 12,
     "metadata": {},
     "output_type": "execute_result"
    }
   ],
   "source": [
    "atoms.calc.results"
   ]
  },
  {
   "cell_type": "markdown",
   "id": "8bf0a3de-9ae9-4247-8c29-2388c2d72904",
   "metadata": {},
   "source": [
    "*(This is one of the calculators that doesn't support get_properties() yet... We can still get a nice results container this way, though!)*"
   ]
  },
  {
   "cell_type": "markdown",
   "id": "c74aec82-a114-40cd-b8bd-2f6785b26f88",
   "metadata": {},
   "source": [
    "How did it do that? When we requested the potential energy, the Calculator generated an input file using the name we provided as *label*: \"ispropyl-alcohol.mop\". This is a human-readable file: take a look at it.\n",
    "\n",
    "The top line includes some parameters for the calculation:\n",
    "> PM7 1SCF GRADIENTS DISP RELSCF=0.0001 \n",
    "\n",
    "including selection of the PM7 semi-empirical method and convergence tolerance. Below that are the atomic positions.\n",
    "\n",
    "After writing the input, the calculation is run by calling the `mopac` executable: this should already be installed on the virtual machine for this tutorial.\n",
    "\n",
    "The results were written to \"isopropyl-alcohol.out\"; this is another human-readable file.\n",
    "\n",
    "**Exercise:** can you find the energy and forces in this file? Do they agree with the values from ASE?\n",
    "\n",
    "*Hint: ASE mostly uses units related to eV and Ångström*"
   ]
  },
  {
   "cell_type": "markdown",
   "id": "d6fd4015-0b83-4371-8e75-68a4d73e0c31",
   "metadata": {},
   "source": [
    "Next, we request the Forces:"
   ]
  },
  {
   "cell_type": "code",
   "execution_count": 13,
   "id": "f19c51d7-a6d8-4ae2-a945-1602fbcade1d",
   "metadata": {
    "tags": []
   },
   "outputs": [
    {
     "name": "stdout",
     "output_type": "stream",
     "text": [
      "[[ 0.09452837 -0.58935651  0.32936589]\n",
      " [-0.08600234  0.14274349  0.18579394]\n",
      " [ 0.07639485  0.31559567 -0.11416446]\n",
      " [ 0.04624326  0.38071862  0.42829993]\n",
      " [-0.0548457  -0.0925792  -0.20465619]\n",
      " [ 0.1883473   0.10008969 -0.12176805]\n",
      " [-0.20786882 -0.0372329  -0.15859723]\n",
      " [ 0.15218576 -0.10221587 -0.13990335]\n",
      " [-0.20513693  0.04222415 -0.04563994]\n",
      " [ 0.06881428 -0.05719803 -0.06499095]\n",
      " [-0.10723496 -0.05249259 -0.0346418 ]\n",
      " [ 0.03457494 -0.05029646 -0.05909764]]\n"
     ]
    }
   ],
   "source": [
    "print(atoms.get_forces())"
   ]
  },
  {
   "cell_type": "markdown",
   "id": "4500c071-c746-4751-aa70-c586177ef166",
   "metadata": {},
   "source": [
    "This should give the results instantly: no new calculation was required! The Calculator object cached the results of the first calculation, and as forces were already present they are simply retrieved from the cache. This means we can mostly use the property getters without worrying about wastefully running unnecessary calculations."
   ]
  },
  {
   "cell_type": "code",
   "execution_count": 14,
   "id": "5be3a52c-66cd-4304-a11b-0d3817ff4ee7",
   "metadata": {
    "tags": []
   },
   "outputs": [
    {
     "name": "stdout",
     "output_type": "stream",
     "text": [
      "\n",
      "\n",
      "          MOPAC Job: \"isopropyl-alcohol.mop\" ended normally on Apr  3, 2023, at 21:29.\n",
      "\n"
     ]
    },
    {
     "data": {
      "text/plain": [
       "-2.8723671252448977"
      ]
     },
     "execution_count": 14,
     "metadata": {},
     "output_type": "execute_result"
    }
   ],
   "source": [
    "atoms.calc.set(method='AM1')\n",
    "atoms.get_potential_energy()"
   ]
  },
  {
   "cell_type": "markdown",
   "id": "e3a6317a-b33f-4a6d-b1da-a18156d2269e",
   "metadata": {},
   "source": [
    "After changing a parameter (in this case, selecting the AM1 semi-empirical scheme) the cache is invalidated. When the potential energy is requested, a new calculation is performed."
   ]
  },
  {
   "cell_type": "markdown",
   "id": "942c2c35-d9fc-436c-a65a-ba2cac7bcf2f",
   "metadata": {},
   "source": [
    "**Question:** *what happens to calc.results when a parameter is changed? When might we prefer to use atoms.get_forces() vs atoms.calc.results['forces']?*"
   ]
  },
  {
   "cell_type": "markdown",
   "id": "3e515d2a-041e-4753-b227-cbc2812e4dcf",
   "metadata": {},
   "source": [
    "## External library calculators\n",
    "\n",
    "Some calculators are not packaged with ASE, but included in some other package. For example, the `quippy` package provides a Python interface to a range of interatomic and tight-binding potentials. Here we apply a machine-learning-based potential for Si.\n",
    "\n",
    "The documentation for Gaussian Approximation Potentials (GAP) links to a few published GAP models: https://libatoms.github.io/GAP/data.html\n",
    "Follow the \"Si\" link and download the *Si_PRX_GAP.zip* file containing the model and training data. Move the .zip file somewhere you can find and extract the files.\n",
    "\n",
    "*N.B. This requires a version of quippy that includes GAP. At the moment, `pip install` seems to work better than installing from conda-forge.*"
   ]
  },
  {
   "cell_type": "code",
   "execution_count": 16,
   "id": "c24c2aa9-3485-49c9-8216-8dfd2d9b486b",
   "metadata": {
    "tags": []
   },
   "outputs": [],
   "source": [
    "from pathlib import Path\n",
    "from quippy.potential import Potential\n",
    "\n",
    "gap = Potential(param_filename=str(Path.cwd() / 'Si_PRX_GAP/gp_iter6_sparse9k.xml'))"
   ]
  },
  {
   "cell_type": "markdown",
   "id": "d7ef2f46-a822-4917-b97e-9d93177dde4a",
   "metadata": {},
   "source": [
    "Let's build a Si supercell and apply a random walk to the positions:"
   ]
  },
  {
   "cell_type": "code",
   "execution_count": 20,
   "id": "84993344-d2e5-4662-aa0c-b8a2aa64ef23",
   "metadata": {
    "tags": []
   },
   "outputs": [
    {
     "data": {
      "text/plain": [
       "Text(0, 0.5, 'Energy / eV')"
      ]
     },
     "execution_count": 20,
     "metadata": {},
     "output_type": "execute_result"
    },
    {
     "data": {
      "image/png": "[encoded data removed]",
      "text/plain": [
       "<Figure size 640x480 with 1 Axes>"
      ]
     },
     "metadata": {},
     "output_type": "display_data"
    }
   ],
   "source": [
    "si = ase.build.bulk('Si') * 4\n",
    "si.calc = gap\n",
    "\n",
    "energies = []\n",
    "for _ in range(10):\n",
    "    si.rattle(stdev=0.01)\n",
    "    energies.append(si.get_potential_energy())\n",
    "\n",
    "fig, ax = plt.subplots()\n",
    "ax.plot(energies, 'o-')\n",
    "ax.set_xlabel('Random walk step')\n",
    "ax.set_ylabel('Energy / eV')"
   ]
  },
  {
   "cell_type": "markdown",
   "id": "7b3afd79-9ac1-4cb0-8365-5a219dec2429",
   "metadata": {},
   "source": [
    "This is a bit more expensive than EMT but still a lot cheaper than density-functional theory! A lot of work goes into developing a new potential, but with tools like quippy and ASE it is fairly easy for researchers to pick up the resulting model and apply it."
   ]
  },
  {
   "cell_type": "markdown",
   "id": "d8c2ef2a-fe2e-4335-92ea-79b6a38dd31d",
   "metadata": {},
   "source": [
    "## GPAW\n",
    "\n",
    "GPAW is a bit special! It is implemented as a Python library with C backend, and GPAW development is closely related to ASE development.\n",
    "\n",
    "The difference between GPAW and other external Python calculators is that it includes a special Python interpreter for parallel calculations.\n",
    "\n",
    "TODO:\n",
    "- GPAW run in notebook using xc and kpts arguments\n",
    "- time the run\n",
    "- create a script file with equivalent settings and 4-way kpt parallelism\n",
    "- compare runtime running on 4 cores"
   ]
  },
  {
   "cell_type": "markdown",
   "id": "af5a064b-4db0-4fb0-934e-b3999985541a",
   "metadata": {},
   "source": [
    "## Espresso\n",
    "\n",
    "Maybe not used here yet, use to show more advanced calculations, band structure etc."
   ]
  },
  {
   "cell_type": "code",
   "execution_count": null,
   "id": "818f01b2-35b3-4b49-80f8-4be189797320",
   "metadata": {
    "tags": []
   },
   "outputs": [],
   "source": [
    "from pathlib import Path\n",
    "# Customise to espresso pseudopotential path\n",
    "pseudo_dir = str(\n",
    "    Path.home() / 'opt/espresso_sssp/SSSP_1.1.2_PBE_efficiency')\n",
    "\n",
    "calc = Espresso(pseudo_dir=pseudo_dir, kpts=(3, 3, 3),\n",
    "                tprnfor=True, tstress=True, # enable stress/force calc\n",
    "                pseudopotentials={'Si': 'Si.pbe-n-rrkjus_psl.1.0.0.UPF'})"
   ]
  }
 ],
 "metadata": {
  "kernelspec": {
   "display_name": "ase-tutorials",
   "language": "python",
   "name": "ase-tutorials"
  },
  "language_info": {
   "codemirror_mode": {
    "name": "ipython",
    "version": 3
   },
   "file_extension": ".py",
   "mimetype": "text/x-python",
   "name": "python",
   "nbconvert_exporter": "python",
   "pygments_lexer": "ipython3",
   "version": "3.10.0"
  }
 },
 "nbformat": 4,
 "nbformat_minor": 5
}
