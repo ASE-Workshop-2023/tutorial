{
 "cells": [
  {
   "cell_type": "markdown",
   "id": "939b2bda-85aa-45f3-b189-f5cd698459af",
   "metadata": {},
   "source": [
    "# 02 Calculators"
   ]
  },
  {
   "cell_type": "markdown",
   "id": "fd0189e3-5af7-4291-b757-84bce201c91f",
   "metadata": {},
   "source": [
    "Many software packages can be used to calculate properties from a set of atomic positions. In ASE, Atoms objects can try to calculate or fetch properties using an attached \"Calculator\".\n",
    "\n",
    "Here we make tour of a variety of Calculators, highlighting some of the differences between them. A master list of the available Calculators can be found [here](https://wiki.fysik.dtu.dk/ase/ase/calculators/calculators.html)."
   ]
  },
  {
   "cell_type": "markdown",
   "id": "98a925dd-0dd6-4ba6-9357-2391c38e38a3",
   "metadata": {},
   "source": [
    "### In-built calculators: simple potential models (EMT, LJ)"
   ]
  },
  {
   "cell_type": "markdown",
   "id": "68af97cd-686a-425a-950e-2273a5174e7d",
   "metadata": {},
   "source": [
    "Much of the ASE documentation and tutorials makes use of the [inbuilt \"EMT\" calculator](https://wiki.fysik.dtu.dk/ase/ase/calculators/emt.html#pure-python-emt-calculator) - because it is convenient and \"fast enough\"!\n",
    "\n",
    "This implements the Effective Medium Theory potential for Ni, Cu, Pd, Ag, Pt and Au. Some other elements are included \"for fun\", but really this is a method for alloys of those metals. For more information see this documentation and references for the (more efficient) implementation in the ASAP code: https://wiki.fysik.dtu.dk/asap/EMT"
   ]
  },
  {
   "cell_type": "markdown",
   "id": "66c753e2-cc27-45e9-98b3-dfbdd20aac68",
   "metadata": {},
   "source": [
    "Considering the case of an infinite gold wire:"
   ]
  },
  {
   "cell_type": "code",
   "execution_count": 1,
   "id": "9ca0d6d5-1a53-4f2a-befe-6076e098056e",
   "metadata": {
    "tags": []
   },
   "outputs": [
    {
     "name": "stdout",
     "output_type": "stream",
     "text": [
      "Energy: 0.9910548478768826 eV\n"
     ]
    }
   ],
   "source": [
    "from ase import Atoms\n",
    "from ase.calculators.emt import EMT\n",
    "\n",
    "def make_wire(spacing: float = 2.5,\n",
    "              box_size: float = 10.0) -> Atoms:\n",
    "\n",
    "    wire = Atoms('Au',\n",
    "                 positions=[[0., box_size / 2, box_size / 2]],\n",
    "                 cell=[spacing, box_size, box_size],\n",
    "                 pbc=[True, False, False])\n",
    "    return wire\n",
    "\n",
    "atoms = make_wire()\n",
    "atoms.calc = EMT()\n",
    "energy = atoms.get_potential_energy()\n",
    "print(f\"Energy: {energy} eV\")"
   ]
  },
  {
   "cell_type": "code",
   "execution_count": 2,
   "id": "98b66331-0c5a-4084-b39e-66e67ba70853",
   "metadata": {
    "tags": []
   },
   "outputs": [
    {
     "data": {
      "application/vnd.jupyter.widget-view+json": {
       "model_id": "405d1d39498f4541b298f21acc1b7a5c",
       "version_major": 2,
       "version_minor": 0
      },
      "text/plain": []
     },
     "metadata": {},
     "output_type": "display_data"
    },
    {
     "data": {
      "application/vnd.jupyter.widget-view+json": {
       "model_id": "f581565f6f444a23a499b61efa66479d",
       "version_major": 2,
       "version_minor": 0
      },
      "text/plain": [
       "NGLWidget()"
      ]
     },
     "metadata": {},
     "output_type": "display_data"
    }
   ],
   "source": [
    "import nglview\n",
    "\n",
    "def show(atoms: Atoms) -> None:    \n",
    "    view = nglview.show_ase(atoms)\n",
    "    if any(atoms.pbc):\n",
    "        view.add_unitcell()\n",
    "    return view\n",
    "\n",
    "show(atoms)"
   ]
  },
  {
   "cell_type": "markdown",
   "id": "d2f48216-002d-4873-b375-4c05669d3109",
   "metadata": {},
   "source": [
    "**Question:** *Why did we need the parentheses () in the line* `atoms.calc = EMT()`*?*"
   ]
  },
  {
   "cell_type": "markdown",
   "id": "646755ec-5468-4d2e-866d-bb6205cca47c",
   "metadata": {},
   "source": [
    "What can we do with an energy? We could look at how it varies with the atom spacing and fit a model."
   ]
  },
  {
   "cell_type": "code",
   "execution_count": 3,
   "id": "2c84fdcc-60c4-4111-884e-198d31daee10",
   "metadata": {
    "tags": []
   },
   "outputs": [],
   "source": [
    "import numpy as np\n",
    "distances = np.linspace(2., 3., 21)\n",
    "\n",
    "def get_energy(spacing):\n",
    "    atoms = make_wire(spacing=spacing)\n",
    "    atoms.calc = EMT()\n",
    "    return atoms.get_potential_energy()\n",
    "\n",
    "energies = list(map(get_energy, distances))"
   ]
  },
  {
   "cell_type": "markdown",
   "id": "4776b452-026e-4513-89c6-8ac38a5a9dc4",
   "metadata": {},
   "source": [
    "(Python tip: if you need to apply a function to each element of some data, `map` can provide an elegant alternative to for-loops and list comprehensions!)"
   ]
  },
  {
   "cell_type": "code",
   "execution_count": 4,
   "id": "6edef554-805d-414f-8389-df263644f9c2",
   "metadata": {
    "tags": []
   },
   "outputs": [],
   "source": [
    "from numpy.polynomial import Polynomial\n",
    "fit = Polynomial.fit(distances, energies, 3)\n",
    "x = np.linspace(2., 3., 500)"
   ]
  },
  {
   "cell_type": "code",
   "execution_count": 5,
   "id": "d4deb666-21ee-4d84-ac1e-32a591e75c3b",
   "metadata": {
    "tags": []
   },
   "outputs": [
    {
     "data": {
      "image/png": "[encoded data removed]",
      "text/plain": [
       "<Figure size 640x480 with 1 Axes>"
      ]
     },
     "metadata": {},
     "output_type": "display_data"
    }
   ],
   "source": [
    "%matplotlib inline\n",
    "import matplotlib.pyplot as plt\n",
    "fig, ax = plt.subplots()\n",
    "_ = ax.plot(distances, energies, 'o', label='calculated')\n",
    "_ = ax.plot(x, fit(x), '-', label='cubic')\n",
    "_ = ax.legend()\n",
    "_ = ax.set_xlabel('Spacing / Å')\n",
    "_ = ax.set_ylabel('Energy / eV')"
   ]
  },
  {
   "cell_type": "markdown",
   "id": "d63ae05b-9304-4efa-876a-cb9e84ef32a4",
   "metadata": {},
   "source": [
    "This somewhat resembles the Equation-of-State (EOS) curve for a solid. To see how you can fit a standard EOS model to a 3-D system and obtain an equilibrium volume, see the relevant [ASE tutorial](https://wiki.fysik.dtu.dk/ase/tutorials/eos/eos.html)."
   ]
  },
  {
   "cell_type": "markdown",
   "id": "b78e655a-e301-4445-97c3-35fce661f44a",
   "metadata": {},
   "source": [
    "The EMT Calculator can also be used to obtain forces and unit cell stress:"
   ]
  },
  {
   "cell_type": "code",
   "execution_count": 6,
   "id": "70759fb8-6792-47ff-832e-79bc562f0d42",
   "metadata": {
    "tags": []
   },
   "outputs": [
    {
     "name": "stdout",
     "output_type": "stream",
     "text": [
      "Forces: \n",
      "[[0. 0. 0.]]\n",
      "Stress: \n",
      "[ 0.00396458 -0.         -0.         -0.         -0.         -0.        ]\n"
     ]
    }
   ],
   "source": [
    "print(\"Forces: \")\n",
    "print(atoms.get_forces())\n",
    "\n",
    "print(\"Stress: \")\n",
    "print(atoms.get_stress())"
   ]
  },
  {
   "cell_type": "markdown",
   "id": "dcdddc20-afbc-4742-b32b-90a3eb349cbd",
   "metadata": {},
   "source": [
    "**Question:** *why are the forces exactly zero for this system?*"
   ]
  },
  {
   "cell_type": "markdown",
   "id": "1445fc1b-c5c5-4563-915f-726a1fc6f5bb",
   "metadata": {},
   "source": [
    "Energy, forces and stress are standard \"properties\" in ASE, and we can check which properties are implemented by a particular calculator by inspecting the `implemented properties` attribute:"
   ]
  },
  {
   "cell_type": "code",
   "execution_count": 7,
   "id": "493fbefb-b69b-43ad-8af3-44e1cc6495d1",
   "metadata": {
    "tags": []
   },
   "outputs": [
    {
     "name": "stdout",
     "output_type": "stream",
     "text": [
      "['energy', 'free_energy', 'energies', 'forces', 'stress', 'magmom', 'magmoms']\n"
     ]
    }
   ],
   "source": [
    "print(EMT.implemented_properties)"
   ]
  },
  {
   "cell_type": "markdown",
   "id": "c5ba2046-392c-4a4d-acbe-3136c03cc3bf",
   "metadata": {},
   "source": [
    "**Question:** why do we *not* need to include parenthesis () here? Do we expect `EMT().implemented_properties` to work as well as `EMT.implemented_properties`?"
   ]
  },
  {
   "cell_type": "markdown",
   "id": "7324a852-8cb5-4cec-95de-f11bde1c9dd6",
   "metadata": {},
   "source": [
    "It can be convenient to have e.g. forces attached to a particular Atoms object in this way, and will be used heavily by dynamics and optimizer routines in the next tutorial.\n",
    "\n",
    "However, for Open Science purposes it is easier to store and share data that is not connected to a Calculator. (As we shall see later, Calculators might depend on a particular machine environment, memory state or software license.) We can request a standalone set of property data with e.g.:"
   ]
  },
  {
   "cell_type": "code",
   "execution_count": 8,
   "id": "23193892-cd6b-4c81-8bf9-4fd70c75d9aa",
   "metadata": {
    "tags": []
   },
   "outputs": [
    {
     "name": "stdout",
     "output_type": "stream",
     "text": [
      "(Properties({'energy': 0.9910548478768826, 'natoms': 1, 'energies': array([0.99105485]), 'free_energy': 0.9910548478768826, 'forces': array([[0., 0., 0.]]), 'stress': array([ 0.00396458, -0.        , -0.        , -0.        , -0.        ,\n",
      "       -0.        ])})\n"
     ]
    }
   ],
   "source": [
    "properties = atoms.get_properties(['energy', 'forces', 'stress'])\n",
    "print(properties)"
   ]
  },
  {
   "cell_type": "markdown",
   "id": "4201dd30-efcd-4095-a538-6eac021d717c",
   "metadata": {},
   "source": [
    "This will not change even if the Atoms object is modified and properties are recalculated.\n",
    "\n",
    "> Warning: This is a new feature and does not yet work well for all calculators."
   ]
  },
  {
   "cell_type": "markdown",
   "id": "b303da4c-6c56-4269-922e-e294c65690da",
   "metadata": {},
   "source": [
    "#### Lennard-Jones\n",
    "\n",
    "The classic [Lennard-Jones potential](https://en.wikipedia.org/wiki/Lennard-Jones_potential) is implemented in `ase.calculators.lj`. You can set the $\\epsilon$ and $\\sigma$ parameters in the Calculator constructor:"
   ]
  },
  {
   "cell_type": "code",
   "execution_count": 9,
   "id": "70afc93f-e812-4aec-9633-8dd2869d68b8",
   "metadata": {
    "tags": []
   },
   "outputs": [
    {
     "data": {
      "text/plain": [
       "array([[ 0.00000000e+00,  0.00000000e+00, -6.49886649e-16],\n",
       "       [ 0.00000000e+00,  0.00000000e+00,  6.49886649e-16]])"
      ]
     },
     "execution_count": 9,
     "metadata": {},
     "output_type": "execute_result"
    }
   ],
   "source": [
    "from ase.calculators.lj import LennardJones\n",
    "\n",
    "l = 4.1\n",
    "atoms = Atoms('Xe2',\n",
    "              positions=[[0., 0., -l / 2],\n",
    "                         [0., 0., l / 2]],\n",
    "              pbc=False)\n",
    "atoms.calc = LennardJones(sigma=(4.1 / 2**(1/6)))\n",
    "\n",
    "atoms.get_forces()\n",
    "                           "
   ]
  },
  {
   "cell_type": "markdown",
   "id": "7fb587a5-3c16-41ac-ad82-8598be65b8ba",
   "metadata": {},
   "source": [
    "**Question:** *Why are the forces so low at this geometry?*\n",
    "\n",
    "**Exercise:** Try choosing a value of sigma and varying the distance between the atoms. Can you reproduce the classic plot of a Lennard-Jones binding curve?"
   ]
  },
  {
   "cell_type": "markdown",
   "id": "d8d3f011-5c2f-492c-994a-996f06f4ebe8",
   "metadata": {},
   "source": [
    "## File-based calculators\n",
    "\n",
    "Typically academic codes are controlled by _input files_ and write their results to _output files_. This workflow is convenient for batch calculations on clusters (and for Fortran programmers...)\n",
    "\n",
    "For such a code, the ASE Calculator needs to prepare appropriate input, call the executable and then read the output in order to give a similar workflow to the inbuilt Calculator above.\n",
    "\n",
    "#### MOPAC\n",
    "Here we look at [MOPAC](https://openmopac.github.io), which implements semi-empirical methods with molecular orbitals in open boundary conditions. After a long history of versions and licenses it was recently updated and made open-source under the LGPL."
   ]
  },
  {
   "cell_type": "code",
   "execution_count": 10,
   "id": "32db1c19-82b0-4e4c-b725-251052a1d755",
   "metadata": {
    "tags": []
   },
   "outputs": [
    {
     "data": {
      "application/vnd.jupyter.widget-view+json": {
       "model_id": "7ae26eae04d44c3fa3c824568dda2c45",
       "version_major": 2,
       "version_minor": 0
      },
      "text/plain": [
       "NGLWidget()"
      ]
     },
     "metadata": {},
     "output_type": "display_data"
    }
   ],
   "source": [
    "import ase.build\n",
    "atoms = ase.build.molecule('C2H6CHOH')\n",
    "show(atoms)"
   ]
  },
  {
   "cell_type": "code",
   "execution_count": 11,
   "id": "64986b61-4337-46ab-951e-aac6433ec351",
   "metadata": {
    "tags": []
   },
   "outputs": [
    {
     "name": "stdout",
     "output_type": "stream",
     "text": [
      "\n",
      "\n",
      "          MOPAC Job: \"isopropyl-alcohol.mop\" ended normally on Apr  3, 2023, at 21:29.\n",
      "\n",
      "Energy:  -2.7842547352472047\n"
     ]
    }
   ],
   "source": [
    "from ase.calculators.mopac import MOPAC\n",
    "atoms.calc = MOPAC(label='isopropyl-alcohol')\n",
    "print(\"Energy: \", atoms.get_potential_energy())"
   ]
  },
  {
   "cell_type": "markdown",
   "id": "2ce0a76b-3e34-4600-ab68-d956f6cd36a2",
   "metadata": {},
   "source": [
    "We got an energy. Some data was also written to the Calculator `results`."
   ]
  },
  {
   "cell_type": "code",
   "execution_count": 12,
   "id": "7c53c71a-0eb2-413b-a12d-a7b21cae7632",
   "metadata": {
    "tags": []
   },
   "outputs": [
    {
     "data": {
      "text/plain": [
       "{'version': 'v22.0.6',\n",
       " 'final_hof': -2.7842547352472047,\n",
       " 'total_energy': -772.22396,\n",
       " 'forces': array([[ 0.09452837, -0.58935651,  0.32936589],\n",
       "        [-0.08600234,  0.14274349,  0.18579394],\n",
       "        [ 0.07639485,  0.31559567, -0.11416446],\n",
       "        [ 0.04624326,  0.38071862,  0.42829993],\n",
       "        [-0.0548457 , -0.0925792 , -0.20465619],\n",
       "        [ 0.1883473 ,  0.10008969, -0.12176805],\n",
       "        [-0.20786882, -0.0372329 , -0.15859723],\n",
       "        [ 0.15218576, -0.10221587, -0.13990335],\n",
       "        [-0.20513693,  0.04222415, -0.04563994],\n",
       "        [ 0.06881428, -0.05719803, -0.06499095],\n",
       "        [-0.10723496, -0.05249259, -0.0346418 ],\n",
       "        [ 0.03457494, -0.05029646, -0.05909764]]),\n",
       " 'dipole': array([ 0.23963168, -0.26607236,  0.20049114]),\n",
       " 'energy': -2.7842547352472047,\n",
       " 'free_energy': -2.7842547352472047}"
      ]
     },
     "execution_count": 12,
     "metadata": {},
     "output_type": "execute_result"
    }
   ],
   "source": [
    "atoms.calc.results"
   ]
  },
  {
   "cell_type": "markdown",
   "id": "8bf0a3de-9ae9-4247-8c29-2388c2d72904",
   "metadata": {},
   "source": [
    "*(This is one of the calculators that doesn't support get_properties() yet... We can still get a nice results container this way, though!)*"
   ]
  },
  {
   "cell_type": "markdown",
   "id": "c74aec82-a114-40cd-b8bd-2f6785b26f88",
   "metadata": {},
   "source": [
    "How did it do that? When we requested the potential energy, the Calculator generated an input file using the name we provided as *label*: \"ispropyl-alcohol.mop\". This is a human-readable file: take a look at it.\n",
    "\n",
    "The top line includes some parameters for the calculation:\n",
    "> PM7 1SCF GRADIENTS DISP RELSCF=0.0001 \n",
    "\n",
    "including selection of the PM7 semi-empirical method and convergence tolerance. Below that are the atomic positions.\n",
    "\n",
    "After writing the input, the calculation is run by calling the `mopac` executable: this should already be installed on the virtual machine for this tutorial.\n",
    "\n",
    "The results were written to \"isopropyl-alcohol.out\"; this is another human-readable file.\n",
    "\n",
    "**Exercise:** can you find the energy and forces in this file? Do they agree with the values from ASE?\n",
    "\n",
    "*Hint: ASE mostly uses units related to eV and Ångström*"
   ]
  },
  {
   "cell_type": "markdown",
   "id": "d6fd4015-0b83-4371-8e75-68a4d73e0c31",
   "metadata": {},
   "source": [
    "Next, we request the Forces:"
   ]
  },
  {
   "cell_type": "code",
   "execution_count": 13,
   "id": "f19c51d7-a6d8-4ae2-a945-1602fbcade1d",
   "metadata": {
    "tags": []
   },
   "outputs": [
    {
     "name": "stdout",
     "output_type": "stream",
     "text": [
      "[[ 0.09452837 -0.58935651  0.32936589]\n",
      " [-0.08600234  0.14274349  0.18579394]\n",
      " [ 0.07639485  0.31559567 -0.11416446]\n",
      " [ 0.04624326  0.38071862  0.42829993]\n",
      " [-0.0548457  -0.0925792  -0.20465619]\n",
      " [ 0.1883473   0.10008969 -0.12176805]\n",
      " [-0.20786882 -0.0372329  -0.15859723]\n",
      " [ 0.15218576 -0.10221587 -0.13990335]\n",
      " [-0.20513693  0.04222415 -0.04563994]\n",
      " [ 0.06881428 -0.05719803 -0.06499095]\n",
      " [-0.10723496 -0.05249259 -0.0346418 ]\n",
      " [ 0.03457494 -0.05029646 -0.05909764]]\n"
     ]
    }
   ],
   "source": [
    "print(atoms.get_forces())"
   ]
  },
  {
   "cell_type": "markdown",
   "id": "4500c071-c746-4751-aa70-c586177ef166",
   "metadata": {},
   "source": [
    "This should give the results instantly: no new calculation was required! The Calculator object cached the results of the first calculation, and as forces were already present they are simply retrieved from the cache. This means we can mostly use the property getters without worrying about wastefully running unnecessary calculations."
   ]
  },
  {
   "cell_type": "code",
   "execution_count": 14,
   "id": "5be3a52c-66cd-4304-a11b-0d3817ff4ee7",
   "metadata": {
    "tags": []
   },
   "outputs": [
    {
     "name": "stdout",
     "output_type": "stream",
     "text": [
      "\n",
      "\n",
      "          MOPAC Job: \"isopropyl-alcohol.mop\" ended normally on Apr  3, 2023, at 21:29.\n",
      "\n"
     ]
    },
    {
     "data": {
      "text/plain": [
       "-2.8723671252448977"
      ]
     },
     "execution_count": 14,
     "metadata": {},
     "output_type": "execute_result"
    }
   ],
   "source": [
    "atoms.calc.set(method='AM1')\n",
    "atoms.get_potential_energy()"
   ]
  },
  {
   "cell_type": "markdown",
   "id": "e3a6317a-b33f-4a6d-b1da-a18156d2269e",
   "metadata": {},
   "source": [
    "After changing a parameter (in this case, selecting the AM1 semi-empirical scheme) the cache is invalidated. When the potential energy is requested, a new calculation is performed."
   ]
  },
  {
   "cell_type": "markdown",
   "id": "942c2c35-d9fc-436c-a65a-ba2cac7bcf2f",
   "metadata": {},
   "source": [
    "**Question:** *what happens to calc.results when a parameter is changed? When might we prefer to use atoms.get_forces() vs atoms.calc.results['forces']?*"
   ]
  },
  {
   "cell_type": "markdown",
   "id": "3e515d2a-041e-4753-b227-cbc2812e4dcf",
   "metadata": {},
   "source": [
    "## External library calculators\n",
    "\n",
    "Some calculators are not packaged with ASE, but included in some other package. For example, the `quippy` package provides a Python interface to a range of interatomic and tight-binding potentials. Here we apply a machine-learning-based potential for Si.\n",
    "\n",
    "The documentation for Gaussian Approximation Potentials (GAP) links to a few published GAP models: https://libatoms.github.io/GAP/data.html\n",
    "Follow the \"Si\" link and download the *Si_PRX_GAP.zip* file containing the model and training data. Move the .zip file somewhere you can find and extract the files.\n",
    "\n",
    "*N.B. This requires a version of quippy that includes GAP. At the moment, `pip install` seems to work better than installing from conda-forge.*"
   ]
  },
  {
   "cell_type": "code",
   "execution_count": 16,
   "id": "c24c2aa9-3485-49c9-8216-8dfd2d9b486b",
   "metadata": {
    "tags": []
   },
   "outputs": [],
   "source": [
    "from pathlib import Path\n",
    "from quippy.potential import Potential\n",
    "\n",
    "gap = Potential(param_filename=str(Path.cwd() / 'Si_PRX_GAP/gp_iter6_sparse9k.xml'))"
   ]
  },
  {
   "cell_type": "markdown",
   "id": "d7ef2f46-a822-4917-b97e-9d93177dde4a",
   "metadata": {},
   "source": [
    "Let's build a Si supercell and apply a random walk to the positions:"
   ]
  },
  {
   "cell_type": "code",
   "execution_count": 20,
   "id": "84993344-d2e5-4662-aa0c-b8a2aa64ef23",
   "metadata": {
    "tags": []
   },
   "outputs": [
    {
     "data": {
      "text/plain": [
       "Text(0, 0.5, 'Energy / eV')"
      ]
     },
     "execution_count": 20,
     "metadata": {},
     "output_type": "execute_result"
    },
    {
     "data": {
      "image/png": "[encoded data removed]",
      "text/plain": [
       "<Figure size 640x480 with 1 Axes>"
      ]
     },
     "metadata": {},
     "output_type": "display_data"
    }
   ],
   "source": [
    "si = ase.build.bulk('Si') * 4\n",
    "si.calc = gap\n",
    "\n",
    "energies = []\n",
    "for _ in range(10):\n",
    "    si.rattle(stdev=0.01)\n",
    "    energies.append(si.get_potential_energy())\n",
    "\n",
    "fig, ax = plt.subplots()\n",
    "ax.plot(energies, 'o-')\n",
    "ax.set_xlabel('Random walk step')\n",
    "ax.set_ylabel('Energy / eV')"
   ]
  },
  {
   "cell_type": "markdown",
   "id": "7b3afd79-9ac1-4cb0-8365-5a219dec2429",
   "metadata": {},
   "source": [
    "This is a bit more expensive than EMT but still a lot cheaper than density-functional theory! A lot of work goes into developing a new potential, but with tools like quippy and ASE it is fairly easy for researchers to pick up the resulting model and apply it."
   ]
  },
  {
   "cell_type": "markdown",
   "id": "d8c2ef2a-fe2e-4335-92ea-79b6a38dd31d",
   "metadata": {},
   "source": [
    "## Calculators using a parallel interpreter\n",
    "\n",
    "GPAW is a bit special! It is an electronic structure code implemented as a Python library with C backend, and GPAW development is closely related to ASE development.\n",
    "\n",
    "The difference between GPAW and other external Python calculators is that it includes a special Python interpreter for parallel calculations.\n",
    "\n",
    "TODO:\n",
    "- GPAW run in notebook using xc and kpts arguments\n",
    "- time the run\n",
    "- create a script file with equivalent settings and 4-way kpt parallelism\n",
    "- compare runtime running on 4 cores"
   ]
  },
  {
   "cell_type": "code",
   "execution_count": 27,
   "id": "a6f9f8c6-937e-4739-8700-f5ffb0b5cb32",
   "metadata": {
    "tags": []
   },
   "outputs": [
    {
     "data": {
      "text/plain": [
       "\u001b[0;31mInit signature:\u001b[0m \u001b[0mtimer\u001b[0m\u001b[0;34m(\u001b[0m\u001b[0mname\u001b[0m\u001b[0;34m)\u001b[0m\u001b[0;34m\u001b[0m\u001b[0;34m\u001b[0m\u001b[0m\n",
       "\u001b[0;31mDocstring:\u001b[0m     \n",
       "Decorator for timing a method call.\n",
       "\n",
       "Example::\n",
       "\n",
       "    from ase.utils.timing import timer, Timer\n",
       "\n",
       "    class A:\n",
       "        def __init__(self):\n",
       "            self.timer = Timer()\n",
       "\n",
       "        @timer('Add two numbers')\n",
       "        def add(self, x, y):\n",
       "            return x + y\n",
       "\n",
       "    \n",
       "\u001b[0;31mFile:\u001b[0m           ~/src/ase/ase/utils/timing.py\n",
       "\u001b[0;31mType:\u001b[0m           type\n",
       "\u001b[0;31mSubclasses:\u001b[0m     "
      ]
     },
     "metadata": {},
     "output_type": "display_data"
    }
   ],
   "source": [
    "from ase.utils.timing import timer\n",
    "timer?"
   ]
  },
  {
   "cell_type": "markdown",
   "id": "37f26764-fde6-478f-9ab3-cbc7de51181d",
   "metadata": {},
   "source": [
    "To begin with, we run a single-point energy calculation using Kohn-Sham density-functional theory (DFT).\n",
    "- `xc` sets the exchange-correlation functional\n",
    "- `kpts` sets the Brillouin-zone sampling\n",
    "- `mode` sets the basis set; in this case a 400 eV cutoff plane-wave basis is used.\n",
    "\n",
    "For more information about valid parameters, [see the GPAW docs](https://wiki.fysik.dtu.dk/gpaw/documentation/basic.html#parameters)."
   ]
  },
  {
   "cell_type": "code",
   "execution_count": 49,
   "id": "b2450317-634d-410e-b7d8-459b0d79eb2e",
   "metadata": {
    "tags": []
   },
   "outputs": [
    {
     "name": "stdout",
     "output_type": "stream",
     "text": [
      "\n",
      "  ___ ___ ___ _ _ _  \n",
      " |   |   |_  | | | | \n",
      " | | | | | . | | | | \n",
      " |__ |  _|___|_____|  22.8.0\n",
      " |___|_|             \n",
      "\n",
      "User:   adam@Arctopus\n",
      "Date:   Tue Apr  4 11:30:25 2023\n",
      "Arch:   x86_64\n",
      "Pid:    97252\n",
      "CWD:    /home/adam/src/ase-tutorial-2023/development\n",
      "Python: 3.10.0\n",
      "gpaw:   /home/adam/.conda/envs/user-base/envs/ase-tutorials/lib/python3.10/site-packages/gpaw\n",
      "_gpaw:  /home/adam/.conda/envs/user-base/envs/ase-tutorials/lib/python3.10/site-packages/\n",
      "        _gpaw.cpython-310-x86_64-linux-gnu.so\n",
      "ase:    /home/adam/src/ase/ase (version 3.23.0b1-70eab133b6)\n",
      "numpy:  /home/adam/.conda/envs/user-base/envs/ase-tutorials/lib/python3.10/site-packages/numpy (version 1.23.5)\n",
      "scipy:  /home/adam/.conda/envs/user-base/envs/ase-tutorials/lib/python3.10/site-packages/scipy (version 1.10.1)\n",
      "libxc:  5.2.3\n",
      "units:  Angstrom and eV\n",
      "cores: 1\n",
      "OpenMP: True\n",
      "OMP_NUM_THREADS: 1\n",
      "\n",
      "Input parameters:\n",
      "  kpts: [3 3 3]\n",
      "  mode: {ecut: 400.0,\n",
      "         name: pw}\n",
      "  xc: PBE\n",
      "\n",
      "System changes: positions, numbers, cell, pbc, initial_charges, initial_magmoms \n",
      "\n",
      "Initialize ...\n",
      "\n",
      "species:\n",
      "  Cu:\n",
      "    name: Copper\n",
      "    id: f1c4d45d90492f1bbfdcb091e8418fdf\n",
      "    Z: 29.0\n",
      "    valence: 11\n",
      "    core: 18\n",
      "    charge: 0.0\n",
      "    file: /home/adam/.conda/envs/user-base/envs/ase-tutorials/share/gpaw/Cu.PBE.gz\n",
      "    compensation charges: {type: gauss,\n",
      "                           rc: 0.33,\n",
      "                           lmax: 2}\n",
      "    cutoffs: {filter: 2.06,\n",
      "              core: 2.43}\n",
      "    valence states:\n",
      "      #              energy  rcut\n",
      "      - 4s(1.00)    -4.609   1.164\n",
      "      - 4p(0.00)    -0.698   1.164\n",
      "      - 3d(10.00)    -5.039   1.058\n",
      "      -  s          22.603   1.164\n",
      "      -  p          26.513   1.164\n",
      "      -  d          22.172   1.058\n",
      "  \n",
      "    # Using partial waves for Cu as LCAO basis\n",
      "\n",
      "Reference energy: -45021.451841  # eV\n",
      "\n",
      "Spin-paired calculation\n",
      "\n",
      "Convergence criteria:\n",
      " Maximum [total energy] change in last 3 cyles: 0.0005 eV / electron\n",
      " Maximum integral of absolute [dens]ity change: 0.0001 electrons / valence electron\n",
      " Maximum integral of absolute [eigenst]ate change: 4e-08 eV^2 / valence electron\n",
      " Maximum number of scf [iter]ations: 333\n",
      " (Square brackets indicate name in SCF output, whereas a 'c' in\n",
      " the SCF output indicates the quantity has converged.)\n",
      "\n",
      "Symmetries present (total): 48\n",
      "\n",
      "  ( 1  0  0)  ( 1  0  0)  ( 1  0  0)  ( 1  0  0)  ( 1  0 -1)  ( 1  0 -1)\n",
      "  ( 1  0 -1)  ( 1 -1  0)  ( 0  1  0)  ( 0  0  1)  ( 1  0  0)  ( 1 -1  0)\n",
      "  ( 1 -1  0)  ( 1  0 -1)  ( 0  0  1)  ( 0  1  0)  ( 1 -1  0)  ( 1  0  0)\n",
      "\n",
      "  ( 1  0 -1)  ( 1  0 -1)  ( 1 -1  0)  ( 1 -1  0)  ( 1 -1  0)  ( 1 -1  0)\n",
      "  ( 0  1 -1)  ( 0  0 -1)  ( 1  0  0)  ( 1  0 -1)  ( 0 -1  1)  ( 0 -1  0)\n",
      "  ( 0  0 -1)  ( 0  1 -1)  ( 1  0 -1)  ( 1  0  0)  ( 0 -1  0)  ( 0 -1  1)\n",
      "\n",
      "  ( 0  1  0)  ( 0  1  0)  ( 0  1  0)  ( 0  1  0)  ( 0  1 -1)  ( 0  1 -1)\n",
      "  ( 1  0  0)  ( 0  1 -1)  ( 0  0  1)  (-1  1  0)  ( 1  0 -1)  ( 0  1  0)\n",
      "  ( 0  0  1)  (-1  1  0)  ( 1  0  0)  ( 0  1 -1)  ( 0  0 -1)  (-1  1  0)\n",
      "\n",
      "  ( 0  1 -1)  ( 0  1 -1)  ( 0  0  1)  ( 0  0  1)  ( 0  0  1)  ( 0  0  1)\n",
      "  ( 0  0 -1)  (-1  1  0)  ( 1  0  0)  ( 0  1  0)  ( 0 -1  1)  (-1  0  1)\n",
      "  ( 1  0 -1)  ( 0  1  0)  ( 0  1  0)  ( 1  0  0)  (-1  0  1)  ( 0 -1  1)\n",
      "\n",
      "  ( 0  0 -1)  ( 0  0 -1)  ( 0  0 -1)  ( 0  0 -1)  ( 0 -1  1)  ( 0 -1  1)\n",
      "  ( 1  0 -1)  ( 0  1 -1)  ( 0 -1  0)  (-1  0  0)  ( 1 -1  0)  ( 0  0  1)\n",
      "  ( 0  1 -1)  ( 1  0 -1)  (-1  0  0)  ( 0 -1  0)  ( 0 -1  0)  (-1  0  1)\n",
      "\n",
      "  ( 0 -1  1)  ( 0 -1  1)  ( 0 -1  0)  ( 0 -1  0)  ( 0 -1  0)  ( 0 -1  0)\n",
      "  ( 0 -1  0)  (-1  0  1)  ( 1 -1  0)  ( 0  0 -1)  ( 0 -1  1)  (-1  0  0)\n",
      "  ( 1 -1  0)  ( 0  0  1)  ( 0 -1  1)  (-1  0  0)  ( 1 -1  0)  ( 0  0 -1)\n",
      "\n",
      "  (-1  1  0)  (-1  1  0)  (-1  1  0)  (-1  1  0)  (-1  0  1)  (-1  0  1)\n",
      "  ( 0  1  0)  ( 0  1 -1)  (-1  0  1)  (-1  0  0)  ( 0  0  1)  ( 0 -1  1)\n",
      "  ( 0  1 -1)  ( 0  1  0)  (-1  0  0)  (-1  0  1)  ( 0 -1  1)  ( 0  0  1)\n",
      "\n",
      "  (-1  0  1)  (-1  0  1)  (-1  0  0)  (-1  0  0)  (-1  0  0)  (-1  0  0)\n",
      "  (-1  1  0)  (-1  0  0)  ( 0  0 -1)  ( 0 -1  0)  (-1  1  0)  (-1  0  1)\n",
      "  (-1  0  0)  (-1  1  0)  ( 0 -1  0)  ( 0  0 -1)  (-1  0  1)  (-1  1  0)\n",
      "\n",
      "27 k-points: 3 x 3 x 3 Monkhorst-Pack grid\n",
      "4 k-points in the irreducible part of the Brillouin zone\n",
      "       k-points in crystal coordinates                weights\n",
      "   0:     0.00000000    0.00000000    0.00000000          1/27\n",
      "   1:     0.33333333    0.33333333   -0.33333333         12/27\n",
      "   2:     0.33333333    0.33333333    0.00000000          6/27\n",
      "   3:     0.33333333    0.33333333    0.33333333          8/27\n",
      "\n",
      "Wave functions: Plane wave expansion\n",
      "  Cutoff energy: 400.000 eV\n",
      "  Number of coefficients (min, max): 181, 220\n",
      "  Pulay-stress correction: 0.000000 eV/Ang^3 (de/decut=0.000000)\n",
      "  Using FFTW library\n",
      "  ScaLapack parameters: grid=1x1, blocksize=None\n",
      "  Wavefunction extrapolation:\n",
      "    Improved wavefunction reuse through dual PAW basis \n",
      "\n",
      "Occupation numbers: Fermi-Dirac:\n",
      "  width: 0.1000  # eV\n",
      " \n",
      "\n",
      "Eigensolver\n",
      "   Davidson(niter=2) \n",
      "\n",
      "Densities:\n",
      "  Coarse grid: 12*12*12 grid\n",
      "  Fine grid: 24*24*24 grid\n",
      "  Total Charge: 0.000000 \n",
      "\n",
      "Density mixing:\n",
      "  Method: separate\n",
      "  Backend: pulay\n",
      "  Linear mixing parameter: 0.05\n",
      "  old densities: 5\n",
      "  Damping of long wavelength oscillations: 50 \n",
      "\n",
      "Hamiltonian:\n",
      "  XC and Coulomb potentials evaluated on a 24*24*24 grid\n",
      "  Using the PBE Exchange-Correlation functional\n",
      "  External potential:\n",
      "    NoExternalPotential\n",
      " \n",
      "\n",
      "XC parameters: PBE with 2 nearest neighbor stencil\n",
      "\n",
      "Memory estimate:\n",
      "  Process memory now: 390.56 MiB\n",
      "  Calculator: 1.30 MiB\n",
      "    Density: 0.70 MiB\n",
      "      Arrays: 0.34 MiB\n",
      "      Localized functions: 0.23 MiB\n",
      "      Mixer: 0.13 MiB\n",
      "    Hamiltonian: 0.23 MiB\n",
      "      Arrays: 0.22 MiB\n",
      "      XC: 0.00 MiB\n",
      "      Poisson: 0.00 MiB\n",
      "      vbar: 0.00 MiB\n",
      "    Wavefunctions: 0.36 MiB\n",
      "      Arrays psit_nG: 0.12 MiB\n",
      "      Eigensolver: 0.06 MiB\n",
      "      Projections: 0.01 MiB\n",
      "      Projectors: 0.09 MiB\n",
      "      PW-descriptor: 0.08 MiB\n",
      "\n",
      "Total number of cores used: 1\n",
      "\n",
      "Number of atoms: 1\n",
      "Number of atomic orbitals: 9\n",
      "Number of bands in calculation: 9\n",
      "Number of valence electrons: 11\n",
      "Bands to converge: occupied\n",
      "\n",
      "... initialized\n",
      "\n",
      "Initializing position-dependent things.\n",
      "\n",
      "Density initialized from atomic densities\n",
      "Creating initial wave functions:\n",
      "  9 bands from LCAO basis set\n",
      "\n",
      "                \n",
      "                \n",
      "                \n",
      "       Cu       \n",
      "                \n",
      "                \n",
      "                \n",
      "                \n",
      "\n",
      "Positions:\n",
      "   0 Cu     0.000000    0.000000    0.000000    ( 0.0000,  0.0000,  0.0000)\n",
      "\n",
      "Unit cell:\n",
      "           periodic     x           y           z      points  spacing\n",
      "  1. axis:    yes    0.000000    1.805000    1.805000    12     0.1737\n",
      "  2. axis:    yes    1.805000    0.000000    1.805000    12     0.1737\n",
      "  3. axis:    yes    1.805000    1.805000    0.000000    12     0.1737\n",
      "\n",
      "  Lengths:   2.552655   2.552655   2.552655\n",
      "  Angles:   60.000000  60.000000  60.000000\n",
      "\n",
      "Effective grid spacing dv^(1/3) = 0.1895\n",
      "\n",
      "     iter     time        total  log10-change:\n",
      "                         energy  eigst   dens\n",
      "iter:   1 11:30:26    -4.839672\n",
      "iter:   2 11:30:26    -4.507699  -1.93  -1.20\n",
      "iter:   3 11:30:26    -3.927233  -1.14  -1.27\n",
      "iter:   4 11:30:27    -3.912161  -3.42  -1.89\n",
      "iter:   5 11:30:27    -3.896647  -2.80  -1.87\n",
      "iter:   6 11:30:27    -3.892566  -3.37  -2.42\n",
      "iter:   7 11:30:27    -3.893413c -3.92  -3.13\n",
      "iter:   8 11:30:27    -3.892769c -4.67  -2.77\n",
      "iter:   9 11:30:28    -3.892528c -4.69  -3.09\n",
      "iter:  10 11:30:28    -3.892528c -6.72  -4.30c\n",
      "iter:  11 11:30:28    -3.892530c -7.48c -4.34c\n",
      "\n",
      "Converged after 11 iterations.\n",
      "\n",
      "Dipole moment: (-0.000000, -0.000000, 0.000000) |e|*Ang\n",
      "\n",
      "Energy contributions relative to reference atoms: (reference = -45021.451841)\n",
      "\n",
      "Kinetic:        -14.510158\n",
      "Potential:      +11.179109\n",
      "External:        +0.000000\n",
      "XC:              -0.795423\n",
      "Entropy (-ST):   -0.048202\n",
      "Local:           +0.258042\n",
      "--------------------------\n",
      "Free energy:     -3.916631\n",
      "Extrapolated:    -3.892530\n",
      "\n",
      "Showing only first 2 kpts\n",
      " Kpt  Band  Eigenvalues  Occupancy\n",
      "  0     3      5.01847    2.00000\n",
      "  0     4      5.83606    1.99744\n",
      "  0     5      5.83606    1.99744\n",
      "  0     6     33.56442    0.00000\n",
      "\n",
      "  1     3      5.75212    1.99890\n",
      "  1     4      6.19678    1.90992\n",
      "  1     5     11.33421    0.00000\n",
      "  1     6     14.02875    0.00000\n",
      "\n",
      "\n",
      "Fermi level: 6.50219\n",
      "\n",
      "No gap\n",
      "-3.8925302349205153\n"
     ]
    }
   ],
   "source": [
    "from gpaw import GPAW, PW\n",
    "\n",
    "atoms = ase.build.bulk('Cu')\n",
    "atoms.calc = GPAW(xc='PBE', kpts=(3, 3, 3), mode=PW(400))\n",
    "energy = atoms.get_potential_energy()\n",
    "print(energy)"
   ]
  },
  {
   "cell_type": "markdown",
   "id": "65858a88-4bb5-4094-b11a-ab054456f69e",
   "metadata": {},
   "source": [
    "We should check the convergence of the energy with respect to k-point sampling. As well as accepting a simple mesh as e.g. `[3, 3, 3]`, we can pass a dictionary specification that generates a more specific mesh. In this case, we will shift the meshes to be off the Gamma-point.\n",
    "\n",
    "We will also collect some timing information to understand how this impacts calculation cost. The output is directed to a text file to avoid cluttering our notebook.\n",
    "\n",
    "This will take a few minutes to run: to see live output, open a terminal and use `tail -f kpts_serial.txt` to see this file grow. When it is finished, you can exit `tail` with ctrl-c."
   ]
  },
  {
   "cell_type": "code",
   "execution_count": 50,
   "id": "d0a4f60a-5db3-431f-8ffc-a7417485f962",
   "metadata": {
    "tags": []
   },
   "outputs": [
    {
     "name": "stdout",
     "output_type": "stream",
     "text": [
      "Timing:                              incl.     excl.\n",
      "-----------------------------------------------------------\n",
      "Hamiltonian:                         0.096     0.000   0.0% |\n",
      " Atomic:                             0.088     0.001   0.0% |\n",
      "  XC Correction:                     0.087     0.087   0.8% |\n",
      " Calculate atomic Hamiltonians:      0.001     0.001   0.0% |\n",
      " Communicate:                        0.000     0.000   0.0% |\n",
      " Initialize Hamiltonian:             0.000     0.000   0.0% |\n",
      " Poisson:                            0.000     0.000   0.0% |\n",
      " XC 3D grid:                         0.007     0.007   0.1% |\n",
      "LCAO initialization:                 0.344     0.082   0.7% |\n",
      " LCAO eigensolver:                   0.147     0.000   0.0% |\n",
      "  Calculate projections:             0.000     0.000   0.0% |\n",
      "  DenseAtomicCorrection:             0.000     0.000   0.0% |\n",
      "  Distribute overlap matrix:         0.000     0.000   0.0% |\n",
      "  Orbital Layouts:                   0.001     0.001   0.0% |\n",
      "  Potential matrix:                  0.144     0.144   1.3% ||\n",
      "  Sum over cells:                    0.001     0.001   0.0% |\n",
      " LCAO to grid:                       0.018     0.018   0.2% |\n",
      " Set positions (LCAO WFS):           0.097     0.012   0.1% |\n",
      "  Basic WFS set positions:           0.002     0.002   0.0% |\n",
      "  Basis functions set positions:     0.000     0.000   0.0% |\n",
      "  P tci:                             0.014     0.014   0.1% |\n",
      "  ST tci:                            0.039     0.039   0.3% |\n",
      "  mktci:                             0.030     0.030   0.3% |\n",
      "PWDescriptor:                        0.017     0.017   0.2% |\n",
      "SCF-cycle:                           1.907     0.101   0.9% |\n",
      " Davidson:                           0.459     0.152   1.3% ||\n",
      "  Apply H:                           0.033     0.027   0.2% |\n",
      "   HMM T:                            0.006     0.006   0.1% |\n",
      "  Subspace diag:                     0.076     0.004   0.0% |\n",
      "   calc_h_matrix:                    0.056     0.023   0.2% |\n",
      "    Apply H:                         0.034     0.027   0.2% |\n",
      "     HMM T:                          0.006     0.006   0.1% |\n",
      "   diagonalize:                      0.009     0.009   0.1% |\n",
      "   rotate_psi:                       0.006     0.006   0.1% |\n",
      "  calc. matrices:                    0.160     0.091   0.8% |\n",
      "   Apply H:                          0.069     0.056   0.5% |\n",
      "    HMM T:                           0.012     0.012   0.1% |\n",
      "  diagonalize:                       0.023     0.023   0.2% |\n",
      "  rotate_psi:                        0.014     0.014   0.1% |\n",
      " Density:                            0.191     0.000   0.0% |\n",
      "  Atomic density matrices:           0.019     0.019   0.2% |\n",
      "  Mix:                               0.064     0.064   0.6% |\n",
      "  Multipole moments:                 0.001     0.001   0.0% |\n",
      "  Pseudo density:                    0.106     0.015   0.1% |\n",
      "   Symmetrize density:               0.091     0.091   0.8% |\n",
      " Hamiltonian:                        1.152     0.004   0.0% |\n",
      "  Atomic:                            0.952     0.015   0.1% |\n",
      "   XC Correction:                    0.937     0.937   8.2% |--|\n",
      "  Calculate atomic Hamiltonians:     0.006     0.006   0.1% |\n",
      "  Communicate:                       0.000     0.000   0.0% |\n",
      "  Poisson:                           0.002     0.002   0.0% |\n",
      "  XC 3D grid:                        0.189     0.189   1.7% ||\n",
      " Orthonormalize:                     0.003     0.000   0.0% |\n",
      "  calc_s_matrix:                     0.001     0.001   0.0% |\n",
      "  inverse-cholesky:                  0.000     0.000   0.0% |\n",
      "  projections:                       0.001     0.001   0.0% |\n",
      "  rotate_psi_s:                      0.000     0.000   0.0% |\n",
      "Set symmetry:                        0.025     0.025   0.2% |\n",
      "Other:                               8.970     8.970  79.0% |-------------------------------|\n",
      "-----------------------------------------------------------\n",
      "Total:                                        11.359 100.0%\n",
      "\n",
      "Memory usage: 390.56 MiB\n",
      "Date: Tue Apr  4 11:30:36 2023\n"
     ]
    }
   ],
   "source": [
    "from ase.utils.timing import Timer\n",
    "timer = Timer()\n",
    "energies, times, nkpts = [], [], []\n",
    "\n",
    "\n",
    "for k in range(3,9):\n",
    "    atoms.calc = GPAW(mode=PW(400), xc='PBE',\n",
    "                      kpts={'size': [k, k, k],\n",
    "                            'gamma': False},\n",
    "                      txt='kpts_serial.txt')\n",
    "    timer.start(str(k))\n",
    "    energies.append(atoms.get_potential_energy())\n",
    "    timer.stop(str(k))\n",
    "    times.append(timer.get_time(str(k)))\n",
    "    nkpts.append(len(atoms.calc.get_ibz_k_points()))\n"
   ]
  },
  {
   "cell_type": "code",
   "execution_count": 47,
   "id": "71018f72-753b-4fc4-904e-3c01985a8255",
   "metadata": {
    "tags": []
   },
   "outputs": [
    {
     "data": {
      "text/plain": [
       "Text(0.5, 0, 'number of k-points')"
      ]
     },
     "execution_count": 47,
     "metadata": {},
     "output_type": "execute_result"
    },
    {
     "data": {
      "image/png": "[encoded data removed]",
      "text/plain": [
       "<Figure size 640x480 with 2 Axes>"
      ]
     },
     "metadata": {},
     "output_type": "display_data"
    }
   ],
   "source": [
    "fig, axes = plt.subplots(nrows=2, sharex=True)\n",
    "axes[0].plot(nkpts, energies, 'o-')\n",
    "axes[0].set_ylabel('energy / eV') \n",
    "axes[1].plot(nkpts, times, 'o-')\n",
    "axes[1].set_ylabel('Calculation time / s')\n",
    "axes[1].set_ylim([0, None])\n",
    "axes[1].set_xlabel('number of k-points')"
   ]
  },
  {
   "cell_type": "markdown",
   "id": "cdda4f3f-59e3-4e9a-8707-9105f9b075d7",
   "metadata": {},
   "source": [
    "For this calculation, the computational cost per k-point is roughly linear, but the energy convergence is slow. We have multiple cores available, but how do we use them?\n",
    "\n",
    "Create a script file with the following code, named \"kpts_parallel.py\""
   ]
  },
  {
   "cell_type": "markdown",
   "id": "a9940ba8-49b5-45a3-8451-c65b7dbb2497",
   "metadata": {},
   "source": [
    "```\n",
    "from gpaw import GPAW, PW\n",
    "\n",
    "import ase.build\n",
    "from ase.parallel import parprint, world, paropen\n",
    "from ase.utils.timing import Timer\n",
    "import json\n",
    "\n",
    "print(\"Hello from every process!\")\n",
    "parprint(\"Hello from one process!\")\n",
    "\n",
    "atoms = ase.build.bulk('Cu')\n",
    "\n",
    "timer = Timer()\n",
    "energies, times, nkpts = [], [], []\n",
    "\n",
    "for k in range(3, 9):\n",
    "    atoms.calc = GPAW(mode=PW(400), xc='PBE',\n",
    "                      kpts={'size': [k, k, k],\n",
    "                            'gamma': False},\n",
    "                      txt='kpts_parallel.txt',\n",
    "                      parallel={'kpt': True})\n",
    "    timer.start(str(k))\n",
    "  \n",
    "    energy = atoms.get_potential_energy()\n",
    "    \n",
    "    timer.stop(str(k))\n",
    "    energies.append(energy)\n",
    "    times.append(timer.get_time(str(k)))\n",
    "    nkpts.append(len(atoms.calc.get_ibz_k_points()))\n",
    "\n",
    "with paropen('parallel_results.json', 'w') as fd:\n",
    "    json.dump({'energies': energies,\n",
    "               'times': times,\n",
    "               'nkpts': nkpts},\n",
    "              fd)\n",
    "\n",
    "```"
   ]
  },
  {
   "cell_type": "markdown",
   "id": "ac458cce-84bd-4d69-85c7-0b7760e3ffac",
   "metadata": {},
   "source": [
    "Run the script from the command-line with\n",
    "```\n",
    "gpaw -P 4 python kpts_parallel.py\n",
    "```\n",
    "\n",
    "where `gpaw python` runs a special Python interpreter and the `-P 4` option runs this over 4 MPI tasks."
   ]
  },
  {
   "cell_type": "code",
   "execution_count": 56,
   "id": "053ccad8-3cbd-4305-b15a-13902ff1dcbe",
   "metadata": {
    "tags": []
   },
   "outputs": [
    {
     "data": {
      "text/plain": [
       "Text(0.5, 0, 'number of k-points')"
      ]
     },
     "execution_count": 56,
     "metadata": {},
     "output_type": "execute_result"
    },
    {
     "data": {
      "image/png": "[encoded data removed]",
      "text/plain": [
       "<Figure size 640x480 with 3 Axes>"
      ]
     },
     "metadata": {},
     "output_type": "display_data"
    }
   ],
   "source": [
    "import json\n",
    "with open('parallel_results.json', 'r') as fd:\n",
    "    parallel_data = json.load(fd)\n",
    "\n",
    "fig, axes = plt.subplots(nrows=3, sharex=True)\n",
    "axes[0].plot(nkpts, energies, 'o-', label='serial')\n",
    "axes[0].plot(parallel_data['nkpts'], parallel_data['energies'], 'o', label='parallel')\n",
    "axes[0].set_ylabel('energy / eV')\n",
    "axes[0].legend()\n",
    "\n",
    "axes[1].plot(nkpts, times, 'o-', label='serial')\n",
    "axes[1].plot(parallel_data['nkpts'], parallel_data['times'], 'o-', label='parallel')\n",
    "axes[1].set_ylabel('Calculation time / s')\n",
    "axes[1].legend()\n",
    "axes[1].set_ylim([0, None])\n",
    "\n",
    "axes[2].plot(nkpts, np.asarray(times) / parallel_data['times'], label='4 cores')\n",
    "axes[2].set_ylabel('Speed-up factor')\n",
    "axes[2].set_xlabel('number of k-points')"
   ]
  },
  {
   "cell_type": "markdown",
   "id": "87260c18-517f-4ba7-80d1-89ad1e16b8d7",
   "metadata": {},
   "source": [
    "Hopefully, running in parallel did not change the results! We see that the parallel calculation is faster, but not 4 times faster.\n",
    "\n",
    "The parallel Python process essentially runs 4 copies of the script. The GPAW part is smart enough to coordinate, but the copied processes can become obvious when we do things like `print`, and can cause data corruption when multiple processes try to write to the same file. `parprint` and `paropen` are provided in ASE to handle these common cases: for other scenarios it may be necessary to use logic with `ase.parallel.world`. For more information see the relevant [GPAW docs](https://wiki.fysik.dtu.dk/gpaw/documentation/parallel_runs/parallel_runs.html) and [ASE docs](https://wiki.fysik.dtu.dk/ase/ase/parallel.html)"
   ]
  },
  {
   "cell_type": "markdown",
   "id": "af5a064b-4db0-4fb0-934e-b3999985541a",
   "metadata": {},
   "source": [
    "## Espresso\n",
    "\n",
    "Maybe not used here yet, use to show more advanced calculations, band structure etc."
   ]
  },
  {
   "cell_type": "code",
   "execution_count": null,
   "id": "818f01b2-35b3-4b49-80f8-4be189797320",
   "metadata": {
    "tags": []
   },
   "outputs": [],
   "source": [
    "from pathlib import Path\n",
    "# Customise to espresso pseudopotential path\n",
    "pseudo_dir = str(\n",
    "    Path.home() / 'opt/espresso_sssp/SSSP_1.1.2_PBE_efficiency')\n",
    "\n",
    "calc = Espresso(pseudo_dir=pseudo_dir, kpts=(3, 3, 3),\n",
    "                tprnfor=True, tstress=True, # enable stress/force calc\n",
    "                pseudopotentials={'Si': 'Si.pbe-n-rrkjus_psl.1.0.0.UPF'})"
   ]
  }
 ],
 "metadata": {
  "kernelspec": {
   "display_name": "ase-tutorials",
   "language": "python",
   "name": "ase-tutorials"
  },
  "language_info": {
   "codemirror_mode": {
    "name": "ipython",
    "version": 3
   },
   "file_extension": ".py",
   "mimetype": "text/x-python",
   "name": "python",
   "nbconvert_exporter": "python",
   "pygments_lexer": "ipython3",
   "version": "3.10.0"
  }
 },
 "nbformat": 4,
 "nbformat_minor": 5
}
