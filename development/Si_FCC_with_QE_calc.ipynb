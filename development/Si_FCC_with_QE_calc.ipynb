{
 "cells": [
  {
   "attachments": {},
   "cell_type": "markdown",
   "metadata": {},
   "source": [
    "Tutorial with  first examples of how setting up an espresso  calculator and perform a Total Energy and bast structure calculations. "
   ]
  },
  {
   "cell_type": "markdown",
   "metadata": {},
   "source": []
  },
  {
   "attachments": {},
   "cell_type": "markdown",
   "metadata": {},
   "source": [
    "1. Setting up the system.  "
   ]
  },
  {
   "cell_type": "code",
   "execution_count": 196,
   "metadata": {},
   "outputs": [],
   "source": [
    "from ase import Atoms\n",
    "from ase.lattice import FCC\n",
    "from ase.visualize import  view\n",
    "\n",
    "si_fcc = Atoms(symbols='Si2',\n",
    "               cell = FCC(a=10.20 * 0.529177).tocell(),\n",
    "               scaled_positions=[(0.0, 0.0, 0.0),\n",
    "                                 (0.25, 0.25, 0.25)],\n",
    "               pbc=True)\n"
   ]
  },
  {
   "attachments": {},
   "cell_type": "markdown",
   "metadata": {},
   "source": [
    "setup basic PW calculator for scf calculation:\n",
    "\n",
    "1. The main input variables: "
   ]
  },
  {
   "cell_type": "code",
   "execution_count": 197,
   "metadata": {},
   "outputs": [],
   "source": [
    "control = {'calculation': \"scf\",\n",
    "           'prefix': \"si_fcc\",\n",
    "           'pseudo_dir': \"qe-7.2/pseudo\",\n",
    "           'tprnfor': True,\n",
    "           'tstress': True}\n",
    "system = {'ecutwfc': 35.00}\n",
    "electrons = {'diagonalization':'davidson',\n",
    "             'conv_thr': 1.e-8}"
   ]
  },
  {
   "attachments": {},
   "cell_type": "markdown",
   "metadata": {},
   "source": [
    "2. The pseudopotentials for each atomic species\n",
    "2. The MP mesh for kpoints \n",
    "2. The offset of the MP mesh \n",
    "2. The command for starting the calculations "
   ]
  },
  {
   "cell_type": "code",
   "execution_count": 198,
   "metadata": {},
   "outputs": [],
   "source": [
    "atomic_species = {'Si':'Si.pz-vbc.UPF'}\n",
    "kpts = [8,8,8] #8X8X8 MP k-point mesh \n",
    "koffset = [0,0,0] \n"
   ]
  },
  {
   "attachments": {},
   "cell_type": "markdown",
   "metadata": {},
   "source": [
    "6. set pw command. For the correct interaction with the ase calculator:\n",
    "    * the input file must be `{label}.pwi`\n",
    "    * the output file must be `{label}.pwo` "
   ]
  },
  {
   "cell_type": "code",
   "execution_count": 199,
   "metadata": {},
   "outputs": [],
   "source": [
    "\n",
    "def pwcommand (label='scf'): \n",
    "    return f\"mpirun -np 4 /qe-7.2/bin/pw.x -i {label}.pwi > {label}.pwo\" "
   ]
  },
  {
   "cell_type": "code",
   "execution_count": 200,
   "metadata": {},
   "outputs": [
    {
     "data": {
      "text/plain": [
       "'mpirun -np 4 /scratch/pdelugas/build_intel/bin/pw.x -i scf.pwi > scf.pwo'"
      ]
     },
     "execution_count": 200,
     "metadata": {},
     "output_type": "execute_result"
    }
   ],
   "source": [
    "pwcommand('scf')"
   ]
  },
  {
   "cell_type": "code",
   "execution_count": 201,
   "metadata": {},
   "outputs": [],
   "source": [
    "from ase.calculators.espresso import Espresso as Qepw\n",
    "scf_calc = QEpw(label='scf',\n",
    "                command = pwcommand('scf'),\n",
    "                input_data={'control': control,\n",
    "                            'system': system,\n",
    "                            'electrons': electrons},\n",
    "                pseudopotentials=atomic_species,\n",
    "                kpts=[8,8,8],\n",
    "                koffset=[1,1,1])\n"
   ]
  },
  {
   "cell_type": "code",
   "execution_count": 205,
   "metadata": {},
   "outputs": [
    {
     "data": {
      "text/plain": [
       "(Properties({'energy': -215.69011555407923, 'free_energy': -215.69011555407923, 'natoms': 2, 'forces': array([[-0.,  0.,  0.],\n",
       "       [ 0., -0., -0.]]), 'stress': array([-0.00065006, -0.00065006, -0.00065006,  0.        ,  0.        ,\n",
       "       -0.        ])})"
      ]
     },
     "execution_count": 205,
     "metadata": {},
     "output_type": "execute_result"
    }
   ],
   "source": [
    "si_fcc.calc = scf_calc\n",
    "si_fcc.get_properties(['energy'])"
   ]
  },
  {
   "attachments": {},
   "cell_type": "markdown",
   "metadata": {},
   "source": [
    "Setup the calculator for computing the bands. \n",
    "1. First we generate the k-point path using ASE and its default settings:"
   ]
  },
  {
   "cell_type": "code",
   "execution_count": 206,
   "metadata": {},
   "outputs": [
    {
     "data": {
      "text/plain": [
       "BandPath(path='GXWKGLUWLK,UX', cell=[3x3], special_points={GKLUWX}, kpts=[37x3])"
      ]
     },
     "execution_count": 206,
     "metadata": {},
     "output_type": "execute_result"
    }
   ],
   "source": [
    "kpointpath = si_fcc.cell.bandpath()"
   ]
  },
  {
   "attachments": {},
   "cell_type": "markdown",
   "metadata": {},
   "source": [
    "2. Then we setup the new calculator for bands:"
   ]
  },
  {
   "cell_type": "code",
   "execution_count": 207,
   "metadata": {},
   "outputs": [
    {
     "data": {
      "text/plain": [
       "['__abstractmethods__',\n",
       " '__annotations__',\n",
       " '__class__',\n",
       " '__delattr__',\n",
       " '__dict__',\n",
       " '__dir__',\n",
       " '__doc__',\n",
       " '__eq__',\n",
       " '__format__',\n",
       " '__ge__',\n",
       " '__getattribute__',\n",
       " '__gt__',\n",
       " '__hash__',\n",
       " '__init__',\n",
       " '__init_subclass__',\n",
       " '__le__',\n",
       " '__lt__',\n",
       " '__module__',\n",
       " '__ne__',\n",
       " '__new__',\n",
       " '__reduce__',\n",
       " '__reduce_ex__',\n",
       " '__repr__',\n",
       " '__setattr__',\n",
       " '__sizeof__',\n",
       " '__slots__',\n",
       " '__str__',\n",
       " '__subclasshook__',\n",
       " '__weakref__',\n",
       " '_abc_impl',\n",
       " '_deprecated',\n",
       " '_deprecated_get_spin_polarized',\n",
       " '_directory',\n",
       " 'atoms',\n",
       " 'band_structure',\n",
       " 'calc',\n",
       " 'calculate',\n",
       " 'calculate_numerical_forces',\n",
       " 'calculate_numerical_stress',\n",
       " 'calculate_properties',\n",
       " 'calculation_required',\n",
       " 'check_state',\n",
       " 'command',\n",
       " 'default_parameters',\n",
       " 'directory',\n",
       " 'discard_results_on_any_change',\n",
       " 'export_properties',\n",
       " 'get_atoms',\n",
       " 'get_charges',\n",
       " 'get_default_parameters',\n",
       " 'get_dipole_moment',\n",
       " 'get_eigenvalues',\n",
       " 'get_fermi_level',\n",
       " 'get_forces',\n",
       " 'get_ibz_k_points',\n",
       " 'get_k_point_weights',\n",
       " 'get_magnetic_moment',\n",
       " 'get_magnetic_moments',\n",
       " 'get_number_of_spins',\n",
       " 'get_potential_energies',\n",
       " 'get_potential_energy',\n",
       " 'get_property',\n",
       " 'get_spin_polarized',\n",
       " 'get_stress',\n",
       " 'get_stresses',\n",
       " 'ignored_changes',\n",
       " 'implemented_properties',\n",
       " 'label',\n",
       " 'name',\n",
       " 'parameters',\n",
       " 'prefix',\n",
       " 'read',\n",
       " 'read_atoms',\n",
       " 'read_results',\n",
       " 'reset',\n",
       " 'results',\n",
       " 'set',\n",
       " 'set_label',\n",
       " 'todict',\n",
       " 'write_input']"
      ]
     },
     "execution_count": 207,
     "metadata": {},
     "output_type": "execute_result"
    }
   ],
   "source": [
    "control.update({'calculation':\"bands\"})\n",
    "bands_calc = QEpw(label='bands',\n",
    "                  input_data={'control': control,\n",
    "                              'system': system,\n",
    "                              'electrons':electrons},\n",
    "                  pseudopotentials=atomic_species, \n",
    "                  command=pwcommand(label='bands'),\n",
    "                  kpts=kpointpath) \n"
   ]
  },
  {
   "cell_type": "code",
   "execution_count": null,
   "metadata": {},
   "outputs": [],
   "source": []
  }
 ],
 "metadata": {
  "kernelspec": {
   "display_name": "env",
   "language": "python",
   "name": "python3"
  },
  "language_info": {
   "codemirror_mode": {
    "name": "ipython",
    "version": 3
   },
   "file_extension": ".py",
   "mimetype": "text/x-python",
   "name": "python",
   "nbconvert_exporter": "python",
   "pygments_lexer": "ipython3",
   "version": "3.9.7"
  },
  "orig_nbformat": 4
 },
 "nbformat": 4,
 "nbformat_minor": 2
}
